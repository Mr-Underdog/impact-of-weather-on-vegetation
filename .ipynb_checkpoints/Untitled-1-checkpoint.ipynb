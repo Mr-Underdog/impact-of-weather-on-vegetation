{
 "cells": [
  {
   "cell_type": "code",
   "execution_count": 1,
   "id": "b17827fc",
   "metadata": {},
   "outputs": [
    {
     "name": "stdout",
     "output_type": "stream",
     "text": [
      "Requirement already satisfied: earthengine-api in c:\\users\\vedansh rai\\onedrive\\desktop\\pythonproject\\.venv\\lib\\site-packages (1.5.11)\n",
      "Requirement already satisfied: google-cloud-storage in c:\\users\\vedansh rai\\onedrive\\desktop\\pythonproject\\.venv\\lib\\site-packages (from earthengine-api) (3.1.0)\n",
      "Requirement already satisfied: google-api-python-client>=1.12.1 in c:\\users\\vedansh rai\\onedrive\\desktop\\pythonproject\\.venv\\lib\\site-packages (from earthengine-api) (2.167.0)\n",
      "Requirement already satisfied: google-auth>=1.4.1 in c:\\users\\vedansh rai\\onedrive\\desktop\\pythonproject\\.venv\\lib\\site-packages (from earthengine-api) (2.39.0)\n",
      "Requirement already satisfied: google-auth-httplib2>=0.0.3 in c:\\users\\vedansh rai\\onedrive\\desktop\\pythonproject\\.venv\\lib\\site-packages (from earthengine-api) (0.2.0)\n",
      "Requirement already satisfied: httplib2<1dev,>=0.9.2 in c:\\users\\vedansh rai\\onedrive\\desktop\\pythonproject\\.venv\\lib\\site-packages (from earthengine-api) (0.22.0)\n",
      "Requirement already satisfied: requests in c:\\users\\vedansh rai\\onedrive\\desktop\\pythonproject\\.venv\\lib\\site-packages (from earthengine-api) (2.32.3)\n",
      "Requirement already satisfied: google-api-core!=2.0.*,!=2.1.*,!=2.2.*,!=2.3.0,<3.0.0,>=1.31.5 in c:\\users\\vedansh rai\\onedrive\\desktop\\pythonproject\\.venv\\lib\\site-packages (from google-api-python-client>=1.12.1->earthengine-api) (2.24.2)\n",
      "Requirement already satisfied: uritemplate<5,>=3.0.1 in c:\\users\\vedansh rai\\onedrive\\desktop\\pythonproject\\.venv\\lib\\site-packages (from google-api-python-client>=1.12.1->earthengine-api) (4.1.1)\n",
      "Requirement already satisfied: cachetools<6.0,>=2.0.0 in c:\\users\\vedansh rai\\onedrive\\desktop\\pythonproject\\.venv\\lib\\site-packages (from google-auth>=1.4.1->earthengine-api) (5.5.2)\n",
      "Requirement already satisfied: pyasn1-modules>=0.2.1 in c:\\users\\vedansh rai\\onedrive\\desktop\\pythonproject\\.venv\\lib\\site-packages (from google-auth>=1.4.1->earthengine-api) (0.4.2)\n",
      "Requirement already satisfied: rsa<5,>=3.1.4 in c:\\users\\vedansh rai\\onedrive\\desktop\\pythonproject\\.venv\\lib\\site-packages (from google-auth>=1.4.1->earthengine-api) (4.9.1)\n",
      "Requirement already satisfied: pyparsing!=3.0.0,!=3.0.1,!=3.0.2,!=3.0.3,<4,>=2.4.2 in c:\\users\\vedansh rai\\onedrive\\desktop\\pythonproject\\.venv\\lib\\site-packages (from httplib2<1dev,>=0.9.2->earthengine-api) (3.2.3)\n",
      "Requirement already satisfied: google-cloud-core<3.0dev,>=2.4.2 in c:\\users\\vedansh rai\\onedrive\\desktop\\pythonproject\\.venv\\lib\\site-packages (from google-cloud-storage->earthengine-api) (2.4.3)\n",
      "Requirement already satisfied: google-resumable-media>=2.7.2 in c:\\users\\vedansh rai\\onedrive\\desktop\\pythonproject\\.venv\\lib\\site-packages (from google-cloud-storage->earthengine-api) (2.7.2)\n",
      "Requirement already satisfied: google-crc32c<2.0dev,>=1.0 in c:\\users\\vedansh rai\\onedrive\\desktop\\pythonproject\\.venv\\lib\\site-packages (from google-cloud-storage->earthengine-api) (1.7.1)\n",
      "Requirement already satisfied: charset-normalizer<4,>=2 in c:\\users\\vedansh rai\\onedrive\\desktop\\pythonproject\\.venv\\lib\\site-packages (from requests->earthengine-api) (3.4.1)\n",
      "Requirement already satisfied: idna<4,>=2.5 in c:\\users\\vedansh rai\\onedrive\\desktop\\pythonproject\\.venv\\lib\\site-packages (from requests->earthengine-api) (3.10)\n",
      "Requirement already satisfied: urllib3<3,>=1.21.1 in c:\\users\\vedansh rai\\onedrive\\desktop\\pythonproject\\.venv\\lib\\site-packages (from requests->earthengine-api) (2.4.0)\n",
      "Requirement already satisfied: certifi>=2017.4.17 in c:\\users\\vedansh rai\\onedrive\\desktop\\pythonproject\\.venv\\lib\\site-packages (from requests->earthengine-api) (2025.1.31)\n",
      "Requirement already satisfied: googleapis-common-protos<2.0.0,>=1.56.2 in c:\\users\\vedansh rai\\onedrive\\desktop\\pythonproject\\.venv\\lib\\site-packages (from google-api-core!=2.0.*,!=2.1.*,!=2.2.*,!=2.3.0,<3.0.0,>=1.31.5->google-api-python-client>=1.12.1->earthengine-api) (1.70.0)\n",
      "Requirement already satisfied: protobuf!=3.20.0,!=3.20.1,!=4.21.0,!=4.21.1,!=4.21.2,!=4.21.3,!=4.21.4,!=4.21.5,<7.0.0,>=3.19.5 in c:\\users\\vedansh rai\\onedrive\\desktop\\pythonproject\\.venv\\lib\\site-packages (from google-api-core!=2.0.*,!=2.1.*,!=2.2.*,!=2.3.0,<3.0.0,>=1.31.5->google-api-python-client>=1.12.1->earthengine-api) (6.30.2)\n",
      "Requirement already satisfied: proto-plus<2.0.0,>=1.22.3 in c:\\users\\vedansh rai\\onedrive\\desktop\\pythonproject\\.venv\\lib\\site-packages (from google-api-core!=2.0.*,!=2.1.*,!=2.2.*,!=2.3.0,<3.0.0,>=1.31.5->google-api-python-client>=1.12.1->earthengine-api) (1.26.1)\n",
      "Requirement already satisfied: pyasn1<0.7.0,>=0.6.1 in c:\\users\\vedansh rai\\onedrive\\desktop\\pythonproject\\.venv\\lib\\site-packages (from pyasn1-modules>=0.2.1->google-auth>=1.4.1->earthengine-api) (0.6.1)\n",
      "Note: you may need to restart the kernel to use updated packages.\n"
     ]
    },
    {
     "name": "stderr",
     "output_type": "stream",
     "text": [
      "\n",
      "[notice] A new release of pip is available: 23.2.1 -> 25.0.1\n",
      "[notice] To update, run: python.exe -m pip install --upgrade pip\n"
     ]
    }
   ],
   "source": [
    "pip install earthengine-api"
   ]
  },
  {
   "cell_type": "code",
   "execution_count": 2,
   "id": "210bb34d",
   "metadata": {},
   "outputs": [
    {
     "data": {
      "text/plain": [
       "True"
      ]
     },
     "execution_count": 2,
     "metadata": {},
     "output_type": "execute_result"
    }
   ],
   "source": [
    "import ee\n",
    "ee.Authenticate()\n"
   ]
  },
  {
   "cell_type": "code",
   "execution_count": 3,
   "id": "8e83a9e3",
   "metadata": {},
   "outputs": [],
   "source": [
    "ee.Initialize()\n"
   ]
  },
  {
   "cell_type": "code",
   "execution_count": 4,
   "id": "2482b33d",
   "metadata": {},
   "outputs": [],
   "source": [
    "#pip install folium\n"
   ]
  },
  {
   "cell_type": "code",
   "execution_count": 5,
   "id": "0fb59e10",
   "metadata": {},
   "outputs": [],
   "source": [
    "#pip install setuptools"
   ]
  },
  {
   "cell_type": "code",
   "execution_count": 6,
   "id": "f01c050c",
   "metadata": {},
   "outputs": [],
   "source": [
    "#pip install geemap"
   ]
  },
  {
   "cell_type": "code",
   "execution_count": 7,
   "id": "22a7dda0",
   "metadata": {},
   "outputs": [],
   "source": [
    "#pip install pandas"
   ]
  },
  {
   "cell_type": "code",
   "execution_count": 8,
   "id": "df917d4a",
   "metadata": {},
   "outputs": [],
   "source": [
    "#pip install numpy\n"
   ]
  },
  {
   "cell_type": "code",
   "execution_count": 9,
   "id": "ad4d0ea7",
   "metadata": {},
   "outputs": [],
   "source": [
    "#pip install matplotlib"
   ]
  },
  {
   "cell_type": "code",
   "execution_count": 10,
   "id": "c62a2ada",
   "metadata": {},
   "outputs": [],
   "source": [
    "#pip install scipy"
   ]
  },
  {
   "cell_type": "code",
   "execution_count": 11,
   "id": "4b284dbe",
   "metadata": {},
   "outputs": [],
   "source": [
    "import geemap\n",
    "import folium\n",
    "import pandas as pd\n",
    "import numpy as np\n",
    "import matplotlib.pyplot as plt\n",
    "import scipy.stats as stats"
   ]
  },
  {
   "cell_type": "code",
   "execution_count": 12,
   "id": "f7d7eac5",
   "metadata": {},
   "outputs": [
    {
     "data": {
      "text/html": [
       "\n",
       "            <style>\n",
       "                .geemap-dark {\n",
       "                    --jp-widgets-color: white;\n",
       "                    --jp-widgets-label-color: white;\n",
       "                    --jp-ui-font-color1: white;\n",
       "                    --jp-layout-color2: #454545;\n",
       "                    background-color: #383838;\n",
       "                }\n",
       "\n",
       "                .geemap-dark .jupyter-button {\n",
       "                    --jp-layout-color3: #383838;\n",
       "                }\n",
       "\n",
       "                .geemap-colab {\n",
       "                    background-color: var(--colab-primary-surface-color, white);\n",
       "                }\n",
       "\n",
       "                .geemap-colab .jupyter-button {\n",
       "                    --jp-layout-color3: var(--colab-primary-surface-color, white);\n",
       "                }\n",
       "            </style>\n",
       "            "
      ],
      "text/plain": [
       "<IPython.core.display.HTML object>"
      ]
     },
     "metadata": {},
     "output_type": "display_data"
    },
    {
     "data": {
      "text/plain": [
       "'# Define the region (India)\\nregion = ee.Geometry.Polygon(\\n    [[\\n        [76.8, 28.4],  # Southwest corner\\n        [77.3, 28.4],  # Southeast corner\\n        [77.3, 28.9],  # Northeast corner\\n        [76.8, 28.9],  # Northwest corner\\n        [76.8, 28.4]   # Close the polygon\\n    ]]\\n)\\n\\n# Sentinel-2 cloud mask\\ndef maskS2clouds(image):\\n    qa = image.select(\\'QA60\\')\\n    cloudBitMask = 1 << 10\\n    cirrusBitMask = 1 << 11\\n    mask = qa.bitwiseAnd(cloudBitMask).eq(0).And(qa.bitwiseAnd(cirrusBitMask).eq(0))\\n    # Ensure we preserve the original timestamp\\n    return image.updateMask(mask).divide(10000)\\n\\n# Load and filter Sentinel-2\\nsentinel = (ee.ImageCollection(\"COPERNICUS/S2_HARMONIZED\")\\n            .filterBounds(region)\\n            .filterDate(\\'2023-01-01\\', \\'2023-01-31\\')\\n            .filter(ee.Filter.lt(\\'CLOUDY_PIXEL_PERCENTAGE\\', 20)))\\n\\n# Apply cloud masking - this should keep original metadata\\nsentinel = sentinel.map(maskS2clouds)\\n\\n# NDVI calculation without using date()\\ndef addNDVI(image):\\n    ndvi = image.normalizedDifference([\\'B8\\', \\'B4\\']).rename(\\'NDVI\\')\\n    # Preserve all original properties\\n    return image.addBands(ndvi)\\n\\n# Apply NDVI calculation\\nsentinel = sentinel.map(addNDVI)\\n\\n# Calculate NDVI median image - avoiding date() function\\nndvi = sentinel.select(\\'NDVI\\').median().clip(region)\\n\\n# ERA5-Land Temperature (2m temp in Celsius)\\nera5 = (ee.ImageCollection(\"ECMWF/ERA5_LAND/DAILY_AGGR\")\\n        .filterBounds(region)\\n        .filterDate(\\'2023-01-01\\', \\'2023-01-31\\')\\n        .select(\\'temperature_2m\\'))\\n\\ntemp_c = era5.median().subtract(273.15).rename(\\'Temperature_C\\').clip(region)\\n\\n# ERA5 Wind Speed\\nera5_wind = (ee.ImageCollection(\"ECMWF/ERA5_LAND/DAILY_AGGR\")\\n             .filterDate(\\'2023-01-01\\', \\'2023-01-31\\')\\n             .filterBounds(region)\\n             .select(\\'u_component_of_wind_10m\\', \\'v_component_of_wind_10m\\'))\\n\\nwind_u = era5_wind.select(\\'u_component_of_wind_10m\\').median().clip(region)\\nwind_v = era5_wind.select(\\'v_component_of_wind_10m\\').median().clip(region)\\nwind_speed = wind_u.pow(2).add(wind_v.pow(2)).sqrt().rename(\\'Wind_Speed_ms\\')\\n\\n# CHIRPS Rainfall (mm/day)\\nchirps = (ee.ImageCollection(\"UCSB-CHG/CHIRPS/DAILY\")\\n          .filterBounds(region)\\n          .filterDate(\\'2023-01-01\\', \\'2023-01-31\\')\\n          .select(\\'precipitation\\'))\\nrain = chirps.sum().rename(\\'Rainfall_mm\\').clip(region)  # Changed median() to sum()\\n# ERA5-Land Solar radiation (J/m² → MJ/m²)\\nsolar = (ee.ImageCollection(\"ECMWF/ERA5_LAND/HOURLY\")\\n         .filterDate(\\'2023-01-01\\', \\'2023-01-31\\')\\n         .filterBounds(region)\\n         .select(\\'surface_solar_radiation_downwards\\'))\\n\\nsolar = solar.median().divide(1e6).rename(\\'Solar_MJ\\').clip(region)\\n\\n# Combine all layers into a single image for analysis\\ncombined = ndvi.addBands(temp_c).addBands(rain).addBands(solar).addBands(wind_speed)\\n\\n# Sample points for analysis\\n# Generate random points within the region\\nsample_points = ee.FeatureCollection.randomPoints(region, 500) \\n\\n# Sample the combined image at these points\\nsamples = combined.sampleRegions(\\n    collection=sample_points,\\n    scale=2000,\\n    geometries=True\\n)\\n\\n# Get the sample data as a list (this will be used for plotting)\\nsample_list = samples.getInfo()[\\'features\\']\\n\\n# Extract the data for plotting\\nndvi_values = [feature[\\'properties\\'][\\'NDVI\\'] for feature in sample_list]\\ntemp_values = [feature[\\'properties\\'][\\'Temperature_C\\'] for feature in sample_list]\\nrain_values = [feature[\\'properties\\'][\\'Rainfall_mm\\'] for feature in sample_list]\\nsolar_values = [feature[\\'properties\\'][\\'Solar_MJ\\'] for feature in sample_list]\\nwind_values = [feature[\\'properties\\'][\\'Wind_Speed_ms\\'] for feature in sample_list]\\n\\n# Create a dataframe for easier analysis\\ndf = pd.DataFrame({\\n    \\'NDVI\\': ndvi_values,\\n    \\'Temperature\\': temp_values,\\n    \\'Rainfall\\': rain_values,\\n    \\'Solar_Radiation\\': solar_values,\\n    \\'Wind_Speed\\': wind_values\\n})\\n\\n# Calculate correlation coefficients\\ncorr_temp = stats.pearsonr(df[\\'NDVI\\'], df[\\'Temperature\\'])[0]\\n# Handle potential constant rainfall data\\nif df[\\'Rainfall\\'].std() > 0:\\n    corr_rain = stats.pearsonr(df[\\'NDVI\\'], df[\\'Rainfall\\'])[0]\\nelse:\\n    corr_rain = float(\\'nan\\')  # Use NaN for undefined correlation\\ncorr_solar = stats.pearsonr(df[\\'NDVI\\'], df[\\'Solar_Radiation\\'])[0]\\ncorr_wind = stats.pearsonr(df[\\'NDVI\\'], df[\\'Wind_Speed\\'])[0]\\n\\n# Create visualizations\\nplt.figure(figsize=(20, 15))\\n\\n# 1. NDVI vs Temperature\\nplt.subplot(2, 2, 1)\\nplt.scatter(df[\\'Temperature\\'], df[\\'NDVI\\'], alpha=0.5)\\nplt.title(f\\'NDVI vs Temperature (r = {corr_temp:.2f})\\')\\nplt.xlabel(\\'Temperature (°C)\\')\\nplt.ylabel(\\'NDVI\\')\\n# Add a trend line\\nz = np.polyfit(df[\\'Temperature\\'], df[\\'NDVI\\'], 1)\\np = np.poly1d(z)\\nplt.plot(df[\\'Temperature\\'], p(df[\\'Temperature\\']), \"r--\")\\n\\n# 2. NDVI vs Rainfall - with error handling\\nplt.subplot(2, 2, 2)\\nplt.scatter(df[\\'Rainfall\\'], df[\\'NDVI\\'], alpha=0.5)\\n# Check if rainfall data varies\\nif df[\\'Rainfall\\'].std() > 0:\\n    plt.title(f\\'NDVI vs Rainfall (r = {corr_rain:.2f})\\')\\n    # Add a trend line only if there\\'s variation\\n    z = np.polyfit(df[\\'Rainfall\\'], df[\\'NDVI\\'], 1)\\n    p = np.poly1d(z)\\n    plt.plot(df[\\'Rainfall\\'], p(df[\\'Rainfall\\']), \"r--\")\\nelse:\\n    plt.title(\\'NDVI vs Rainfall (r = undefined)\\')\\nplt.xlabel(\\'Rainfall (mm/day)\\')\\nplt.ylabel(\\'NDVI\\')\\n\\n# 3. NDVI vs Solar Radiation\\nplt.subplot(2, 2, 3)\\nplt.scatter(df[\\'Solar_Radiation\\'], df[\\'NDVI\\'], alpha=0.5)\\nplt.title(f\\'NDVI vs Solar Radiation (r = {corr_solar:.2f})\\')\\nplt.xlabel(\\'Solar Radiation (MJ/m²)\\')\\nplt.ylabel(\\'NDVI\\')\\n# Add a trend line\\nz = np.polyfit(df[\\'Solar_Radiation\\'], df[\\'NDVI\\'], 1)\\np = np.poly1d(z)\\nplt.plot(df[\\'Solar_Radiation\\'], p(df[\\'Solar_Radiation\\']), \"r--\")\\n\\n# 4. NDVI vs Wind Speed\\nplt.subplot(2, 2, 4)\\nplt.scatter(df[\\'Wind_Speed\\'], df[\\'NDVI\\'], alpha=0.5)\\nplt.title(f\\'NDVI vs Wind Speed (r = {corr_wind:.2f})\\')\\nplt.xlabel(\\'Wind Speed (m/s)\\')\\nplt.ylabel(\\'NDVI\\')\\n# Add a trend line\\nz = np.polyfit(df[\\'Wind_Speed\\'], df[\\'NDVI\\'], 1)\\np = np.poly1d(z)\\nplt.plot(df[\\'Wind_Speed\\'], p(df[\\'Wind_Speed\\']), \"r--\")\\n\\nplt.tight_layout()\\nplt.savefig(\\'ndvi_weather_relationships.png\\')\\nplt.show()\\n\\n# Create boxplots to show NDVI distribution by temperature and rainfall categories\\nplt.figure(figsize=(12, 6))\\n# Create temperature categories\\ndf[\\'Temp_Category\\'] = pd.qcut(df[\\'Temperature\\'], 4, labels=[\\'Cool\\', \\'Mild\\', \\'Warm\\', \\'Hot\\'])\\nplt.subplot(1, 2, 1)\\ndf.boxplot(column=\\'NDVI\\', by=\\'Temp_Category\\')\\nplt.title(\\'NDVI Distribution by Temperature Category\\')\\nplt.suptitle(\\'\\')  # Remove default title\\n\\n# Create a boxplot for rainfall with error handling\\nplt.subplot(1, 2, 2)\\n# Check if rainfall data has enough variation for categorical analysis\\nif df[\\'Rainfall\\'].nunique() >= 4:\\n    # If enough variation, create quartiles\\n    df[\\'Rain_Category\\'] = pd.qcut(df[\\'Rainfall\\'], 4, labels=[\\'Dry\\', \\'Low\\', \\'Moderate\\', \\'Wet\\'])\\n    df.boxplot(column=\\'NDVI\\', by=\\'Rain_Category\\')\\n    plt.title(\\'NDVI Distribution by Rainfall Category\\')\\nelif df[\\'Rainfall\\'].nunique() > 1:\\n    # If some variation but not enough for quartiles, try fewer bins\\n    num_bins = min(df[\\'Rainfall\\'].nunique(), 3)\\n    df[\\'Rain_Category\\'] = pd.qcut(df[\\'Rainfall\\'], num_bins, labels=[\\'Lower\\', \\'Middle\\', \\'Higher\\'][:num_bins])\\n    df.boxplot(column=\\'NDVI\\', by=\\'Rain_Category\\')\\n    plt.title(\\'NDVI Distribution by Rainfall Category\\')\\nelse:\\n    # If no variation, show a message\\n    plt.text(0.5, 0.5, \\'Insufficient rainfall variation\\nfor categorical analysis\\', \\n             horizontalalignment=\\'center\\', verticalalignment=\\'center\\',\\n             transform=plt.gca().transAxes, fontsize=12)\\n    plt.title(\\'No Rainfall Variation\\')\\n\\nplt.tight_layout()\\nplt.savefig(\\'ndvi_boxplots.png\\')\\nplt.show()\\n\\n# Alternative time series approach that doesn\\'t use date()\\ndef get_ndvi_timeseries_alt():\\n    # Get all available Sentinel-2 images that match our criteria\\n    all_images = sentinel.toList(sentinel.size())\\n\\n    # For time series, we\\'ll extract the timestamp and format it\\n    ndvi_series = []\\n    size = sentinel.size().getInfo()\\n\\n    for i in range(size):\\n        try:\\n            img = ee.Image(all_images.get(i))\\n            timestamp = img.get(\\'system:time_start\\')\\n\\n            # Only proceed if we have a timestamp\\n            if timestamp:\\n                date_string = ee.Date(timestamp).format(\\'YYYY-MM-dd\\').getInfo()\\n\\n                # Calculate mean NDVI for this image\\n                mean_ndvi = img.select(\\'NDVI\\').reduceRegion(\\n                    reducer=ee.Reducer.mean(),\\n                    geometry=region,\\n                    scale=1000\\n                ).get(\\'NDVI\\').getInfo()\\n\\n                if mean_ndvi is not None:\\n                    ndvi_series.append({\\n                        \\'date\\': date_string,\\n                        \\'ndvi\\': mean_ndvi\\n                    })\\n        except Exception as e:\\n            print(f\"Error processing image {i}: {e}\")\\n            continue\\n\\n    return pd.DataFrame(ndvi_series)\\n\\nprint(\"Summary Statistics:\")\\nprint(df.describe())\\n\\nprint(\"\\nCorrelation Matrix:\")\\nprint(df.corr())\\n\\n# Print correlation significance tests with error handling for rainfall\\nprint(\"\\nCorrelation Significance Tests:\")\\nprint(f\"NDVI vs Temperature: r={corr_temp:.3f}, p-value={stats.pearsonr(df[\\'NDVI\\'], df[\\'Temperature\\'])[1]:.4f}\")\\nif df[\\'Rainfall\\'].std() > 0:\\n    p_val_rain = stats.pearsonr(df[\\'NDVI\\'], df[\\'Rainfall\\'])[1]\\n    print(f\"NDVI vs Rainfall: r={corr_rain:.3f}, p-value={p_val_rain:.4f}\")\\nelse:\\n    print(\"NDVI vs Rainfall: Cannot calculate correlation (no rainfall variation)\")\\nprint(f\"NDVI vs Solar Radiation: r={corr_solar:.3f}, p-value={stats.pearsonr(df[\\'NDVI\\'], df[\\'Solar_Radiation\\'])[1]:.4f}\")\\nprint(f\"NDVI vs Wind Speed: r={corr_wind:.3f}, p-value={stats.pearsonr(df[\\'NDVI\\'], df[\\'Wind_Speed\\'])[1]:.4f}\")\\n\\n# Map display\\nMap = geemap.Map(center=[28.65, 77.05], zoom=9)\\nMap.addLayer(ndvi, {\\'min\\': 0, \\'max\\': 1, \\'palette\\': [\\'brown\\', \\'yellow\\', \\'green\\']}, \\'NDVI\\')\\nMap.addLayer(temp_c, {\\'min\\': 10, \\'max\\': 40, \\'palette\\': [\\'blue\\', \\'white\\', \\'red\\']}, \\'Temperature (C)\\')\\nMap.addLayer(rain, {\\'min\\': 0, \\'palette\\': [\\'white\\', \\'blue\\']}, \\'Rainfall\\')  # Removed max parameter\\nMap.addLayer(solar, {\\'min\\': 0, \\'max\\': 25, \\'palette\\': [\\'yellow\\', \\'orange\\', \\'red\\']}, \\'Solar Radiation (MJ)\\')\\nMap.addLayer(wind_speed, {\\'min\\': 0, \\'max\\': 20, \\'palette\\': [\\'lightblue\\', \\'blue\\', \\'purple\\']}, \\'Wind Speed (m/s)\\')\\nMap.addLayerControl()\\n\\n# Return the map and dataframe\\nMap  # Display the map\\ndf.head()  # Display the first few rows of data'"
      ]
     },
     "execution_count": 12,
     "metadata": {},
     "output_type": "execute_result"
    }
   ],
   "source": [
    "'''# Define the region (India)\n",
    "region = ee.Geometry.Polygon(\n",
    "    [[\n",
    "        [76.8, 28.4],  # Southwest corner\n",
    "        [77.3, 28.4],  # Southeast corner\n",
    "        [77.3, 28.9],  # Northeast corner\n",
    "        [76.8, 28.9],  # Northwest corner\n",
    "        [76.8, 28.4]   # Close the polygon\n",
    "    ]]\n",
    ")\n",
    "\n",
    "# Sentinel-2 cloud mask\n",
    "def maskS2clouds(image):\n",
    "    qa = image.select('QA60')\n",
    "    cloudBitMask = 1 << 10\n",
    "    cirrusBitMask = 1 << 11\n",
    "    mask = qa.bitwiseAnd(cloudBitMask).eq(0).And(qa.bitwiseAnd(cirrusBitMask).eq(0))\n",
    "    # Ensure we preserve the original timestamp\n",
    "    return image.updateMask(mask).divide(10000)\n",
    "\n",
    "# Load and filter Sentinel-2\n",
    "sentinel = (ee.ImageCollection(\"COPERNICUS/S2_HARMONIZED\")\n",
    "            .filterBounds(region)\n",
    "            .filterDate('2023-01-01', '2023-01-31')\n",
    "            .filter(ee.Filter.lt('CLOUDY_PIXEL_PERCENTAGE', 20)))\n",
    "\n",
    "# Apply cloud masking - this should keep original metadata\n",
    "sentinel = sentinel.map(maskS2clouds)\n",
    "\n",
    "# NDVI calculation without using date()\n",
    "def addNDVI(image):\n",
    "    ndvi = image.normalizedDifference(['B8', 'B4']).rename('NDVI')\n",
    "    # Preserve all original properties\n",
    "    return image.addBands(ndvi)\n",
    "\n",
    "# Apply NDVI calculation\n",
    "sentinel = sentinel.map(addNDVI)\n",
    "\n",
    "# Calculate NDVI median image - avoiding date() function\n",
    "ndvi = sentinel.select('NDVI').median().clip(region)\n",
    "\n",
    "# ERA5-Land Temperature (2m temp in Celsius)\n",
    "era5 = (ee.ImageCollection(\"ECMWF/ERA5_LAND/DAILY_AGGR\")\n",
    "        .filterBounds(region)\n",
    "        .filterDate('2023-01-01', '2023-01-31')\n",
    "        .select('temperature_2m'))\n",
    "\n",
    "temp_c = era5.median().subtract(273.15).rename('Temperature_C').clip(region)\n",
    "\n",
    "# ERA5 Wind Speed\n",
    "era5_wind = (ee.ImageCollection(\"ECMWF/ERA5_LAND/DAILY_AGGR\")\n",
    "             .filterDate('2023-01-01', '2023-01-31')\n",
    "             .filterBounds(region)\n",
    "             .select('u_component_of_wind_10m', 'v_component_of_wind_10m'))\n",
    "\n",
    "wind_u = era5_wind.select('u_component_of_wind_10m').median().clip(region)\n",
    "wind_v = era5_wind.select('v_component_of_wind_10m').median().clip(region)\n",
    "wind_speed = wind_u.pow(2).add(wind_v.pow(2)).sqrt().rename('Wind_Speed_ms')\n",
    "\n",
    "# CHIRPS Rainfall (mm/day)\n",
    "chirps = (ee.ImageCollection(\"UCSB-CHG/CHIRPS/DAILY\")\n",
    "          .filterBounds(region)\n",
    "          .filterDate('2023-01-01', '2023-01-31')\n",
    "          .select('precipitation'))\n",
    "rain = chirps.sum().rename('Rainfall_mm').clip(region)  # Changed median() to sum()\n",
    "# ERA5-Land Solar radiation (J/m² → MJ/m²)\n",
    "solar = (ee.ImageCollection(\"ECMWF/ERA5_LAND/HOURLY\")\n",
    "         .filterDate('2023-01-01', '2023-01-31')\n",
    "         .filterBounds(region)\n",
    "         .select('surface_solar_radiation_downwards'))\n",
    "\n",
    "solar = solar.median().divide(1e6).rename('Solar_MJ').clip(region)\n",
    "\n",
    "# Combine all layers into a single image for analysis\n",
    "combined = ndvi.addBands(temp_c).addBands(rain).addBands(solar).addBands(wind_speed)\n",
    "\n",
    "# Sample points for analysis\n",
    "# Generate random points within the region\n",
    "sample_points = ee.FeatureCollection.randomPoints(region, 500) \n",
    "\n",
    "# Sample the combined image at these points\n",
    "samples = combined.sampleRegions(\n",
    "    collection=sample_points,\n",
    "    scale=2000,\n",
    "    geometries=True\n",
    ")\n",
    "\n",
    "# Get the sample data as a list (this will be used for plotting)\n",
    "sample_list = samples.getInfo()['features']\n",
    "\n",
    "# Extract the data for plotting\n",
    "ndvi_values = [feature['properties']['NDVI'] for feature in sample_list]\n",
    "temp_values = [feature['properties']['Temperature_C'] for feature in sample_list]\n",
    "rain_values = [feature['properties']['Rainfall_mm'] for feature in sample_list]\n",
    "solar_values = [feature['properties']['Solar_MJ'] for feature in sample_list]\n",
    "wind_values = [feature['properties']['Wind_Speed_ms'] for feature in sample_list]\n",
    "\n",
    "# Create a dataframe for easier analysis\n",
    "df = pd.DataFrame({\n",
    "    'NDVI': ndvi_values,\n",
    "    'Temperature': temp_values,\n",
    "    'Rainfall': rain_values,\n",
    "    'Solar_Radiation': solar_values,\n",
    "    'Wind_Speed': wind_values\n",
    "})\n",
    "\n",
    "# Calculate correlation coefficients\n",
    "corr_temp = stats.pearsonr(df['NDVI'], df['Temperature'])[0]\n",
    "# Handle potential constant rainfall data\n",
    "if df['Rainfall'].std() > 0:\n",
    "    corr_rain = stats.pearsonr(df['NDVI'], df['Rainfall'])[0]\n",
    "else:\n",
    "    corr_rain = float('nan')  # Use NaN for undefined correlation\n",
    "corr_solar = stats.pearsonr(df['NDVI'], df['Solar_Radiation'])[0]\n",
    "corr_wind = stats.pearsonr(df['NDVI'], df['Wind_Speed'])[0]\n",
    "\n",
    "# Create visualizations\n",
    "plt.figure(figsize=(20, 15))\n",
    "\n",
    "# 1. NDVI vs Temperature\n",
    "plt.subplot(2, 2, 1)\n",
    "plt.scatter(df['Temperature'], df['NDVI'], alpha=0.5)\n",
    "plt.title(f'NDVI vs Temperature (r = {corr_temp:.2f})')\n",
    "plt.xlabel('Temperature (°C)')\n",
    "plt.ylabel('NDVI')\n",
    "# Add a trend line\n",
    "z = np.polyfit(df['Temperature'], df['NDVI'], 1)\n",
    "p = np.poly1d(z)\n",
    "plt.plot(df['Temperature'], p(df['Temperature']), \"r--\")\n",
    "\n",
    "# 2. NDVI vs Rainfall - with error handling\n",
    "plt.subplot(2, 2, 2)\n",
    "plt.scatter(df['Rainfall'], df['NDVI'], alpha=0.5)\n",
    "# Check if rainfall data varies\n",
    "if df['Rainfall'].std() > 0:\n",
    "    plt.title(f'NDVI vs Rainfall (r = {corr_rain:.2f})')\n",
    "    # Add a trend line only if there's variation\n",
    "    z = np.polyfit(df['Rainfall'], df['NDVI'], 1)\n",
    "    p = np.poly1d(z)\n",
    "    plt.plot(df['Rainfall'], p(df['Rainfall']), \"r--\")\n",
    "else:\n",
    "    plt.title('NDVI vs Rainfall (r = undefined)')\n",
    "plt.xlabel('Rainfall (mm/day)')\n",
    "plt.ylabel('NDVI')\n",
    "\n",
    "# 3. NDVI vs Solar Radiation\n",
    "plt.subplot(2, 2, 3)\n",
    "plt.scatter(df['Solar_Radiation'], df['NDVI'], alpha=0.5)\n",
    "plt.title(f'NDVI vs Solar Radiation (r = {corr_solar:.2f})')\n",
    "plt.xlabel('Solar Radiation (MJ/m²)')\n",
    "plt.ylabel('NDVI')\n",
    "# Add a trend line\n",
    "z = np.polyfit(df['Solar_Radiation'], df['NDVI'], 1)\n",
    "p = np.poly1d(z)\n",
    "plt.plot(df['Solar_Radiation'], p(df['Solar_Radiation']), \"r--\")\n",
    "\n",
    "# 4. NDVI vs Wind Speed\n",
    "plt.subplot(2, 2, 4)\n",
    "plt.scatter(df['Wind_Speed'], df['NDVI'], alpha=0.5)\n",
    "plt.title(f'NDVI vs Wind Speed (r = {corr_wind:.2f})')\n",
    "plt.xlabel('Wind Speed (m/s)')\n",
    "plt.ylabel('NDVI')\n",
    "# Add a trend line\n",
    "z = np.polyfit(df['Wind_Speed'], df['NDVI'], 1)\n",
    "p = np.poly1d(z)\n",
    "plt.plot(df['Wind_Speed'], p(df['Wind_Speed']), \"r--\")\n",
    "\n",
    "plt.tight_layout()\n",
    "plt.savefig('ndvi_weather_relationships.png')\n",
    "plt.show()\n",
    "\n",
    "# Create boxplots to show NDVI distribution by temperature and rainfall categories\n",
    "plt.figure(figsize=(12, 6))\n",
    "# Create temperature categories\n",
    "df['Temp_Category'] = pd.qcut(df['Temperature'], 4, labels=['Cool', 'Mild', 'Warm', 'Hot'])\n",
    "plt.subplot(1, 2, 1)\n",
    "df.boxplot(column='NDVI', by='Temp_Category')\n",
    "plt.title('NDVI Distribution by Temperature Category')\n",
    "plt.suptitle('')  # Remove default title\n",
    "\n",
    "# Create a boxplot for rainfall with error handling\n",
    "plt.subplot(1, 2, 2)\n",
    "# Check if rainfall data has enough variation for categorical analysis\n",
    "if df['Rainfall'].nunique() >= 4:\n",
    "    # If enough variation, create quartiles\n",
    "    df['Rain_Category'] = pd.qcut(df['Rainfall'], 4, labels=['Dry', 'Low', 'Moderate', 'Wet'])\n",
    "    df.boxplot(column='NDVI', by='Rain_Category')\n",
    "    plt.title('NDVI Distribution by Rainfall Category')\n",
    "elif df['Rainfall'].nunique() > 1:\n",
    "    # If some variation but not enough for quartiles, try fewer bins\n",
    "    num_bins = min(df['Rainfall'].nunique(), 3)\n",
    "    df['Rain_Category'] = pd.qcut(df['Rainfall'], num_bins, labels=['Lower', 'Middle', 'Higher'][:num_bins])\n",
    "    df.boxplot(column='NDVI', by='Rain_Category')\n",
    "    plt.title('NDVI Distribution by Rainfall Category')\n",
    "else:\n",
    "    # If no variation, show a message\n",
    "    plt.text(0.5, 0.5, 'Insufficient rainfall variation\\nfor categorical analysis', \n",
    "             horizontalalignment='center', verticalalignment='center',\n",
    "             transform=plt.gca().transAxes, fontsize=12)\n",
    "    plt.title('No Rainfall Variation')\n",
    "\n",
    "plt.tight_layout()\n",
    "plt.savefig('ndvi_boxplots.png')\n",
    "plt.show()\n",
    "\n",
    "# Alternative time series approach that doesn't use date()\n",
    "def get_ndvi_timeseries_alt():\n",
    "    # Get all available Sentinel-2 images that match our criteria\n",
    "    all_images = sentinel.toList(sentinel.size())\n",
    "    \n",
    "    # For time series, we'll extract the timestamp and format it\n",
    "    ndvi_series = []\n",
    "    size = sentinel.size().getInfo()\n",
    "    \n",
    "    for i in range(size):\n",
    "        try:\n",
    "            img = ee.Image(all_images.get(i))\n",
    "            timestamp = img.get('system:time_start')\n",
    "            \n",
    "            # Only proceed if we have a timestamp\n",
    "            if timestamp:\n",
    "                date_string = ee.Date(timestamp).format('YYYY-MM-dd').getInfo()\n",
    "                \n",
    "                # Calculate mean NDVI for this image\n",
    "                mean_ndvi = img.select('NDVI').reduceRegion(\n",
    "                    reducer=ee.Reducer.mean(),\n",
    "                    geometry=region,\n",
    "                    scale=1000\n",
    "                ).get('NDVI').getInfo()\n",
    "                \n",
    "                if mean_ndvi is not None:\n",
    "                    ndvi_series.append({\n",
    "                        'date': date_string,\n",
    "                        'ndvi': mean_ndvi\n",
    "                    })\n",
    "        except Exception as e:\n",
    "            print(f\"Error processing image {i}: {e}\")\n",
    "            continue\n",
    "    \n",
    "    return pd.DataFrame(ndvi_series)\n",
    "\n",
    "print(\"Summary Statistics:\")\n",
    "print(df.describe())\n",
    "\n",
    "print(\"\\nCorrelation Matrix:\")\n",
    "print(df.corr())\n",
    "\n",
    "# Print correlation significance tests with error handling for rainfall\n",
    "print(\"\\nCorrelation Significance Tests:\")\n",
    "print(f\"NDVI vs Temperature: r={corr_temp:.3f}, p-value={stats.pearsonr(df['NDVI'], df['Temperature'])[1]:.4f}\")\n",
    "if df['Rainfall'].std() > 0:\n",
    "    p_val_rain = stats.pearsonr(df['NDVI'], df['Rainfall'])[1]\n",
    "    print(f\"NDVI vs Rainfall: r={corr_rain:.3f}, p-value={p_val_rain:.4f}\")\n",
    "else:\n",
    "    print(\"NDVI vs Rainfall: Cannot calculate correlation (no rainfall variation)\")\n",
    "print(f\"NDVI vs Solar Radiation: r={corr_solar:.3f}, p-value={stats.pearsonr(df['NDVI'], df['Solar_Radiation'])[1]:.4f}\")\n",
    "print(f\"NDVI vs Wind Speed: r={corr_wind:.3f}, p-value={stats.pearsonr(df['NDVI'], df['Wind_Speed'])[1]:.4f}\")\n",
    "\n",
    "# Map display\n",
    "Map = geemap.Map(center=[28.65, 77.05], zoom=9)\n",
    "Map.addLayer(ndvi, {'min': 0, 'max': 1, 'palette': ['brown', 'yellow', 'green']}, 'NDVI')\n",
    "Map.addLayer(temp_c, {'min': 10, 'max': 40, 'palette': ['blue', 'white', 'red']}, 'Temperature (C)')\n",
    "Map.addLayer(rain, {'min': 0, 'palette': ['white', 'blue']}, 'Rainfall')  # Removed max parameter\n",
    "Map.addLayer(solar, {'min': 0, 'max': 25, 'palette': ['yellow', 'orange', 'red']}, 'Solar Radiation (MJ)')\n",
    "Map.addLayer(wind_speed, {'min': 0, 'max': 20, 'palette': ['lightblue', 'blue', 'purple']}, 'Wind Speed (m/s)')\n",
    "Map.addLayerControl()\n",
    "\n",
    "# Return the map and dataframe\n",
    "Map  # Display the map\n",
    "df.head()  # Display the first few rows of data'''"
   ]
  },
  {
   "cell_type": "code",
   "execution_count": 13,
   "id": "a76e7f48",
   "metadata": {},
   "outputs": [
    {
     "data": {
      "text/html": [
       "\n",
       "            <style>\n",
       "                .geemap-dark {\n",
       "                    --jp-widgets-color: white;\n",
       "                    --jp-widgets-label-color: white;\n",
       "                    --jp-ui-font-color1: white;\n",
       "                    --jp-layout-color2: #454545;\n",
       "                    background-color: #383838;\n",
       "                }\n",
       "\n",
       "                .geemap-dark .jupyter-button {\n",
       "                    --jp-layout-color3: #383838;\n",
       "                }\n",
       "\n",
       "                .geemap-colab {\n",
       "                    background-color: var(--colab-primary-surface-color, white);\n",
       "                }\n",
       "\n",
       "                .geemap-colab .jupyter-button {\n",
       "                    --jp-layout-color3: var(--colab-primary-surface-color, white);\n",
       "                }\n",
       "            </style>\n",
       "            "
      ],
      "text/plain": [
       "<IPython.core.display.HTML object>"
      ]
     },
     "metadata": {},
     "output_type": "display_data"
    }
   ],
   "source": [
    "# Define the region (Full India)\n",
    "region = ee.Geometry.Polygon(\n",
    "    [[\n",
    "        [68.1, 8.0],   # Southwest corner (Kanyakumari)\n",
    "        [97.4, 8.0],   # Southeast corner (Andaman)\n",
    "        [97.4, 37.1],  # Northeast corner (Ladakh)\n",
    "        [68.1, 37.1],  # Northwest corner (Gujarat)\n",
    "        [68.1, 8.0]    # Close the polygon\n",
    "    ]]\n",
    ")\n",
    "\n"
   ]
  },
  {
   "cell_type": "code",
   "execution_count": 14,
   "id": "14d67c37",
   "metadata": {},
   "outputs": [
    {
     "data": {
      "text/html": [
       "\n",
       "            <style>\n",
       "                .geemap-dark {\n",
       "                    --jp-widgets-color: white;\n",
       "                    --jp-widgets-label-color: white;\n",
       "                    --jp-ui-font-color1: white;\n",
       "                    --jp-layout-color2: #454545;\n",
       "                    background-color: #383838;\n",
       "                }\n",
       "\n",
       "                .geemap-dark .jupyter-button {\n",
       "                    --jp-layout-color3: #383838;\n",
       "                }\n",
       "\n",
       "                .geemap-colab {\n",
       "                    background-color: var(--colab-primary-surface-color, white);\n",
       "                }\n",
       "\n",
       "                .geemap-colab .jupyter-button {\n",
       "                    --jp-layout-color3: var(--colab-primary-surface-color, white);\n",
       "                }\n",
       "            </style>\n",
       "            "
      ],
      "text/plain": [
       "<IPython.core.display.HTML object>"
      ]
     },
     "metadata": {},
     "output_type": "display_data"
    }
   ],
   "source": [
    "# Sentinel-2 cloud mask function\n",
    "def maskS2clouds(image):\n",
    "    qa = image.select('QA60')\n",
    "    cloudBitMask = 1 << 10\n",
    "    cirrusBitMask = 1 << 11\n",
    "    mask = qa.bitwiseAnd(cloudBitMask).eq(0).And(qa.bitwiseAnd(cirrusBitMask).eq(0))\n",
    "    return image.updateMask(mask).divide(10000)\n",
    "\n"
   ]
  },
  {
   "cell_type": "code",
   "execution_count": 15,
   "id": "42157f0c",
   "metadata": {},
   "outputs": [
    {
     "data": {
      "text/html": [
       "\n",
       "            <style>\n",
       "                .geemap-dark {\n",
       "                    --jp-widgets-color: white;\n",
       "                    --jp-widgets-label-color: white;\n",
       "                    --jp-ui-font-color1: white;\n",
       "                    --jp-layout-color2: #454545;\n",
       "                    background-color: #383838;\n",
       "                }\n",
       "\n",
       "                .geemap-dark .jupyter-button {\n",
       "                    --jp-layout-color3: #383838;\n",
       "                }\n",
       "\n",
       "                .geemap-colab {\n",
       "                    background-color: var(--colab-primary-surface-color, white);\n",
       "                }\n",
       "\n",
       "                .geemap-colab .jupyter-button {\n",
       "                    --jp-layout-color3: var(--colab-primary-surface-color, white);\n",
       "                }\n",
       "            </style>\n",
       "            "
      ],
      "text/plain": [
       "<IPython.core.display.HTML object>"
      ]
     },
     "metadata": {},
     "output_type": "display_data"
    }
   ],
   "source": [
    "# Load and filter Sentinel-2 data (2018-2023)\n",
    "sentinel = (ee.ImageCollection(\"COPERNICUS/S2_HARMONIZED\")\n",
    "            .filterBounds(region)\n",
    "            .filterDate('2018-01-01', '2023-12-31')\n",
    "            .filter(ee.Filter.lt('CLOUDY_PIXEL_PERCENTAGE', 20))\n",
    "            .map(maskS2clouds))\n",
    "\n"
   ]
  },
  {
   "cell_type": "code",
   "execution_count": 16,
   "id": "d5a158e0",
   "metadata": {},
   "outputs": [
    {
     "data": {
      "text/html": [
       "\n",
       "            <style>\n",
       "                .geemap-dark {\n",
       "                    --jp-widgets-color: white;\n",
       "                    --jp-widgets-label-color: white;\n",
       "                    --jp-ui-font-color1: white;\n",
       "                    --jp-layout-color2: #454545;\n",
       "                    background-color: #383838;\n",
       "                }\n",
       "\n",
       "                .geemap-dark .jupyter-button {\n",
       "                    --jp-layout-color3: #383838;\n",
       "                }\n",
       "\n",
       "                .geemap-colab {\n",
       "                    background-color: var(--colab-primary-surface-color, white);\n",
       "                }\n",
       "\n",
       "                .geemap-colab .jupyter-button {\n",
       "                    --jp-layout-color3: var(--colab-primary-surface-color, white);\n",
       "                }\n",
       "            </style>\n",
       "            "
      ],
      "text/plain": [
       "<IPython.core.display.HTML object>"
      ]
     },
     "metadata": {},
     "output_type": "display_data"
    }
   ],
   "source": [
    "# NDVI calculation function\n",
    "def addNDVI(image):\n",
    "    ndvi = image.normalizedDifference(['B8', 'B4']).rename('NDVI')\n",
    "    return image.addBands(ndvi)\n",
    "\n"
   ]
  },
  {
   "cell_type": "code",
   "execution_count": 17,
   "id": "a7879820",
   "metadata": {},
   "outputs": [
    {
     "data": {
      "text/html": [
       "\n",
       "            <style>\n",
       "                .geemap-dark {\n",
       "                    --jp-widgets-color: white;\n",
       "                    --jp-widgets-label-color: white;\n",
       "                    --jp-ui-font-color1: white;\n",
       "                    --jp-layout-color2: #454545;\n",
       "                    background-color: #383838;\n",
       "                }\n",
       "\n",
       "                .geemap-dark .jupyter-button {\n",
       "                    --jp-layout-color3: #383838;\n",
       "                }\n",
       "\n",
       "                .geemap-colab {\n",
       "                    background-color: var(--colab-primary-surface-color, white);\n",
       "                }\n",
       "\n",
       "                .geemap-colab .jupyter-button {\n",
       "                    --jp-layout-color3: var(--colab-primary-surface-color, white);\n",
       "                }\n",
       "            </style>\n",
       "            "
      ],
      "text/plain": [
       "<IPython.core.display.HTML object>"
      ]
     },
     "metadata": {},
     "output_type": "display_data"
    }
   ],
   "source": [
    "# Apply NDVI calculation\n",
    "sentinel = sentinel.map(addNDVI)\n",
    "\n"
   ]
  },
  {
   "cell_type": "code",
   "execution_count": 18,
   "id": "6c991b0c",
   "metadata": {},
   "outputs": [
    {
     "data": {
      "text/html": [
       "\n",
       "            <style>\n",
       "                .geemap-dark {\n",
       "                    --jp-widgets-color: white;\n",
       "                    --jp-widgets-label-color: white;\n",
       "                    --jp-ui-font-color1: white;\n",
       "                    --jp-layout-color2: #454545;\n",
       "                    background-color: #383838;\n",
       "                }\n",
       "\n",
       "                .geemap-dark .jupyter-button {\n",
       "                    --jp-layout-color3: #383838;\n",
       "                }\n",
       "\n",
       "                .geemap-colab {\n",
       "                    background-color: var(--colab-primary-surface-color, white);\n",
       "                }\n",
       "\n",
       "                .geemap-colab .jupyter-button {\n",
       "                    --jp-layout-color3: var(--colab-primary-surface-color, white);\n",
       "                }\n",
       "            </style>\n",
       "            "
      ],
      "text/plain": [
       "<IPython.core.display.HTML object>"
      ]
     },
     "metadata": {},
     "output_type": "display_data"
    }
   ],
   "source": [
    "# Calculate NDVI median composite\n",
    "ndvi_median = sentinel.select('NDVI').median().clip(region)\n",
    "\n"
   ]
  },
  {
   "cell_type": "code",
   "execution_count": 19,
   "id": "fcac6bee",
   "metadata": {},
   "outputs": [
    {
     "data": {
      "text/html": [
       "\n",
       "            <style>\n",
       "                .geemap-dark {\n",
       "                    --jp-widgets-color: white;\n",
       "                    --jp-widgets-label-color: white;\n",
       "                    --jp-ui-font-color1: white;\n",
       "                    --jp-layout-color2: #454545;\n",
       "                    background-color: #383838;\n",
       "                }\n",
       "\n",
       "                .geemap-dark .jupyter-button {\n",
       "                    --jp-layout-color3: #383838;\n",
       "                }\n",
       "\n",
       "                .geemap-colab {\n",
       "                    background-color: var(--colab-primary-surface-color, white);\n",
       "                }\n",
       "\n",
       "                .geemap-colab .jupyter-button {\n",
       "                    --jp-layout-color3: var(--colab-primary-surface-color, white);\n",
       "                }\n",
       "            </style>\n",
       "            "
      ],
      "text/plain": [
       "<IPython.core.display.HTML object>"
      ]
     },
     "metadata": {},
     "output_type": "display_data"
    }
   ],
   "source": [
    "# ERA5-Land Temperature (2m temp in Celsius) - 2018-2023\n",
    "era5_temp = (ee.ImageCollection(\"ECMWF/ERA5_LAND/DAILY_AGGR\")\n",
    "             .filterBounds(region)\n",
    "             .filterDate('2018-01-01', '2023-12-31')\n",
    "             .select('temperature_2m'))\n",
    "\n",
    "temp_c = era5_temp.mean().subtract(273.15).rename('Temperature_C').clip(region)\n",
    "\n"
   ]
  },
  {
   "cell_type": "code",
   "execution_count": 20,
   "id": "7255ff58",
   "metadata": {},
   "outputs": [
    {
     "data": {
      "text/html": [
       "\n",
       "            <style>\n",
       "                .geemap-dark {\n",
       "                    --jp-widgets-color: white;\n",
       "                    --jp-widgets-label-color: white;\n",
       "                    --jp-ui-font-color1: white;\n",
       "                    --jp-layout-color2: #454545;\n",
       "                    background-color: #383838;\n",
       "                }\n",
       "\n",
       "                .geemap-dark .jupyter-button {\n",
       "                    --jp-layout-color3: #383838;\n",
       "                }\n",
       "\n",
       "                .geemap-colab {\n",
       "                    background-color: var(--colab-primary-surface-color, white);\n",
       "                }\n",
       "\n",
       "                .geemap-colab .jupyter-button {\n",
       "                    --jp-layout-color3: var(--colab-primary-surface-color, white);\n",
       "                }\n",
       "            </style>\n",
       "            "
      ],
      "text/plain": [
       "<IPython.core.display.HTML object>"
      ]
     },
     "metadata": {},
     "output_type": "display_data"
    }
   ],
   "source": [
    "# ERA5 Wind Speed components - 2018-2023\n",
    "era5_wind = (ee.ImageCollection(\"ECMWF/ERA5_LAND/DAILY_AGGR\")\n",
    "             .filterBounds(region)\n",
    "             .filterDate('2018-01-01', '2023-12-31')\n",
    "             .select('u_component_of_wind_10m', 'v_component_of_wind_10m'))\n",
    "\n"
   ]
  },
  {
   "cell_type": "code",
   "execution_count": 21,
   "id": "c326b34f",
   "metadata": {},
   "outputs": [
    {
     "data": {
      "text/html": [
       "\n",
       "            <style>\n",
       "                .geemap-dark {\n",
       "                    --jp-widgets-color: white;\n",
       "                    --jp-widgets-label-color: white;\n",
       "                    --jp-ui-font-color1: white;\n",
       "                    --jp-layout-color2: #454545;\n",
       "                    background-color: #383838;\n",
       "                }\n",
       "\n",
       "                .geemap-dark .jupyter-button {\n",
       "                    --jp-layout-color3: #383838;\n",
       "                }\n",
       "\n",
       "                .geemap-colab {\n",
       "                    background-color: var(--colab-primary-surface-color, white);\n",
       "                }\n",
       "\n",
       "                .geemap-colab .jupyter-button {\n",
       "                    --jp-layout-color3: var(--colab-primary-surface-color, white);\n",
       "                }\n",
       "            </style>\n",
       "            "
      ],
      "text/plain": [
       "<IPython.core.display.HTML object>"
      ]
     },
     "metadata": {},
     "output_type": "display_data"
    }
   ],
   "source": [
    "# Calculate wind speed magnitude\n",
    "wind_speed = era5_wind.map(lambda image: \n",
    "    image.expression('sqrt(u**2 + v**2)', {\n",
    "        'u': image.select('u_component_of_wind_10m'),\n",
    "        'v': image.select('v_component_of_wind_10m')\n",
    "    })).mean().rename('Wind_Speed_ms').clip(region)\n",
    "\n"
   ]
  },
  {
   "cell_type": "code",
   "execution_count": 22,
   "id": "b6f14470",
   "metadata": {},
   "outputs": [
    {
     "data": {
      "text/html": [
       "\n",
       "            <style>\n",
       "                .geemap-dark {\n",
       "                    --jp-widgets-color: white;\n",
       "                    --jp-widgets-label-color: white;\n",
       "                    --jp-ui-font-color1: white;\n",
       "                    --jp-layout-color2: #454545;\n",
       "                    background-color: #383838;\n",
       "                }\n",
       "\n",
       "                .geemap-dark .jupyter-button {\n",
       "                    --jp-layout-color3: #383838;\n",
       "                }\n",
       "\n",
       "                .geemap-colab {\n",
       "                    background-color: var(--colab-primary-surface-color, white);\n",
       "                }\n",
       "\n",
       "                .geemap-colab .jupyter-button {\n",
       "                    --jp-layout-color3: var(--colab-primary-surface-color, white);\n",
       "                }\n",
       "            </style>\n",
       "            "
      ],
      "text/plain": [
       "<IPython.core.display.HTML object>"
      ]
     },
     "metadata": {},
     "output_type": "display_data"
    }
   ],
   "source": [
    "# CHIRPS Rainfall (total precipitation 2018-2023)\n",
    "chirps = (ee.ImageCollection(\"UCSB-CHG/CHIRPS/DAILY\")\n",
    "          .filterBounds(region)\n",
    "          .filterDate('2018-01-01', '2023-12-31')\n",
    "          .select('precipitation'))\n",
    "\n",
    "rain_total = chirps.sum().rename('Rainfall_mm').clip(region)\n"
   ]
  },
  {
   "cell_type": "code",
   "execution_count": 23,
   "id": "343b0497",
   "metadata": {},
   "outputs": [
    {
     "data": {
      "text/html": [
       "\n",
       "            <style>\n",
       "                .geemap-dark {\n",
       "                    --jp-widgets-color: white;\n",
       "                    --jp-widgets-label-color: white;\n",
       "                    --jp-ui-font-color1: white;\n",
       "                    --jp-layout-color2: #454545;\n",
       "                    background-color: #383838;\n",
       "                }\n",
       "\n",
       "                .geemap-dark .jupyter-button {\n",
       "                    --jp-layout-color3: #383838;\n",
       "                }\n",
       "\n",
       "                .geemap-colab {\n",
       "                    background-color: var(--colab-primary-surface-color, white);\n",
       "                }\n",
       "\n",
       "                .geemap-colab .jupyter-button {\n",
       "                    --jp-layout-color3: var(--colab-primary-surface-color, white);\n",
       "                }\n",
       "            </style>\n",
       "            "
      ],
      "text/plain": [
       "<IPython.core.display.HTML object>"
      ]
     },
     "metadata": {},
     "output_type": "display_data"
    }
   ],
   "source": [
    "# ERA5-Land Solar radiation (2018-2023 mean)\n",
    "solar = (ee.ImageCollection(\"ECMWF/ERA5_LAND/HOURLY\")\n",
    "         .filterBounds(region)\n",
    "         .filterDate('2018-01-01', '2023-12-31')\n",
    "         .select('surface_solar_radiation_downwards'))\n",
    "\n",
    "solar_mean = solar.mean().divide(1e6).rename('Solar_MJ').clip(region)\n"
   ]
  },
  {
   "cell_type": "code",
   "execution_count": 24,
   "id": "2a66ae2f",
   "metadata": {},
   "outputs": [
    {
     "data": {
      "text/html": [
       "\n",
       "            <style>\n",
       "                .geemap-dark {\n",
       "                    --jp-widgets-color: white;\n",
       "                    --jp-widgets-label-color: white;\n",
       "                    --jp-ui-font-color1: white;\n",
       "                    --jp-layout-color2: #454545;\n",
       "                    background-color: #383838;\n",
       "                }\n",
       "\n",
       "                .geemap-dark .jupyter-button {\n",
       "                    --jp-layout-color3: #383838;\n",
       "                }\n",
       "\n",
       "                .geemap-colab {\n",
       "                    background-color: var(--colab-primary-surface-color, white);\n",
       "                }\n",
       "\n",
       "                .geemap-colab .jupyter-button {\n",
       "                    --jp-layout-color3: var(--colab-primary-surface-color, white);\n",
       "                }\n",
       "            </style>\n",
       "            "
      ],
      "text/plain": [
       "<IPython.core.display.HTML object>"
      ]
     },
     "metadata": {},
     "output_type": "display_data"
    }
   ],
   "source": [
    "# Combine all layers into a single image\n",
    "combined = ee.Image.cat([\n",
    "    ndvi_median,\n",
    "    temp_c,\n",
    "    rain_total,\n",
    "    solar_mean,\n",
    "    wind_speed\n",
    "]).rename(['NDVI', 'Temperature_C', 'Rainfall_mm', 'Solar_MJ', 'Wind_Speed_ms'])\n"
   ]
  },
  {
   "cell_type": "code",
   "execution_count": 25,
   "id": "673995fd",
   "metadata": {},
   "outputs": [
    {
     "data": {
      "text/html": [
       "\n",
       "            <style>\n",
       "                .geemap-dark {\n",
       "                    --jp-widgets-color: white;\n",
       "                    --jp-widgets-label-color: white;\n",
       "                    --jp-ui-font-color1: white;\n",
       "                    --jp-layout-color2: #454545;\n",
       "                    background-color: #383838;\n",
       "                }\n",
       "\n",
       "                .geemap-dark .jupyter-button {\n",
       "                    --jp-layout-color3: #383838;\n",
       "                }\n",
       "\n",
       "                .geemap-colab {\n",
       "                    background-color: var(--colab-primary-surface-color, white);\n",
       "                }\n",
       "\n",
       "                .geemap-colab .jupyter-button {\n",
       "                    --jp-layout-color3: var(--colab-primary-surface-color, white);\n",
       "                }\n",
       "            </style>\n",
       "            "
      ],
      "text/plain": [
       "<IPython.core.display.HTML object>"
      ]
     },
     "metadata": {},
     "output_type": "display_data"
    }
   ],
   "source": [
    "# Sample points for analysis (reduced count for large area)\n",
    "sample_points = ee.FeatureCollection.randomPoints(\n",
    "    region,  # Region first\n",
    "    300,     # Number of points second\n",
    "    seed=42  # Optional seed\n",
    ")\n"
   ]
  },
  {
   "cell_type": "code",
   "execution_count": 29,
   "id": "9be09eee",
   "metadata": {},
   "outputs": [
    {
     "data": {
      "text/html": [
       "\n",
       "            <style>\n",
       "                .geemap-dark {\n",
       "                    --jp-widgets-color: white;\n",
       "                    --jp-widgets-label-color: white;\n",
       "                    --jp-ui-font-color1: white;\n",
       "                    --jp-layout-color2: #454545;\n",
       "                    background-color: #383838;\n",
       "                }\n",
       "\n",
       "                .geemap-dark .jupyter-button {\n",
       "                    --jp-layout-color3: #383838;\n",
       "                }\n",
       "\n",
       "                .geemap-colab {\n",
       "                    background-color: var(--colab-primary-surface-color, white);\n",
       "                }\n",
       "\n",
       "                .geemap-colab .jupyter-button {\n",
       "                    --jp-layout-color3: var(--colab-primary-surface-color, white);\n",
       "                }\n",
       "            </style>\n",
       "            "
      ],
      "text/plain": [
       "<IPython.core.display.HTML object>"
      ]
     },
     "metadata": {},
     "output_type": "display_data"
    }
   ],
   "source": [
    "# Sample the combined image (scale goes here)\n",
    "samples = combined.sampleRegions(\n",
    "    collection=sample_points,\n",
    "    scale=2000,  # Correct location for scale\n",
    "    geometries=True\n",
    ")\n",
    "\n"
   ]
  },
  {
   "cell_type": "code",
   "execution_count": 30,
   "id": "ee684a13",
   "metadata": {},
   "outputs": [
    {
     "data": {
      "text/html": [
       "\n",
       "            <style>\n",
       "                .geemap-dark {\n",
       "                    --jp-widgets-color: white;\n",
       "                    --jp-widgets-label-color: white;\n",
       "                    --jp-ui-font-color1: white;\n",
       "                    --jp-layout-color2: #454545;\n",
       "                    background-color: #383838;\n",
       "                }\n",
       "\n",
       "                .geemap-dark .jupyter-button {\n",
       "                    --jp-layout-color3: #383838;\n",
       "                }\n",
       "\n",
       "                .geemap-colab {\n",
       "                    background-color: var(--colab-primary-surface-color, white);\n",
       "                }\n",
       "\n",
       "                .geemap-colab .jupyter-button {\n",
       "                    --jp-layout-color3: var(--colab-primary-surface-color, white);\n",
       "                }\n",
       "            </style>\n",
       "            "
      ],
      "text/plain": [
       "<IPython.core.display.HTML object>"
      ]
     },
     "metadata": {},
     "output_type": "display_data"
    },
    {
     "ename": "EEException",
     "evalue": "Computation timed out.",
     "output_type": "error",
     "traceback": [
      "\u001b[31m---------------------------------------------------------------------------\u001b[39m",
      "\u001b[31mHttpError\u001b[39m                                 Traceback (most recent call last)",
      "\u001b[36mFile \u001b[39m\u001b[32mc:\\Users\\Vedansh Rai\\OneDrive\\Desktop\\pythonProject\\.venv\\Lib\\site-packages\\ee\\data.py:408\u001b[39m, in \u001b[36m_execute_cloud_call\u001b[39m\u001b[34m(call, num_retries)\u001b[39m\n\u001b[32m    407\u001b[39m \u001b[38;5;28;01mtry\u001b[39;00m:\n\u001b[32m--> \u001b[39m\u001b[32m408\u001b[39m   \u001b[38;5;28;01mreturn\u001b[39;00m \u001b[43mcall\u001b[49m\u001b[43m.\u001b[49m\u001b[43mexecute\u001b[49m\u001b[43m(\u001b[49m\u001b[43mnum_retries\u001b[49m\u001b[43m=\u001b[49m\u001b[43mnum_retries\u001b[49m\u001b[43m)\u001b[49m\n\u001b[32m    409\u001b[39m \u001b[38;5;28;01mexcept\u001b[39;00m googleapiclient.errors.HttpError \u001b[38;5;28;01mas\u001b[39;00m e:\n",
      "\u001b[36mFile \u001b[39m\u001b[32mc:\\Users\\Vedansh Rai\\OneDrive\\Desktop\\pythonProject\\.venv\\Lib\\site-packages\\googleapiclient\\_helpers.py:130\u001b[39m, in \u001b[36mpositional.<locals>.positional_decorator.<locals>.positional_wrapper\u001b[39m\u001b[34m(*args, **kwargs)\u001b[39m\n\u001b[32m    129\u001b[39m         logger.warning(message)\n\u001b[32m--> \u001b[39m\u001b[32m130\u001b[39m \u001b[38;5;28;01mreturn\u001b[39;00m \u001b[43mwrapped\u001b[49m\u001b[43m(\u001b[49m\u001b[43m*\u001b[49m\u001b[43margs\u001b[49m\u001b[43m,\u001b[49m\u001b[43m \u001b[49m\u001b[43m*\u001b[49m\u001b[43m*\u001b[49m\u001b[43mkwargs\u001b[49m\u001b[43m)\u001b[49m\n",
      "\u001b[36mFile \u001b[39m\u001b[32mc:\\Users\\Vedansh Rai\\OneDrive\\Desktop\\pythonProject\\.venv\\Lib\\site-packages\\googleapiclient\\http.py:938\u001b[39m, in \u001b[36mHttpRequest.execute\u001b[39m\u001b[34m(self, http, num_retries)\u001b[39m\n\u001b[32m    937\u001b[39m \u001b[38;5;28;01mif\u001b[39;00m resp.status >= \u001b[32m300\u001b[39m:\n\u001b[32m--> \u001b[39m\u001b[32m938\u001b[39m     \u001b[38;5;28;01mraise\u001b[39;00m HttpError(resp, content, uri=\u001b[38;5;28mself\u001b[39m.uri)\n\u001b[32m    939\u001b[39m \u001b[38;5;28;01mreturn\u001b[39;00m \u001b[38;5;28mself\u001b[39m.postproc(resp, content)\n",
      "\u001b[31mHttpError\u001b[39m: <HttpError 400 when requesting https://earthengine.googleapis.com/v1/projects/714950118534/value:compute?prettyPrint=false&alt=json returned \"Computation timed out.\". Details: \"Computation timed out.\">",
      "\nDuring handling of the above exception, another exception occurred:\n",
      "\u001b[31mEEException\u001b[39m                               Traceback (most recent call last)",
      "\u001b[36mCell\u001b[39m\u001b[36m \u001b[39m\u001b[32mIn[30]\u001b[39m\u001b[32m, line 2\u001b[39m\n\u001b[32m      1\u001b[39m \u001b[38;5;66;03m# Get the sample data\u001b[39;00m\n\u001b[32m----> \u001b[39m\u001b[32m2\u001b[39m sample_list = \u001b[43msamples\u001b[49m\u001b[43m.\u001b[49m\u001b[43mgetInfo\u001b[49m\u001b[43m(\u001b[49m\u001b[43m)\u001b[49m[\u001b[33m'\u001b[39m\u001b[33mfeatures\u001b[39m\u001b[33m'\u001b[39m]\n",
      "\u001b[36mFile \u001b[39m\u001b[32mc:\\Users\\Vedansh Rai\\OneDrive\\Desktop\\pythonProject\\.venv\\Lib\\site-packages\\ee\\collection.py:560\u001b[39m, in \u001b[36mCollection.getInfo\u001b[39m\u001b[34m(self)\u001b[39m\n\u001b[32m    547\u001b[39m \u001b[38;5;28;01mdef\u001b[39;00m\u001b[38;5;250m \u001b[39m\u001b[34mgetInfo\u001b[39m(\u001b[38;5;28mself\u001b[39m) -> Optional[Any]:\n\u001b[32m    548\u001b[39m \u001b[38;5;250m  \u001b[39m\u001b[33;03m\"\"\"Returns all the known information about this collection.\u001b[39;00m\n\u001b[32m    549\u001b[39m \n\u001b[32m    550\u001b[39m \u001b[33;03m  This function makes a REST call to to retrieve all the known information\u001b[39;00m\n\u001b[32m   (...)\u001b[39m\u001b[32m    558\u001b[39m \u001b[33;03m         properties.\u001b[39;00m\n\u001b[32m    559\u001b[39m \u001b[33;03m  \"\"\"\u001b[39;00m\n\u001b[32m--> \u001b[39m\u001b[32m560\u001b[39m   \u001b[38;5;28;01mreturn\u001b[39;00m \u001b[38;5;28;43msuper\u001b[39;49m\u001b[43m(\u001b[49m\u001b[43m)\u001b[49m\u001b[43m.\u001b[49m\u001b[43mgetInfo\u001b[49m\u001b[43m(\u001b[49m\u001b[43m)\u001b[49m\n",
      "\u001b[36mFile \u001b[39m\u001b[32mc:\\Users\\Vedansh Rai\\OneDrive\\Desktop\\pythonProject\\.venv\\Lib\\site-packages\\ee\\computedobject.py:107\u001b[39m, in \u001b[36mComputedObject.getInfo\u001b[39m\u001b[34m(self)\u001b[39m\n\u001b[32m    101\u001b[39m \u001b[38;5;28;01mdef\u001b[39;00m\u001b[38;5;250m \u001b[39m\u001b[34mgetInfo\u001b[39m(\u001b[38;5;28mself\u001b[39m) -> Optional[Any]:\n\u001b[32m    102\u001b[39m \u001b[38;5;250m  \u001b[39m\u001b[33;03m\"\"\"Fetch and return information about this object.\u001b[39;00m\n\u001b[32m    103\u001b[39m \n\u001b[32m    104\u001b[39m \u001b[33;03m  Returns:\u001b[39;00m\n\u001b[32m    105\u001b[39m \u001b[33;03m    The object can evaluate to anything.\u001b[39;00m\n\u001b[32m    106\u001b[39m \u001b[33;03m  \"\"\"\u001b[39;00m\n\u001b[32m--> \u001b[39m\u001b[32m107\u001b[39m   \u001b[38;5;28;01mreturn\u001b[39;00m \u001b[43mdata\u001b[49m\u001b[43m.\u001b[49m\u001b[43mcomputeValue\u001b[49m\u001b[43m(\u001b[49m\u001b[38;5;28;43mself\u001b[39;49m\u001b[43m)\u001b[49m\n",
      "\u001b[36mFile \u001b[39m\u001b[32mc:\\Users\\Vedansh Rai\\OneDrive\\Desktop\\pythonProject\\.venv\\Lib\\site-packages\\ee\\data.py:1128\u001b[39m, in \u001b[36mcomputeValue\u001b[39m\u001b[34m(obj)\u001b[39m\n\u001b[32m   1125\u001b[39m body = {\u001b[33m'\u001b[39m\u001b[33mexpression\u001b[39m\u001b[33m'\u001b[39m: serializer.encode(obj, for_cloud_api=\u001b[38;5;28;01mTrue\u001b[39;00m)}\n\u001b[32m   1126\u001b[39m _maybe_populate_workload_tag(body)\n\u001b[32m-> \u001b[39m\u001b[32m1128\u001b[39m \u001b[38;5;28;01mreturn\u001b[39;00m \u001b[43m_execute_cloud_call\u001b[49m\u001b[43m(\u001b[49m\n\u001b[32m   1129\u001b[39m \u001b[43m    \u001b[49m\u001b[43m_get_cloud_projects\u001b[49m\u001b[43m(\u001b[49m\u001b[43m)\u001b[49m\n\u001b[32m   1130\u001b[39m \u001b[43m    \u001b[49m\u001b[43m.\u001b[49m\u001b[43mvalue\u001b[49m\u001b[43m(\u001b[49m\u001b[43m)\u001b[49m\n\u001b[32m   1131\u001b[39m \u001b[43m    \u001b[49m\u001b[43m.\u001b[49m\u001b[43mcompute\u001b[49m\u001b[43m(\u001b[49m\u001b[43mbody\u001b[49m\u001b[43m=\u001b[49m\u001b[43mbody\u001b[49m\u001b[43m,\u001b[49m\u001b[43m \u001b[49m\u001b[43mproject\u001b[49m\u001b[43m=\u001b[49m\u001b[43m_get_projects_path\u001b[49m\u001b[43m(\u001b[49m\u001b[43m)\u001b[49m\u001b[43m,\u001b[49m\u001b[43m \u001b[49m\u001b[43mprettyPrint\u001b[49m\u001b[43m=\u001b[49m\u001b[38;5;28;43;01mFalse\u001b[39;49;00m\u001b[43m)\u001b[49m\n\u001b[32m   1132\u001b[39m \u001b[43m\u001b[49m\u001b[43m)\u001b[49m[\u001b[33m'\u001b[39m\u001b[33mresult\u001b[39m\u001b[33m'\u001b[39m]\n",
      "\u001b[36mFile \u001b[39m\u001b[32mc:\\Users\\Vedansh Rai\\OneDrive\\Desktop\\pythonProject\\.venv\\Lib\\site-packages\\ee\\data.py:410\u001b[39m, in \u001b[36m_execute_cloud_call\u001b[39m\u001b[34m(call, num_retries)\u001b[39m\n\u001b[32m    408\u001b[39m   \u001b[38;5;28;01mreturn\u001b[39;00m call.execute(num_retries=num_retries)\n\u001b[32m    409\u001b[39m \u001b[38;5;28;01mexcept\u001b[39;00m googleapiclient.errors.HttpError \u001b[38;5;28;01mas\u001b[39;00m e:\n\u001b[32m--> \u001b[39m\u001b[32m410\u001b[39m   \u001b[38;5;28;01mraise\u001b[39;00m _translate_cloud_exception(e)\n",
      "\u001b[31mEEException\u001b[39m: Computation timed out."
     ]
    }
   ],
   "source": [
    "# Get the sample data\n",
    "sample_list = samples.getInfo()['features']"
   ]
  },
  {
   "cell_type": "code",
   "execution_count": null,
   "id": "93674093",
   "metadata": {},
   "outputs": [
    {
     "ename": "NameError",
     "evalue": "name 'pd' is not defined",
     "output_type": "error",
     "traceback": [
      "\u001b[31m---------------------------------------------------------------------------\u001b[39m",
      "\u001b[31mNameError\u001b[39m                                 Traceback (most recent call last)",
      "\u001b[36mCell\u001b[39m\u001b[36m \u001b[39m\u001b[32mIn[1]\u001b[39m\u001b[32m, line 2\u001b[39m\n\u001b[32m      1\u001b[39m \u001b[38;5;66;03m# Create dataframe\u001b[39;00m\n\u001b[32m----> \u001b[39m\u001b[32m2\u001b[39m df = \u001b[43mpd\u001b[49m.DataFrame({\n\u001b[32m      3\u001b[39m     \u001b[33m'\u001b[39m\u001b[33mNDVI\u001b[39m\u001b[33m'\u001b[39m: [f[\u001b[33m'\u001b[39m\u001b[33mproperties\u001b[39m\u001b[33m'\u001b[39m][\u001b[33m'\u001b[39m\u001b[33mNDVI\u001b[39m\u001b[33m'\u001b[39m] \u001b[38;5;28;01mfor\u001b[39;00m f \u001b[38;5;129;01min\u001b[39;00m sample_list],\n\u001b[32m      4\u001b[39m     \u001b[33m'\u001b[39m\u001b[33mTemperature\u001b[39m\u001b[33m'\u001b[39m: [f[\u001b[33m'\u001b[39m\u001b[33mproperties\u001b[39m\u001b[33m'\u001b[39m][\u001b[33m'\u001b[39m\u001b[33mTemperature_C\u001b[39m\u001b[33m'\u001b[39m] \u001b[38;5;28;01mfor\u001b[39;00m f \u001b[38;5;129;01min\u001b[39;00m sample_list],\n\u001b[32m      5\u001b[39m     \u001b[33m'\u001b[39m\u001b[33mRainfall\u001b[39m\u001b[33m'\u001b[39m: [f[\u001b[33m'\u001b[39m\u001b[33mproperties\u001b[39m\u001b[33m'\u001b[39m][\u001b[33m'\u001b[39m\u001b[33mRainfall_mm\u001b[39m\u001b[33m'\u001b[39m] \u001b[38;5;28;01mfor\u001b[39;00m f \u001b[38;5;129;01min\u001b[39;00m sample_list],\n\u001b[32m      6\u001b[39m     \u001b[33m'\u001b[39m\u001b[33mSolar_Radiation\u001b[39m\u001b[33m'\u001b[39m: [f[\u001b[33m'\u001b[39m\u001b[33mproperties\u001b[39m\u001b[33m'\u001b[39m][\u001b[33m'\u001b[39m\u001b[33mSolar_MJ\u001b[39m\u001b[33m'\u001b[39m] \u001b[38;5;28;01mfor\u001b[39;00m f \u001b[38;5;129;01min\u001b[39;00m sample_list],\n\u001b[32m      7\u001b[39m     \u001b[33m'\u001b[39m\u001b[33mWind_Speed\u001b[39m\u001b[33m'\u001b[39m: [f[\u001b[33m'\u001b[39m\u001b[33mproperties\u001b[39m\u001b[33m'\u001b[39m][\u001b[33m'\u001b[39m\u001b[33mWind_Speed_ms\u001b[39m\u001b[33m'\u001b[39m] \u001b[38;5;28;01mfor\u001b[39;00m f \u001b[38;5;129;01min\u001b[39;00m sample_list]\n\u001b[32m      8\u001b[39m })\n\u001b[32m     10\u001b[39m df\n",
      "\u001b[31mNameError\u001b[39m: name 'pd' is not defined"
     ]
    }
   ],
   "source": [
    "# Create dataframe\n",
    "df = pd.DataFrame({\n",
    "    'NDVI': [f['properties']['NDVI'] for f in sample_list],\n",
    "    'Temperature': [f['properties']['Temperature_C'] for f in sample_list],\n",
    "    'Rainfall': [f['properties']['Rainfall_mm'] for f in sample_list],\n",
    "    'Solar_Radiation': [f['properties']['Solar_MJ'] for f in sample_list],\n",
    "    'Wind_Speed': [f['properties']['Wind_Speed_ms'] for f in sample_list]\n",
    "})\n",
    "\n",
    "df"
   ]
  },
  {
   "cell_type": "code",
   "execution_count": null,
   "id": "d5c06cdd",
   "metadata": {},
   "outputs": [],
   "source": [
    "# Remove any rows with missing values\n",
    "df = df.dropna()\n",
    "\n"
   ]
  },
  {
   "cell_type": "code",
   "execution_count": null,
   "id": "3cf841b2",
   "metadata": {},
   "outputs": [],
   "source": [
    "# Calculate correlation matrix (numeric columns only)\n",
    "corr_matrix = df.corr()\n",
    "\n"
   ]
  },
  {
   "cell_type": "code",
   "execution_count": null,
   "id": "78ef7788",
   "metadata": {},
   "outputs": [],
   "source": [
    "# Print results\n",
    "print(\"Summary Statistics:\")\n",
    "print(df.describe())\n",
    "\n"
   ]
  },
  {
   "cell_type": "code",
   "execution_count": null,
   "id": "f8427c32",
   "metadata": {},
   "outputs": [],
   "source": [
    "print(\"\\nCorrelation Matrix:\")\n",
    "print(corr_matrix)\n",
    "\n",
    "# Visualization (same as before but using cleaned df)\n",
    "# [Your existing plotting code here]\n",
    "\n"
   ]
  },
  {
   "cell_type": "code",
   "execution_count": null,
   "id": "fba0cf72",
   "metadata": {},
   "outputs": [],
   "source": [
    "# Create map visualization\n",
    "Map = geemap.Map(center=[20.5937, 78.9629], zoom=5)\n",
    "Map.addLayer(ndvi_median, {'min': 0, 'max': 1, 'palette': ['brown', 'yellow', 'green']}, 'NDVI')\n",
    "Map.addLayer(temp_c, {'min': 10, 'max': 30, 'palette': ['blue', 'white', 'red']}, 'Temperature (°C)')\n",
    "Map.addLayer(rain_total, {'min': 0, 'max': 5000, 'palette': ['white', 'blue', 'darkblue']}, 'Total Rainfall (mm)')\n",
    "Map.addLayerControl()\n",
    "Map"
   ]
  }
 ],
 "metadata": {
  "kernelspec": {
   "display_name": ".venv",
   "language": "python",
   "name": "python3"
  },
  "language_info": {
   "codemirror_mode": {
    "name": "ipython",
    "version": 3
   },
   "file_extension": ".py",
   "mimetype": "text/x-python",
   "name": "python",
   "nbconvert_exporter": "python",
   "pygments_lexer": "ipython3",
   "version": "3.12.3"
  }
 },
 "nbformat": 4,
 "nbformat_minor": 5
}
