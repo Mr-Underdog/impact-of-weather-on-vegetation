{
 "cells": [
  {
   "cell_type": "code",
   "execution_count": null,
   "id": "b17827fc",
   "metadata": {},
   "outputs": [],
   "source": [
    "pip install earthengine-api"
   ]
  },
  {
   "cell_type": "code",
   "execution_count": 2,
   "id": "210bb34d",
   "metadata": {},
   "outputs": [
    {
     "data": {
      "text/plain": [
       "True"
      ]
     },
     "execution_count": 2,
     "metadata": {},
     "output_type": "execute_result"
    }
   ],
   "source": [
    "import ee\n",
    "ee.Authenticate()\n"
   ]
  },
  {
   "cell_type": "code",
   "execution_count": 3,
   "id": "8e83a9e3",
   "metadata": {},
   "outputs": [],
   "source": [
    "ee.Initialize()\n"
   ]
  },
  {
   "cell_type": "code",
   "execution_count": null,
   "id": "2482b33d",
   "metadata": {},
   "outputs": [],
   "source": [
    "pip install folium\n"
   ]
  },
  {
   "cell_type": "code",
   "execution_count": null,
   "id": "0fb59e10",
   "metadata": {},
   "outputs": [],
   "source": [
    "pip install setuptools"
   ]
  },
  {
   "cell_type": "code",
   "execution_count": null,
   "id": "f01c050c",
   "metadata": {},
   "outputs": [],
   "source": [
    "pip install geemap"
   ]
  },
  {
   "cell_type": "code",
   "execution_count": null,
   "id": "22a7dda0",
   "metadata": {},
   "outputs": [],
   "source": [
    "pip install pandas"
   ]
  },
  {
   "cell_type": "code",
   "execution_count": null,
   "id": "df917d4a",
   "metadata": {},
   "outputs": [],
   "source": [
    "pip install numpy\n"
   ]
  },
  {
   "cell_type": "code",
   "execution_count": null,
   "id": "ad4d0ea7",
   "metadata": {},
   "outputs": [],
   "source": [
    "pip install matplotlib"
   ]
  },
  {
   "cell_type": "code",
   "execution_count": null,
   "id": "c62a2ada",
   "metadata": {},
   "outputs": [],
   "source": [
    "pip install scipy"
   ]
  },
  {
   "cell_type": "code",
   "execution_count": 11,
   "id": "4b284dbe",
   "metadata": {},
   "outputs": [],
   "source": [
    "import geemap\n",
    "import folium\n",
    "import pandas as pd\n",
    "import numpy as np\n",
    "import matplotlib.pyplot as plt\n",
    "import scipy.stats as stats"
   ]
  },
  {
   "cell_type": "code",
   "execution_count": 27,
   "id": "a76e7f48",
   "metadata": {},
   "outputs": [
    {
     "data": {
      "text/html": [
       "\n",
       "            <style>\n",
       "                .geemap-dark {\n",
       "                    --jp-widgets-color: white;\n",
       "                    --jp-widgets-label-color: white;\n",
       "                    --jp-ui-font-color1: white;\n",
       "                    --jp-layout-color2: #454545;\n",
       "                    background-color: #383838;\n",
       "                }\n",
       "\n",
       "                .geemap-dark .jupyter-button {\n",
       "                    --jp-layout-color3: #383838;\n",
       "                }\n",
       "\n",
       "                .geemap-colab {\n",
       "                    background-color: var(--colab-primary-surface-color, white);\n",
       "                }\n",
       "\n",
       "                .geemap-colab .jupyter-button {\n",
       "                    --jp-layout-color3: var(--colab-primary-surface-color, white);\n",
       "                }\n",
       "            </style>\n",
       "            "
      ],
      "text/plain": [
       "<IPython.core.display.HTML object>"
      ]
     },
     "metadata": {},
     "output_type": "display_data"
    }
   ],
   "source": [
    "# Define the region (Full India)\n",
    "region = ee.Geometry.Polygon(\n",
    "    [[\n",
    "      \n",
    "    [76.7, 28.4],  # Southwest corner (Delhi)\n",
    "    [77.4, 28.4],  # Southeast corner\n",
    "    [77.4, 28.9],  # Northeast corner (Faridabad, Haryana)\n",
    "    [76.7, 28.9],  # Northwest corner (Gurugram, Haryana)\n",
    "    [76.7, 28.4]   # Close the polygon\n",
    "\n",
    "    ]]\n",
    ")\n",
    "\n"
   ]
  },
  {
   "cell_type": "code",
   "execution_count": 28,
   "id": "14d67c37",
   "metadata": {},
   "outputs": [
    {
     "data": {
      "text/html": [
       "\n",
       "            <style>\n",
       "                .geemap-dark {\n",
       "                    --jp-widgets-color: white;\n",
       "                    --jp-widgets-label-color: white;\n",
       "                    --jp-ui-font-color1: white;\n",
       "                    --jp-layout-color2: #454545;\n",
       "                    background-color: #383838;\n",
       "                }\n",
       "\n",
       "                .geemap-dark .jupyter-button {\n",
       "                    --jp-layout-color3: #383838;\n",
       "                }\n",
       "\n",
       "                .geemap-colab {\n",
       "                    background-color: var(--colab-primary-surface-color, white);\n",
       "                }\n",
       "\n",
       "                .geemap-colab .jupyter-button {\n",
       "                    --jp-layout-color3: var(--colab-primary-surface-color, white);\n",
       "                }\n",
       "            </style>\n",
       "            "
      ],
      "text/plain": [
       "<IPython.core.display.HTML object>"
      ]
     },
     "metadata": {},
     "output_type": "display_data"
    }
   ],
   "source": [
    "# Sentinel-2 cloud mask function\n",
    "def maskS2clouds(image):\n",
    "    qa = image.select('QA60')\n",
    "    cloudBitMask = 1 << 10\n",
    "    cirrusBitMask = 1 << 11\n",
    "    mask = qa.bitwiseAnd(cloudBitMask).eq(0).And(qa.bitwiseAnd(cirrusBitMask).eq(0))\n",
    "    return image.updateMask(mask).divide(10000)\n",
    "\n"
   ]
  },
  {
   "cell_type": "code",
   "execution_count": 29,
   "id": "42157f0c",
   "metadata": {},
   "outputs": [
    {
     "data": {
      "text/html": [
       "\n",
       "            <style>\n",
       "                .geemap-dark {\n",
       "                    --jp-widgets-color: white;\n",
       "                    --jp-widgets-label-color: white;\n",
       "                    --jp-ui-font-color1: white;\n",
       "                    --jp-layout-color2: #454545;\n",
       "                    background-color: #383838;\n",
       "                }\n",
       "\n",
       "                .geemap-dark .jupyter-button {\n",
       "                    --jp-layout-color3: #383838;\n",
       "                }\n",
       "\n",
       "                .geemap-colab {\n",
       "                    background-color: var(--colab-primary-surface-color, white);\n",
       "                }\n",
       "\n",
       "                .geemap-colab .jupyter-button {\n",
       "                    --jp-layout-color3: var(--colab-primary-surface-color, white);\n",
       "                }\n",
       "            </style>\n",
       "            "
      ],
      "text/plain": [
       "<IPython.core.display.HTML object>"
      ]
     },
     "metadata": {},
     "output_type": "display_data"
    }
   ],
   "source": [
    "# Load and filter Sentinel-2 data (2018-2023)\n",
    "sentinel = (ee.ImageCollection(\"COPERNICUS/S2_HARMONIZED\")\n",
    "            .filterBounds(region)\n",
    "            .filterDate('2018-01-01', '2023-12-31')\n",
    "            .filter(ee.Filter.lt('CLOUDY_PIXEL_PERCENTAGE', 20))\n",
    "            .map(maskS2clouds))\n",
    "\n"
   ]
  },
  {
   "cell_type": "code",
   "execution_count": 30,
   "id": "d5a158e0",
   "metadata": {},
   "outputs": [
    {
     "data": {
      "text/html": [
       "\n",
       "            <style>\n",
       "                .geemap-dark {\n",
       "                    --jp-widgets-color: white;\n",
       "                    --jp-widgets-label-color: white;\n",
       "                    --jp-ui-font-color1: white;\n",
       "                    --jp-layout-color2: #454545;\n",
       "                    background-color: #383838;\n",
       "                }\n",
       "\n",
       "                .geemap-dark .jupyter-button {\n",
       "                    --jp-layout-color3: #383838;\n",
       "                }\n",
       "\n",
       "                .geemap-colab {\n",
       "                    background-color: var(--colab-primary-surface-color, white);\n",
       "                }\n",
       "\n",
       "                .geemap-colab .jupyter-button {\n",
       "                    --jp-layout-color3: var(--colab-primary-surface-color, white);\n",
       "                }\n",
       "            </style>\n",
       "            "
      ],
      "text/plain": [
       "<IPython.core.display.HTML object>"
      ]
     },
     "metadata": {},
     "output_type": "display_data"
    }
   ],
   "source": [
    "# NDVI calculation function\n",
    "def addNDVI(image):\n",
    "    ndvi = image.normalizedDifference(['B8', 'B4']).rename('NDVI')\n",
    "    return image.addBands(ndvi)\n",
    "\n"
   ]
  },
  {
   "cell_type": "code",
   "execution_count": 31,
   "id": "a7879820",
   "metadata": {},
   "outputs": [
    {
     "data": {
      "text/html": [
       "\n",
       "            <style>\n",
       "                .geemap-dark {\n",
       "                    --jp-widgets-color: white;\n",
       "                    --jp-widgets-label-color: white;\n",
       "                    --jp-ui-font-color1: white;\n",
       "                    --jp-layout-color2: #454545;\n",
       "                    background-color: #383838;\n",
       "                }\n",
       "\n",
       "                .geemap-dark .jupyter-button {\n",
       "                    --jp-layout-color3: #383838;\n",
       "                }\n",
       "\n",
       "                .geemap-colab {\n",
       "                    background-color: var(--colab-primary-surface-color, white);\n",
       "                }\n",
       "\n",
       "                .geemap-colab .jupyter-button {\n",
       "                    --jp-layout-color3: var(--colab-primary-surface-color, white);\n",
       "                }\n",
       "            </style>\n",
       "            "
      ],
      "text/plain": [
       "<IPython.core.display.HTML object>"
      ]
     },
     "metadata": {},
     "output_type": "display_data"
    }
   ],
   "source": [
    "# Apply NDVI calculation\n",
    "sentinel = sentinel.map(addNDVI)\n",
    "\n"
   ]
  },
  {
   "cell_type": "code",
   "execution_count": 32,
   "id": "6c991b0c",
   "metadata": {},
   "outputs": [
    {
     "data": {
      "text/html": [
       "\n",
       "            <style>\n",
       "                .geemap-dark {\n",
       "                    --jp-widgets-color: white;\n",
       "                    --jp-widgets-label-color: white;\n",
       "                    --jp-ui-font-color1: white;\n",
       "                    --jp-layout-color2: #454545;\n",
       "                    background-color: #383838;\n",
       "                }\n",
       "\n",
       "                .geemap-dark .jupyter-button {\n",
       "                    --jp-layout-color3: #383838;\n",
       "                }\n",
       "\n",
       "                .geemap-colab {\n",
       "                    background-color: var(--colab-primary-surface-color, white);\n",
       "                }\n",
       "\n",
       "                .geemap-colab .jupyter-button {\n",
       "                    --jp-layout-color3: var(--colab-primary-surface-color, white);\n",
       "                }\n",
       "            </style>\n",
       "            "
      ],
      "text/plain": [
       "<IPython.core.display.HTML object>"
      ]
     },
     "metadata": {},
     "output_type": "display_data"
    }
   ],
   "source": [
    "# Calculate NDVI median composite\n",
    "ndvi_median = sentinel.select('NDVI').median().clip(region)\n",
    "\n"
   ]
  },
  {
   "cell_type": "code",
   "execution_count": 33,
   "id": "fcac6bee",
   "metadata": {},
   "outputs": [
    {
     "data": {
      "text/html": [
       "\n",
       "            <style>\n",
       "                .geemap-dark {\n",
       "                    --jp-widgets-color: white;\n",
       "                    --jp-widgets-label-color: white;\n",
       "                    --jp-ui-font-color1: white;\n",
       "                    --jp-layout-color2: #454545;\n",
       "                    background-color: #383838;\n",
       "                }\n",
       "\n",
       "                .geemap-dark .jupyter-button {\n",
       "                    --jp-layout-color3: #383838;\n",
       "                }\n",
       "\n",
       "                .geemap-colab {\n",
       "                    background-color: var(--colab-primary-surface-color, white);\n",
       "                }\n",
       "\n",
       "                .geemap-colab .jupyter-button {\n",
       "                    --jp-layout-color3: var(--colab-primary-surface-color, white);\n",
       "                }\n",
       "            </style>\n",
       "            "
      ],
      "text/plain": [
       "<IPython.core.display.HTML object>"
      ]
     },
     "metadata": {},
     "output_type": "display_data"
    }
   ],
   "source": [
    "# ERA5-Land Temperature (2m temp in Celsius) - 2018-2023\n",
    "era5_temp = (ee.ImageCollection(\"ECMWF/ERA5_LAND/DAILY_AGGR\")\n",
    "             .filterBounds(region)\n",
    "             .filterDate('2018-01-01', '2023-12-31')\n",
    "             .select('temperature_2m'))\n",
    "\n",
    "temp_c = era5_temp.mean().subtract(273.15).rename('Temperature_C').clip(region)\n",
    "\n"
   ]
  },
  {
   "cell_type": "code",
   "execution_count": 34,
   "id": "7255ff58",
   "metadata": {},
   "outputs": [
    {
     "data": {
      "text/html": [
       "\n",
       "            <style>\n",
       "                .geemap-dark {\n",
       "                    --jp-widgets-color: white;\n",
       "                    --jp-widgets-label-color: white;\n",
       "                    --jp-ui-font-color1: white;\n",
       "                    --jp-layout-color2: #454545;\n",
       "                    background-color: #383838;\n",
       "                }\n",
       "\n",
       "                .geemap-dark .jupyter-button {\n",
       "                    --jp-layout-color3: #383838;\n",
       "                }\n",
       "\n",
       "                .geemap-colab {\n",
       "                    background-color: var(--colab-primary-surface-color, white);\n",
       "                }\n",
       "\n",
       "                .geemap-colab .jupyter-button {\n",
       "                    --jp-layout-color3: var(--colab-primary-surface-color, white);\n",
       "                }\n",
       "            </style>\n",
       "            "
      ],
      "text/plain": [
       "<IPython.core.display.HTML object>"
      ]
     },
     "metadata": {},
     "output_type": "display_data"
    }
   ],
   "source": [
    "# ERA5 Wind Speed components - 2018-2023\n",
    "era5_wind = (ee.ImageCollection(\"ECMWF/ERA5_LAND/DAILY_AGGR\")\n",
    "             .filterBounds(region)\n",
    "             .filterDate('2018-01-01', '2023-12-31')\n",
    "             .select('u_component_of_wind_10m', 'v_component_of_wind_10m'))\n",
    "\n"
   ]
  },
  {
   "cell_type": "code",
   "execution_count": 35,
   "id": "c326b34f",
   "metadata": {},
   "outputs": [
    {
     "data": {
      "text/html": [
       "\n",
       "            <style>\n",
       "                .geemap-dark {\n",
       "                    --jp-widgets-color: white;\n",
       "                    --jp-widgets-label-color: white;\n",
       "                    --jp-ui-font-color1: white;\n",
       "                    --jp-layout-color2: #454545;\n",
       "                    background-color: #383838;\n",
       "                }\n",
       "\n",
       "                .geemap-dark .jupyter-button {\n",
       "                    --jp-layout-color3: #383838;\n",
       "                }\n",
       "\n",
       "                .geemap-colab {\n",
       "                    background-color: var(--colab-primary-surface-color, white);\n",
       "                }\n",
       "\n",
       "                .geemap-colab .jupyter-button {\n",
       "                    --jp-layout-color3: var(--colab-primary-surface-color, white);\n",
       "                }\n",
       "            </style>\n",
       "            "
      ],
      "text/plain": [
       "<IPython.core.display.HTML object>"
      ]
     },
     "metadata": {},
     "output_type": "display_data"
    }
   ],
   "source": [
    "# Calculate wind speed magnitude\n",
    "wind_speed = era5_wind.map(lambda image: \n",
    "    image.expression('sqrt(u**2 + v**2)', {\n",
    "        'u': image.select('u_component_of_wind_10m'),\n",
    "        'v': image.select('v_component_of_wind_10m')\n",
    "    })).mean().rename('Wind_Speed_ms').clip(region)\n",
    "\n"
   ]
  },
  {
   "cell_type": "code",
   "execution_count": 36,
   "id": "b6f14470",
   "metadata": {},
   "outputs": [
    {
     "data": {
      "text/html": [
       "\n",
       "            <style>\n",
       "                .geemap-dark {\n",
       "                    --jp-widgets-color: white;\n",
       "                    --jp-widgets-label-color: white;\n",
       "                    --jp-ui-font-color1: white;\n",
       "                    --jp-layout-color2: #454545;\n",
       "                    background-color: #383838;\n",
       "                }\n",
       "\n",
       "                .geemap-dark .jupyter-button {\n",
       "                    --jp-layout-color3: #383838;\n",
       "                }\n",
       "\n",
       "                .geemap-colab {\n",
       "                    background-color: var(--colab-primary-surface-color, white);\n",
       "                }\n",
       "\n",
       "                .geemap-colab .jupyter-button {\n",
       "                    --jp-layout-color3: var(--colab-primary-surface-color, white);\n",
       "                }\n",
       "            </style>\n",
       "            "
      ],
      "text/plain": [
       "<IPython.core.display.HTML object>"
      ]
     },
     "metadata": {},
     "output_type": "display_data"
    }
   ],
   "source": [
    "# CHIRPS Rainfall (total precipitation 2018-2023)\n",
    "chirps = (ee.ImageCollection(\"UCSB-CHG/CHIRPS/DAILY\")\n",
    "          .filterBounds(region)\n",
    "          .filterDate('2018-01-01', '2023-12-31')\n",
    "          .select('precipitation'))\n",
    "\n",
    "rain_total = chirps.sum().rename('Rainfall_mm').clip(region)\n"
   ]
  },
  {
   "cell_type": "code",
   "execution_count": 38,
   "id": "343b0497",
   "metadata": {},
   "outputs": [
    {
     "data": {
      "text/html": [
       "\n",
       "            <style>\n",
       "                .geemap-dark {\n",
       "                    --jp-widgets-color: white;\n",
       "                    --jp-widgets-label-color: white;\n",
       "                    --jp-ui-font-color1: white;\n",
       "                    --jp-layout-color2: #454545;\n",
       "                    background-color: #383838;\n",
       "                }\n",
       "\n",
       "                .geemap-dark .jupyter-button {\n",
       "                    --jp-layout-color3: #383838;\n",
       "                }\n",
       "\n",
       "                .geemap-colab {\n",
       "                    background-color: var(--colab-primary-surface-color, white);\n",
       "                }\n",
       "\n",
       "                .geemap-colab .jupyter-button {\n",
       "                    --jp-layout-color3: var(--colab-primary-surface-color, white);\n",
       "                }\n",
       "            </style>\n",
       "            "
      ],
      "text/plain": [
       "<IPython.core.display.HTML object>"
      ]
     },
     "metadata": {},
     "output_type": "display_data"
    }
   ],
   "source": [
    "# ERA5-Land Solar radiation (2018-2023 mean)\n",
    "solar = (ee.ImageCollection(\"ECMWF/ERA5_LAND/HOURLY\")\n",
    "         .filterBounds(region)\n",
    "         .filterDate('2018-01-01', '2023-12-31')\n",
    "         .select('surface_solar_radiation_downwards'))\n",
    "\n",
    "solar_mean = solar.mean().divide(1e6).rename('Solar_MJ').clip(region)\n"
   ]
  },
  {
   "cell_type": "code",
   "execution_count": 39,
   "id": "2a66ae2f",
   "metadata": {},
   "outputs": [
    {
     "data": {
      "text/html": [
       "\n",
       "            <style>\n",
       "                .geemap-dark {\n",
       "                    --jp-widgets-color: white;\n",
       "                    --jp-widgets-label-color: white;\n",
       "                    --jp-ui-font-color1: white;\n",
       "                    --jp-layout-color2: #454545;\n",
       "                    background-color: #383838;\n",
       "                }\n",
       "\n",
       "                .geemap-dark .jupyter-button {\n",
       "                    --jp-layout-color3: #383838;\n",
       "                }\n",
       "\n",
       "                .geemap-colab {\n",
       "                    background-color: var(--colab-primary-surface-color, white);\n",
       "                }\n",
       "\n",
       "                .geemap-colab .jupyter-button {\n",
       "                    --jp-layout-color3: var(--colab-primary-surface-color, white);\n",
       "                }\n",
       "            </style>\n",
       "            "
      ],
      "text/plain": [
       "<IPython.core.display.HTML object>"
      ]
     },
     "metadata": {},
     "output_type": "display_data"
    }
   ],
   "source": [
    "# Combine all layers into a single image\n",
    "combined = ee.Image.cat([\n",
    "    ndvi_median,\n",
    "    temp_c,\n",
    "    rain_total,\n",
    "    solar_mean,\n",
    "    wind_speed\n",
    "]).rename(['NDVI', 'Temperature_C', 'Rainfall_mm', 'Solar_MJ', 'Wind_Speed_ms'])\n"
   ]
  },
  {
   "cell_type": "code",
   "execution_count": 40,
   "id": "673995fd",
   "metadata": {},
   "outputs": [
    {
     "data": {
      "text/html": [
       "\n",
       "            <style>\n",
       "                .geemap-dark {\n",
       "                    --jp-widgets-color: white;\n",
       "                    --jp-widgets-label-color: white;\n",
       "                    --jp-ui-font-color1: white;\n",
       "                    --jp-layout-color2: #454545;\n",
       "                    background-color: #383838;\n",
       "                }\n",
       "\n",
       "                .geemap-dark .jupyter-button {\n",
       "                    --jp-layout-color3: #383838;\n",
       "                }\n",
       "\n",
       "                .geemap-colab {\n",
       "                    background-color: var(--colab-primary-surface-color, white);\n",
       "                }\n",
       "\n",
       "                .geemap-colab .jupyter-button {\n",
       "                    --jp-layout-color3: var(--colab-primary-surface-color, white);\n",
       "                }\n",
       "            </style>\n",
       "            "
      ],
      "text/plain": [
       "<IPython.core.display.HTML object>"
      ]
     },
     "metadata": {},
     "output_type": "display_data"
    }
   ],
   "source": [
    "# Sample points for analysis (reduced count for large area)\n",
    "sample_points = ee.FeatureCollection.randomPoints(\n",
    "    region,  # Region first\n",
    "    100,     # Number of points second\n",
    "    seed=42  # Optional seed\n",
    ")\n"
   ]
  },
  {
   "cell_type": "code",
   "execution_count": 41,
   "id": "9be09eee",
   "metadata": {},
   "outputs": [
    {
     "data": {
      "text/html": [
       "\n",
       "            <style>\n",
       "                .geemap-dark {\n",
       "                    --jp-widgets-color: white;\n",
       "                    --jp-widgets-label-color: white;\n",
       "                    --jp-ui-font-color1: white;\n",
       "                    --jp-layout-color2: #454545;\n",
       "                    background-color: #383838;\n",
       "                }\n",
       "\n",
       "                .geemap-dark .jupyter-button {\n",
       "                    --jp-layout-color3: #383838;\n",
       "                }\n",
       "\n",
       "                .geemap-colab {\n",
       "                    background-color: var(--colab-primary-surface-color, white);\n",
       "                }\n",
       "\n",
       "                .geemap-colab .jupyter-button {\n",
       "                    --jp-layout-color3: var(--colab-primary-surface-color, white);\n",
       "                }\n",
       "            </style>\n",
       "            "
      ],
      "text/plain": [
       "<IPython.core.display.HTML object>"
      ]
     },
     "metadata": {},
     "output_type": "display_data"
    }
   ],
   "source": [
    "# Sample the combined image (scale goes here)\n",
    "samples = combined.sampleRegions(\n",
    "    collection=sample_points,\n",
    "    scale=5000,  # Correct location for scale\n",
    "    geometries=True\n",
    ")\n",
    "\n"
   ]
  },
  {
   "cell_type": "code",
   "execution_count": 42,
   "id": "ee684a13",
   "metadata": {},
   "outputs": [
    {
     "data": {
      "text/html": [
       "\n",
       "            <style>\n",
       "                .geemap-dark {\n",
       "                    --jp-widgets-color: white;\n",
       "                    --jp-widgets-label-color: white;\n",
       "                    --jp-ui-font-color1: white;\n",
       "                    --jp-layout-color2: #454545;\n",
       "                    background-color: #383838;\n",
       "                }\n",
       "\n",
       "                .geemap-dark .jupyter-button {\n",
       "                    --jp-layout-color3: #383838;\n",
       "                }\n",
       "\n",
       "                .geemap-colab {\n",
       "                    background-color: var(--colab-primary-surface-color, white);\n",
       "                }\n",
       "\n",
       "                .geemap-colab .jupyter-button {\n",
       "                    --jp-layout-color3: var(--colab-primary-surface-color, white);\n",
       "                }\n",
       "            </style>\n",
       "            "
      ],
      "text/plain": [
       "<IPython.core.display.HTML object>"
      ]
     },
     "metadata": {},
     "output_type": "display_data"
    }
   ],
   "source": [
    "# Get the sample data\n",
    "sample_list = samples.getInfo()['features']"
   ]
  },
  {
   "cell_type": "code",
   "execution_count": 43,
   "id": "93674093",
   "metadata": {},
   "outputs": [
    {
     "data": {
      "text/html": [
       "\n",
       "            <style>\n",
       "                .geemap-dark {\n",
       "                    --jp-widgets-color: white;\n",
       "                    --jp-widgets-label-color: white;\n",
       "                    --jp-ui-font-color1: white;\n",
       "                    --jp-layout-color2: #454545;\n",
       "                    background-color: #383838;\n",
       "                }\n",
       "\n",
       "                .geemap-dark .jupyter-button {\n",
       "                    --jp-layout-color3: #383838;\n",
       "                }\n",
       "\n",
       "                .geemap-colab {\n",
       "                    background-color: var(--colab-primary-surface-color, white);\n",
       "                }\n",
       "\n",
       "                .geemap-colab .jupyter-button {\n",
       "                    --jp-layout-color3: var(--colab-primary-surface-color, white);\n",
       "                }\n",
       "            </style>\n",
       "            "
      ],
      "text/plain": [
       "<IPython.core.display.HTML object>"
      ]
     },
     "metadata": {},
     "output_type": "display_data"
    },
    {
     "data": {
      "text/html": [
       "<div>\n",
       "<style scoped>\n",
       "    .dataframe tbody tr th:only-of-type {\n",
       "        vertical-align: middle;\n",
       "    }\n",
       "\n",
       "    .dataframe tbody tr th {\n",
       "        vertical-align: top;\n",
       "    }\n",
       "\n",
       "    .dataframe thead th {\n",
       "        text-align: right;\n",
       "    }\n",
       "</style>\n",
       "<table border=\"1\" class=\"dataframe\">\n",
       "  <thead>\n",
       "    <tr style=\"text-align: right;\">\n",
       "      <th></th>\n",
       "      <th>NDVI</th>\n",
       "      <th>Temperature</th>\n",
       "      <th>Rainfall</th>\n",
       "      <th>Solar_Radiation</th>\n",
       "      <th>Wind_Speed</th>\n",
       "    </tr>\n",
       "  </thead>\n",
       "  <tbody>\n",
       "    <tr>\n",
       "      <th>0</th>\n",
       "      <td>0.187671</td>\n",
       "      <td>24.470470</td>\n",
       "      <td>4909.913465</td>\n",
       "      <td>13.751113</td>\n",
       "      <td>1.945148</td>\n",
       "    </tr>\n",
       "    <tr>\n",
       "      <th>1</th>\n",
       "      <td>0.214327</td>\n",
       "      <td>24.437675</td>\n",
       "      <td>4634.208761</td>\n",
       "      <td>13.766753</td>\n",
       "      <td>1.937411</td>\n",
       "    </tr>\n",
       "    <tr>\n",
       "      <th>2</th>\n",
       "      <td>0.268017</td>\n",
       "      <td>24.367409</td>\n",
       "      <td>5090.649848</td>\n",
       "      <td>13.723141</td>\n",
       "      <td>1.977536</td>\n",
       "    </tr>\n",
       "    <tr>\n",
       "      <th>3</th>\n",
       "      <td>0.161434</td>\n",
       "      <td>24.490525</td>\n",
       "      <td>4767.635635</td>\n",
       "      <td>13.754168</td>\n",
       "      <td>1.955593</td>\n",
       "    </tr>\n",
       "    <tr>\n",
       "      <th>4</th>\n",
       "      <td>0.311230</td>\n",
       "      <td>24.717309</td>\n",
       "      <td>4612.523756</td>\n",
       "      <td>13.791419</td>\n",
       "      <td>1.931006</td>\n",
       "    </tr>\n",
       "    <tr>\n",
       "      <th>...</th>\n",
       "      <td>...</td>\n",
       "      <td>...</td>\n",
       "      <td>...</td>\n",
       "      <td>...</td>\n",
       "      <td>...</td>\n",
       "    </tr>\n",
       "    <tr>\n",
       "      <th>95</th>\n",
       "      <td>0.027727</td>\n",
       "      <td>24.212754</td>\n",
       "      <td>5556.561731</td>\n",
       "      <td>13.705800</td>\n",
       "      <td>1.958983</td>\n",
       "    </tr>\n",
       "    <tr>\n",
       "      <th>96</th>\n",
       "      <td>0.189732</td>\n",
       "      <td>24.854562</td>\n",
       "      <td>4244.630192</td>\n",
       "      <td>13.872300</td>\n",
       "      <td>1.859600</td>\n",
       "    </tr>\n",
       "    <tr>\n",
       "      <th>97</th>\n",
       "      <td>0.227532</td>\n",
       "      <td>24.108268</td>\n",
       "      <td>4872.379375</td>\n",
       "      <td>13.729886</td>\n",
       "      <td>1.952946</td>\n",
       "    </tr>\n",
       "    <tr>\n",
       "      <th>98</th>\n",
       "      <td>0.209778</td>\n",
       "      <td>24.373232</td>\n",
       "      <td>5547.875211</td>\n",
       "      <td>13.716270</td>\n",
       "      <td>1.976481</td>\n",
       "    </tr>\n",
       "    <tr>\n",
       "      <th>99</th>\n",
       "      <td>0.096445</td>\n",
       "      <td>24.490525</td>\n",
       "      <td>4804.775976</td>\n",
       "      <td>13.754168</td>\n",
       "      <td>1.955593</td>\n",
       "    </tr>\n",
       "  </tbody>\n",
       "</table>\n",
       "<p>100 rows × 5 columns</p>\n",
       "</div>"
      ],
      "text/plain": [
       "        NDVI  Temperature     Rainfall  Solar_Radiation  Wind_Speed\n",
       "0   0.187671    24.470470  4909.913465        13.751113    1.945148\n",
       "1   0.214327    24.437675  4634.208761        13.766753    1.937411\n",
       "2   0.268017    24.367409  5090.649848        13.723141    1.977536\n",
       "3   0.161434    24.490525  4767.635635        13.754168    1.955593\n",
       "4   0.311230    24.717309  4612.523756        13.791419    1.931006\n",
       "..       ...          ...          ...              ...         ...\n",
       "95  0.027727    24.212754  5556.561731        13.705800    1.958983\n",
       "96  0.189732    24.854562  4244.630192        13.872300    1.859600\n",
       "97  0.227532    24.108268  4872.379375        13.729886    1.952946\n",
       "98  0.209778    24.373232  5547.875211        13.716270    1.976481\n",
       "99  0.096445    24.490525  4804.775976        13.754168    1.955593\n",
       "\n",
       "[100 rows x 5 columns]"
      ]
     },
     "execution_count": 43,
     "metadata": {},
     "output_type": "execute_result"
    }
   ],
   "source": [
    "# Create dataframe\n",
    "df = pd.DataFrame({\n",
    "    'NDVI': [f['properties']['NDVI'] for f in sample_list],\n",
    "    'Temperature': [f['properties']['Temperature_C'] for f in sample_list],\n",
    "    'Rainfall': [f['properties']['Rainfall_mm'] for f in sample_list],\n",
    "    'Solar_Radiation': [f['properties']['Solar_MJ'] for f in sample_list],\n",
    "    'Wind_Speed': [f['properties']['Wind_Speed_ms'] for f in sample_list]\n",
    "})\n",
    "\n",
    "df"
   ]
  },
  {
   "cell_type": "code",
   "execution_count": 44,
   "id": "d5c06cdd",
   "metadata": {},
   "outputs": [
    {
     "data": {
      "text/html": [
       "\n",
       "            <style>\n",
       "                .geemap-dark {\n",
       "                    --jp-widgets-color: white;\n",
       "                    --jp-widgets-label-color: white;\n",
       "                    --jp-ui-font-color1: white;\n",
       "                    --jp-layout-color2: #454545;\n",
       "                    background-color: #383838;\n",
       "                }\n",
       "\n",
       "                .geemap-dark .jupyter-button {\n",
       "                    --jp-layout-color3: #383838;\n",
       "                }\n",
       "\n",
       "                .geemap-colab {\n",
       "                    background-color: var(--colab-primary-surface-color, white);\n",
       "                }\n",
       "\n",
       "                .geemap-colab .jupyter-button {\n",
       "                    --jp-layout-color3: var(--colab-primary-surface-color, white);\n",
       "                }\n",
       "            </style>\n",
       "            "
      ],
      "text/plain": [
       "<IPython.core.display.HTML object>"
      ]
     },
     "metadata": {},
     "output_type": "display_data"
    }
   ],
   "source": [
    "# Remove any rows with missing values\n",
    "df = df.dropna()\n",
    "\n"
   ]
  },
  {
   "cell_type": "code",
   "execution_count": 45,
   "id": "3cf841b2",
   "metadata": {},
   "outputs": [
    {
     "data": {
      "text/html": [
       "\n",
       "            <style>\n",
       "                .geemap-dark {\n",
       "                    --jp-widgets-color: white;\n",
       "                    --jp-widgets-label-color: white;\n",
       "                    --jp-ui-font-color1: white;\n",
       "                    --jp-layout-color2: #454545;\n",
       "                    background-color: #383838;\n",
       "                }\n",
       "\n",
       "                .geemap-dark .jupyter-button {\n",
       "                    --jp-layout-color3: #383838;\n",
       "                }\n",
       "\n",
       "                .geemap-colab {\n",
       "                    background-color: var(--colab-primary-surface-color, white);\n",
       "                }\n",
       "\n",
       "                .geemap-colab .jupyter-button {\n",
       "                    --jp-layout-color3: var(--colab-primary-surface-color, white);\n",
       "                }\n",
       "            </style>\n",
       "            "
      ],
      "text/plain": [
       "<IPython.core.display.HTML object>"
      ]
     },
     "metadata": {},
     "output_type": "display_data"
    }
   ],
   "source": [
    "# Calculate correlation matrix (numeric columns only)\n",
    "corr_matrix = df.corr()\n",
    "\n"
   ]
  },
  {
   "cell_type": "code",
   "execution_count": 46,
   "id": "78ef7788",
   "metadata": {},
   "outputs": [
    {
     "data": {
      "text/html": [
       "\n",
       "            <style>\n",
       "                .geemap-dark {\n",
       "                    --jp-widgets-color: white;\n",
       "                    --jp-widgets-label-color: white;\n",
       "                    --jp-ui-font-color1: white;\n",
       "                    --jp-layout-color2: #454545;\n",
       "                    background-color: #383838;\n",
       "                }\n",
       "\n",
       "                .geemap-dark .jupyter-button {\n",
       "                    --jp-layout-color3: #383838;\n",
       "                }\n",
       "\n",
       "                .geemap-colab {\n",
       "                    background-color: var(--colab-primary-surface-color, white);\n",
       "                }\n",
       "\n",
       "                .geemap-colab .jupyter-button {\n",
       "                    --jp-layout-color3: var(--colab-primary-surface-color, white);\n",
       "                }\n",
       "            </style>\n",
       "            "
      ],
      "text/plain": [
       "<IPython.core.display.HTML object>"
      ]
     },
     "metadata": {},
     "output_type": "display_data"
    },
    {
     "name": "stdout",
     "output_type": "stream",
     "text": [
      "Summary Statistics:\n",
      "             NDVI  Temperature     Rainfall  Solar_Radiation  Wind_Speed\n",
      "count  100.000000   100.000000   100.000000       100.000000  100.000000\n",
      "mean     0.202720    24.388786  4815.667937        13.759360    1.940398\n",
      "std      0.061564     0.242038   475.170787         0.046217    0.028113\n",
      "min      0.027727    23.985944  4146.472812        13.693964    1.858306\n",
      "25%      0.172247    24.208628  4406.448062        13.720199    1.924544\n",
      "50%      0.209778    24.373232  4789.507221        13.754168    1.947645\n",
      "75%      0.242778    24.490525  5124.340527        13.782977    1.958983\n",
      "max      0.376364    24.915944  5914.994488        13.881196    1.977536\n"
     ]
    }
   ],
   "source": [
    "# Print results\n",
    "print(\"Summary Statistics:\")\n",
    "print(df.describe())\n",
    "\n"
   ]
  },
  {
   "cell_type": "code",
   "execution_count": 47,
   "id": "f8427c32",
   "metadata": {},
   "outputs": [
    {
     "data": {
      "text/html": [
       "\n",
       "            <style>\n",
       "                .geemap-dark {\n",
       "                    --jp-widgets-color: white;\n",
       "                    --jp-widgets-label-color: white;\n",
       "                    --jp-ui-font-color1: white;\n",
       "                    --jp-layout-color2: #454545;\n",
       "                    background-color: #383838;\n",
       "                }\n",
       "\n",
       "                .geemap-dark .jupyter-button {\n",
       "                    --jp-layout-color3: #383838;\n",
       "                }\n",
       "\n",
       "                .geemap-colab {\n",
       "                    background-color: var(--colab-primary-surface-color, white);\n",
       "                }\n",
       "\n",
       "                .geemap-colab .jupyter-button {\n",
       "                    --jp-layout-color3: var(--colab-primary-surface-color, white);\n",
       "                }\n",
       "            </style>\n",
       "            "
      ],
      "text/plain": [
       "<IPython.core.display.HTML object>"
      ]
     },
     "metadata": {},
     "output_type": "display_data"
    },
    {
     "name": "stdout",
     "output_type": "stream",
     "text": [
      "\n",
      "Correlation Matrix:\n",
      "                     NDVI  Temperature  Rainfall  Solar_Radiation  Wind_Speed\n",
      "NDVI             1.000000    -0.105293 -0.038536         0.030438   -0.063079\n",
      "Temperature     -0.105293     1.000000 -0.646370         0.822088   -0.666171\n",
      "Rainfall        -0.038536    -0.646370  1.000000        -0.901870    0.795202\n",
      "Solar_Radiation  0.030438     0.822088 -0.901870         1.000000   -0.930133\n",
      "Wind_Speed      -0.063079    -0.666171  0.795202        -0.930133    1.000000\n"
     ]
    }
   ],
   "source": [
    "print(\"\\nCorrelation Matrix:\")\n",
    "print(corr_matrix)\n",
    "\n",
    "# Visualization (same as before but using cleaned df)\n",
    "# [Your existing plotting code here]\n",
    "\n"
   ]
  },
  {
   "cell_type": "code",
   "execution_count": 51,
   "id": "fba0cf72",
   "metadata": {},
   "outputs": [
    {
     "data": {
      "text/html": [
       "\n",
       "            <style>\n",
       "                .geemap-dark {\n",
       "                    --jp-widgets-color: white;\n",
       "                    --jp-widgets-label-color: white;\n",
       "                    --jp-ui-font-color1: white;\n",
       "                    --jp-layout-color2: #454545;\n",
       "                    background-color: #383838;\n",
       "                }\n",
       "\n",
       "                .geemap-dark .jupyter-button {\n",
       "                    --jp-layout-color3: #383838;\n",
       "                }\n",
       "\n",
       "                .geemap-colab {\n",
       "                    background-color: var(--colab-primary-surface-color, white);\n",
       "                }\n",
       "\n",
       "                .geemap-colab .jupyter-button {\n",
       "                    --jp-layout-color3: var(--colab-primary-surface-color, white);\n",
       "                }\n",
       "            </style>\n",
       "            "
      ],
      "text/plain": [
       "<IPython.core.display.HTML object>"
      ]
     },
     "metadata": {},
     "output_type": "display_data"
    },
    {
     "data": {
      "application/vnd.jupyter.widget-view+json": {
       "model_id": "36d9d5eeaa7f437fb64d3f31b00e4705",
       "version_major": 2,
       "version_minor": 0
      },
      "text/plain": [
       "Map(center=[20.5937, 78.9629], controls=(WidgetControl(options=['position', 'transparent_bg'], widget=SearchDa…"
      ]
     },
     "execution_count": 51,
     "metadata": {},
     "output_type": "execute_result"
    }
   ],
   "source": [
    "# Create map visualization\n",
    "Map = geemap.Map(center=[20.5937, 78.9629], zoom=5)\n",
    "Map.addLayer(ndvi_median, {'min': 0, 'max': 1, 'palette': ['brown', 'yellow', 'green']}, 'NDVI')\n",
    "Map.addLayer(temp_c, {'min': 10, 'max': 50, 'palette': ['blue', 'white', 'red']}, 'Temperature (°C)')\n",
    "Map.addLayer(rain_total, {'min': 0, 'max': 5000, 'palette': ['white', 'blue', 'darkblue']}, 'Total Rainfall (mm)')\n",
    "Map.addLayerControl()\n",
    "Map"
   ]
  },
  {
   "cell_type": "code",
   "execution_count": 52,
   "id": "5be8f44d",
   "metadata": {},
   "outputs": [
    {
     "data": {
      "text/html": [
       "\n",
       "            <style>\n",
       "                .geemap-dark {\n",
       "                    --jp-widgets-color: white;\n",
       "                    --jp-widgets-label-color: white;\n",
       "                    --jp-ui-font-color1: white;\n",
       "                    --jp-layout-color2: #454545;\n",
       "                    background-color: #383838;\n",
       "                }\n",
       "\n",
       "                .geemap-dark .jupyter-button {\n",
       "                    --jp-layout-color3: #383838;\n",
       "                }\n",
       "\n",
       "                .geemap-colab {\n",
       "                    background-color: var(--colab-primary-surface-color, white);\n",
       "                }\n",
       "\n",
       "                .geemap-colab .jupyter-button {\n",
       "                    --jp-layout-color3: var(--colab-primary-surface-color, white);\n",
       "                }\n",
       "            </style>\n",
       "            "
      ],
      "text/plain": [
       "<IPython.core.display.HTML object>"
      ]
     },
     "metadata": {},
     "output_type": "display_data"
    },
    {
     "data": {
      "image/png": "[encoded data removed]",
      "text/plain": [
       "<Figure size 2000x1500 with 4 Axes>"
      ]
     },
     "metadata": {},
     "output_type": "display_data"
    },
    {
     "data": {
      "image/png": "[encoded data removed]",
      "text/plain": [
       "<Figure size 1500x600 with 2 Axes>"
      ]
     },
     "metadata": {},
     "output_type": "display_data"
    }
   ],
   "source": [
    "# Calculate correlations\n",
    "corr_temp = stats.pearsonr(df['NDVI'], df['Temperature'])[0]\n",
    "corr_rain = stats.pearsonr(df['NDVI'], df['Rainfall'])[0] if df['Rainfall'].std() > 0 else np.nan\n",
    "corr_solar = stats.pearsonr(df['NDVI'], df['Solar_Radiation'])[0]\n",
    "corr_wind = stats.pearsonr(df['NDVI'], df['Wind_Speed'])[0]\n",
    "\n",
    "# Create figure with subplots\n",
    "plt.figure(figsize=(20, 15))\n",
    "\n",
    "# 1. NDVI vs Temperature\n",
    "plt.subplot(2, 2, 1)\n",
    "plt.scatter(df['Temperature'], df['NDVI'], alpha=0.5, c='green')\n",
    "plt.title(f'NDVI vs Temperature (r = {corr_temp:.2f})', fontsize=14)\n",
    "plt.xlabel('Temperature (°C)', fontsize=12)\n",
    "plt.ylabel('NDVI', fontsize=12)\n",
    "z = np.polyfit(df['Temperature'], df['NDVI'], 1)\n",
    "plt.plot(df['Temperature'], np.poly1d(z)(df['Temperature']), \"r--\")\n",
    "\n",
    "# 2. NDVI vs Rainfall\n",
    "plt.subplot(2, 2, 2)\n",
    "plt.scatter(df['Rainfall'], df['NDVI'], alpha=0.5, c='blue')\n",
    "if df['Rainfall'].std() > 0:\n",
    "    plt.title(f'NDVI vs Rainfall (r = {corr_rain:.2f})', fontsize=14)\n",
    "    z = np.polyfit(df['Rainfall'], df['NDVI'], 1)\n",
    "    plt.plot(df['Rainfall'], np.poly1d(z)(df['Rainfall']), \"r--\")\n",
    "else:\n",
    "    plt.title('NDVI vs Rainfall (No Variation)', fontsize=14)\n",
    "plt.xlabel('Rainfall (mm)', fontsize=12)\n",
    "plt.ylabel('NDVI', fontsize=12)\n",
    "\n",
    "# 3. NDVI vs Solar Radiation\n",
    "plt.subplot(2, 2, 3)\n",
    "plt.scatter(df['Solar_Radiation'], df['NDVI'], alpha=0.5, c='orange')\n",
    "plt.title(f'NDVI vs Solar Radiation (r = {corr_solar:.2f})', fontsize=14)\n",
    "plt.xlabel('Solar Radiation (MJ/m²)', fontsize=12)\n",
    "plt.ylabel('NDVI', fontsize=12)\n",
    "z = np.polyfit(df['Solar_Radiation'], df['NDVI'], 1)\n",
    "plt.plot(df['Solar_Radiation'], np.poly1d(z)(df['Solar_Radiation']), \"r--\")\n",
    "\n",
    "# 4. NDVI vs Wind Speed\n",
    "plt.subplot(2, 2, 4)\n",
    "plt.scatter(df['Wind_Speed'], df['NDVI'], alpha=0.5, c='purple')\n",
    "plt.title(f'NDVI vs Wind Speed (r = {corr_wind:.2f})', fontsize=14)\n",
    "plt.xlabel('Wind Speed (m/s)', fontsize=12)\n",
    "plt.ylabel('NDVI', fontsize=12)\n",
    "z = np.polyfit(df['Wind_Speed'], df['NDVI'], 1)\n",
    "plt.plot(df['Wind_Speed'], np.poly1d(z)(df['Wind_Speed']), \"r--\")\n",
    "\n",
    "plt.tight_layout()\n",
    "plt.savefig('ndvi_weather_relationships.png', dpi=300, bbox_inches='tight')\n",
    "plt.show()\n",
    "\n",
    "# Boxplot Visualization\n",
    "plt.figure(figsize=(15, 6))\n",
    "\n",
    "# Temperature Categories - Always plotted\n",
    "ax1 = plt.subplot(1, 2, 1)\n",
    "df['Temp_Category'] = pd.qcut(df['Temperature'], 4, labels=['Cool', 'Mild', 'Warm', 'Hot'])\n",
    "df.boxplot(column='NDVI', by='Temp_Category', grid=False, ax=ax1)\n",
    "ax1.set_title('NDVI Distribution by Temperature', fontsize=14)\n",
    "ax1.set_xlabel('Temperature Category', fontsize=12)\n",
    "ax1.set_ylabel('NDVI', fontsize=12)\n",
    "plt.suptitle('')\n",
    "\n",
    "# Rainfall Categories - Conditional plotting\n",
    "ax2 = plt.subplot(1, 2, 2)\n",
    "if df['Rainfall'].std() > 0:\n",
    "    try:\n",
    "        # Attempt to create 4 categories if possible\n",
    "        df['Rain_Category'] = pd.qcut(df['Rainfall'], 4, labels=False)\n",
    "        if df['Rain_Category'].nunique() > 1:\n",
    "            df['Rain_Category'] = pd.qcut(df['Rainfall'], 4, labels=['Dry', 'Low', 'Moderate', 'Wet'])\n",
    "            df.boxplot(column='NDVI', by='Rain_Category', grid=False, ax=ax2)\n",
    "            ax2.set_title('NDVI Distribution by Rainfall', fontsize=14)\n",
    "            ax2.set_xlabel('Rainfall Category', fontsize=12)\n",
    "            ax2.set_ylabel('NDVI', fontsize=12)\n",
    "        else:\n",
    "            ax2.cla()\n",
    "            ax2.text(0.5, 0.5, 'Insufficient Rainfall Variation\\nfor Categories', \n",
    "                    ha='center', va='center', fontsize=12)\n",
    "            ax2.set_xticks([])\n",
    "            ax2.set_yticks([])\n",
    "    except Exception as e:\n",
    "        ax2.cla()\n",
    "        ax2.text(0.5, 0.5, f'Error: {str(e)}', \n",
    "                ha='center', va='center', fontsize=12)\n",
    "        ax2.set_xticks([])\n",
    "        ax2.set_yticks([])\n",
    "else:\n",
    "    ax2.cla()\n",
    "    ax2.text(0.5, 0.5, 'No Rainfall Variation Detected', \n",
    "            ha='center', va='center', fontsize=12)\n",
    "    ax2.set_xticks([])\n",
    "    ax2.set_yticks([])\n",
    "\n",
    "plt.tight_layout()\n",
    "plt.savefig('ndvi_boxplots.png', dpi=300, bbox_inches='tight')\n",
    "plt.show()\n",
    "\n",
    "# Cleanup temporary columns\n",
    "for col in ['Temp_Category', 'Rain_Category']:\n",
    "    if col in df.columns:\n",
    "        df.drop(columns=col, inplace=True)"
   ]
  }
 ],
 "metadata": {
  "kernelspec": {
   "display_name": ".venv",
   "language": "python",
   "name": "python3"
  },
  "language_info": {
   "codemirror_mode": {
    "name": "ipython",
    "version": 3
   },
   "file_extension": ".py",
   "mimetype": "text/x-python",
   "name": "python",
   "nbconvert_exporter": "python",
   "pygments_lexer": "ipython3",
   "version": "3.12.3"
  }
 },
 "nbformat": 4,
 "nbformat_minor": 5
}
