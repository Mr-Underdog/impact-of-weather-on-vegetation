{
 "cells": [
  {
   "cell_type": "code",
   "execution_count": 1,
   "id": "b17827fc",
   "metadata": {},
   "outputs": [
    {
     "name": "stdout",
     "output_type": "stream",
     "text": [
      "Requirement already satisfied: earthengine-api in c:\\users\\vedansh rai\\onedrive\\desktop\\pythonproject\\.venv\\lib\\site-packages (1.5.11)\n",
      "Requirement already satisfied: google-cloud-storage in c:\\users\\vedansh rai\\onedrive\\desktop\\pythonproject\\.venv\\lib\\site-packages (from earthengine-api) (3.1.0)\n",
      "Requirement already satisfied: google-api-python-client>=1.12.1 in c:\\users\\vedansh rai\\onedrive\\desktop\\pythonproject\\.venv\\lib\\site-packages (from earthengine-api) (2.167.0)\n",
      "Requirement already satisfied: google-auth>=1.4.1 in c:\\users\\vedansh rai\\onedrive\\desktop\\pythonproject\\.venv\\lib\\site-packages (from earthengine-api) (2.39.0)\n",
      "Requirement already satisfied: google-auth-httplib2>=0.0.3 in c:\\users\\vedansh rai\\onedrive\\desktop\\pythonproject\\.venv\\lib\\site-packages (from earthengine-api) (0.2.0)\n",
      "Requirement already satisfied: httplib2<1dev,>=0.9.2 in c:\\users\\vedansh rai\\onedrive\\desktop\\pythonproject\\.venv\\lib\\site-packages (from earthengine-api) (0.22.0)\n",
      "Requirement already satisfied: requests in c:\\users\\vedansh rai\\onedrive\\desktop\\pythonproject\\.venv\\lib\\site-packages (from earthengine-api) (2.32.3)\n",
      "Requirement already satisfied: google-api-core!=2.0.*,!=2.1.*,!=2.2.*,!=2.3.0,<3.0.0,>=1.31.5 in c:\\users\\vedansh rai\\onedrive\\desktop\\pythonproject\\.venv\\lib\\site-packages (from google-api-python-client>=1.12.1->earthengine-api) (2.24.2)\n",
      "Requirement already satisfied: uritemplate<5,>=3.0.1 in c:\\users\\vedansh rai\\onedrive\\desktop\\pythonproject\\.venv\\lib\\site-packages (from google-api-python-client>=1.12.1->earthengine-api) (4.1.1)\n",
      "Requirement already satisfied: cachetools<6.0,>=2.0.0 in c:\\users\\vedansh rai\\onedrive\\desktop\\pythonproject\\.venv\\lib\\site-packages (from google-auth>=1.4.1->earthengine-api) (5.5.2)\n",
      "Requirement already satisfied: pyasn1-modules>=0.2.1 in c:\\users\\vedansh rai\\onedrive\\desktop\\pythonproject\\.venv\\lib\\site-packages (from google-auth>=1.4.1->earthengine-api) (0.4.2)\n",
      "Requirement already satisfied: rsa<5,>=3.1.4 in c:\\users\\vedansh rai\\onedrive\\desktop\\pythonproject\\.venv\\lib\\site-packages (from google-auth>=1.4.1->earthengine-api) (4.9.1)\n",
      "Requirement already satisfied: pyparsing!=3.0.0,!=3.0.1,!=3.0.2,!=3.0.3,<4,>=2.4.2 in c:\\users\\vedansh rai\\onedrive\\desktop\\pythonproject\\.venv\\lib\\site-packages (from httplib2<1dev,>=0.9.2->earthengine-api) (3.2.3)\n",
      "Requirement already satisfied: google-cloud-core<3.0dev,>=2.4.2 in c:\\users\\vedansh rai\\onedrive\\desktop\\pythonproject\\.venv\\lib\\site-packages (from google-cloud-storage->earthengine-api) (2.4.3)\n",
      "Requirement already satisfied: google-resumable-media>=2.7.2 in c:\\users\\vedansh rai\\onedrive\\desktop\\pythonproject\\.venv\\lib\\site-packages (from google-cloud-storage->earthengine-api) (2.7.2)\n",
      "Requirement already satisfied: google-crc32c<2.0dev,>=1.0 in c:\\users\\vedansh rai\\onedrive\\desktop\\pythonproject\\.venv\\lib\\site-packages (from google-cloud-storage->earthengine-api) (1.7.1)\n",
      "Requirement already satisfied: charset-normalizer<4,>=2 in c:\\users\\vedansh rai\\onedrive\\desktop\\pythonproject\\.venv\\lib\\site-packages (from requests->earthengine-api) (3.4.1)\n",
      "Requirement already satisfied: idna<4,>=2.5 in c:\\users\\vedansh rai\\onedrive\\desktop\\pythonproject\\.venv\\lib\\site-packages (from requests->earthengine-api) (3.10)\n",
      "Requirement already satisfied: urllib3<3,>=1.21.1 in c:\\users\\vedansh rai\\onedrive\\desktop\\pythonproject\\.venv\\lib\\site-packages (from requests->earthengine-api) (2.4.0)\n",
      "Requirement already satisfied: certifi>=2017.4.17 in c:\\users\\vedansh rai\\onedrive\\desktop\\pythonproject\\.venv\\lib\\site-packages (from requests->earthengine-api) (2025.1.31)\n",
      "Requirement already satisfied: googleapis-common-protos<2.0.0,>=1.56.2 in c:\\users\\vedansh rai\\onedrive\\desktop\\pythonproject\\.venv\\lib\\site-packages (from google-api-core!=2.0.*,!=2.1.*,!=2.2.*,!=2.3.0,<3.0.0,>=1.31.5->google-api-python-client>=1.12.1->earthengine-api) (1.70.0)\n",
      "Requirement already satisfied: protobuf!=3.20.0,!=3.20.1,!=4.21.0,!=4.21.1,!=4.21.2,!=4.21.3,!=4.21.4,!=4.21.5,<7.0.0,>=3.19.5 in c:\\users\\vedansh rai\\onedrive\\desktop\\pythonproject\\.venv\\lib\\site-packages (from google-api-core!=2.0.*,!=2.1.*,!=2.2.*,!=2.3.0,<3.0.0,>=1.31.5->google-api-python-client>=1.12.1->earthengine-api) (6.30.2)\n",
      "Requirement already satisfied: proto-plus<2.0.0,>=1.22.3 in c:\\users\\vedansh rai\\onedrive\\desktop\\pythonproject\\.venv\\lib\\site-packages (from google-api-core!=2.0.*,!=2.1.*,!=2.2.*,!=2.3.0,<3.0.0,>=1.31.5->google-api-python-client>=1.12.1->earthengine-api) (1.26.1)\n",
      "Requirement already satisfied: pyasn1<0.7.0,>=0.6.1 in c:\\users\\vedansh rai\\onedrive\\desktop\\pythonproject\\.venv\\lib\\site-packages (from pyasn1-modules>=0.2.1->google-auth>=1.4.1->earthengine-api) (0.6.1)\n",
      "Note: you may need to restart the kernel to use updated packages.\n"
     ]
    },
    {
     "name": "stderr",
     "output_type": "stream",
     "text": [
      "\n",
      "[notice] A new release of pip is available: 23.2.1 -> 25.1\n",
      "[notice] To update, run: python.exe -m pip install --upgrade pip\n"
     ]
    }
   ],
   "source": [
    "pip install earthengine-api"
   ]
  },
  {
   "cell_type": "code",
   "execution_count": null,
   "id": "210bb34d",
   "metadata": {},
   "outputs": [],
   "source": [
    "import ee\n",
    "ee.Authenticate()\n"
   ]
  },
  {
   "cell_type": "code",
   "execution_count": 3,
   "id": "8e83a9e3",
   "metadata": {},
   "outputs": [],
   "source": [
    "ee.Initialize()\n"
   ]
  },
  {
   "cell_type": "code",
   "execution_count": null,
   "id": "0fb59e10",
   "metadata": {},
   "outputs": [],
   "source": [
    "pip install setuptools"
   ]
  },
  {
   "cell_type": "code",
   "execution_count": 6,
   "id": "f01c050c",
   "metadata": {},
   "outputs": [
    {
     "name": "stdout",
     "output_type": "stream",
     "text": [
      "Requirement already satisfied: geemap in c:\\users\\vedansh rai\\onedrive\\desktop\\pythonproject\\.venv\\lib\\site-packages (0.35.3)\n",
      "Requirement already satisfied: bqplot in c:\\users\\vedansh rai\\onedrive\\desktop\\pythonproject\\.venv\\lib\\site-packages (from geemap) (0.12.44)\n",
      "Requirement already satisfied: colour in c:\\users\\vedansh rai\\onedrive\\desktop\\pythonproject\\.venv\\lib\\site-packages (from geemap) (0.1.5)\n",
      "Requirement already satisfied: earthengine-api>=1.0.0 in c:\\users\\vedansh rai\\onedrive\\desktop\\pythonproject\\.venv\\lib\\site-packages (from geemap) (1.5.11)\n",
      "Requirement already satisfied: eerepr>=0.1.0 in c:\\users\\vedansh rai\\onedrive\\desktop\\pythonproject\\.venv\\lib\\site-packages (from geemap) (0.1.1)\n",
      "Requirement already satisfied: folium>=0.17.0 in c:\\users\\vedansh rai\\onedrive\\desktop\\pythonproject\\.venv\\lib\\site-packages (from geemap) (0.19.5)\n",
      "Requirement already satisfied: geocoder in c:\\users\\vedansh rai\\onedrive\\desktop\\pythonproject\\.venv\\lib\\site-packages (from geemap) (1.38.1)\n",
      "Requirement already satisfied: ipyevents in c:\\users\\vedansh rai\\onedrive\\desktop\\pythonproject\\.venv\\lib\\site-packages (from geemap) (2.0.2)\n",
      "Requirement already satisfied: ipyfilechooser>=0.6.0 in c:\\users\\vedansh rai\\onedrive\\desktop\\pythonproject\\.venv\\lib\\site-packages (from geemap) (0.6.0)\n",
      "Requirement already satisfied: ipyleaflet>=0.19.2 in c:\\users\\vedansh rai\\onedrive\\desktop\\pythonproject\\.venv\\lib\\site-packages (from geemap) (0.19.2)\n",
      "Requirement already satisfied: ipytree in c:\\users\\vedansh rai\\onedrive\\desktop\\pythonproject\\.venv\\lib\\site-packages (from geemap) (0.2.2)\n",
      "Requirement already satisfied: matplotlib in c:\\users\\vedansh rai\\onedrive\\desktop\\pythonproject\\.venv\\lib\\site-packages (from geemap) (3.10.1)\n",
      "Requirement already satisfied: numpy in c:\\users\\vedansh rai\\onedrive\\desktop\\pythonproject\\.venv\\lib\\site-packages (from geemap) (2.2.4)\n",
      "Requirement already satisfied: pandas in c:\\users\\vedansh rai\\onedrive\\desktop\\pythonproject\\.venv\\lib\\site-packages (from geemap) (2.2.3)\n",
      "Requirement already satisfied: plotly in c:\\users\\vedansh rai\\onedrive\\desktop\\pythonproject\\.venv\\lib\\site-packages (from geemap) (6.0.1)\n",
      "Requirement already satisfied: pyperclip in c:\\users\\vedansh rai\\onedrive\\desktop\\pythonproject\\.venv\\lib\\site-packages (from geemap) (1.9.0)\n",
      "Requirement already satisfied: pyshp>=2.3.1 in c:\\users\\vedansh rai\\onedrive\\desktop\\pythonproject\\.venv\\lib\\site-packages (from geemap) (2.3.1)\n",
      "Requirement already satisfied: python-box in c:\\users\\vedansh rai\\onedrive\\desktop\\pythonproject\\.venv\\lib\\site-packages (from geemap) (7.3.2)\n",
      "Requirement already satisfied: scooby in c:\\users\\vedansh rai\\onedrive\\desktop\\pythonproject\\.venv\\lib\\site-packages (from geemap) (0.10.0)\n",
      "Requirement already satisfied: google-cloud-storage in c:\\users\\vedansh rai\\onedrive\\desktop\\pythonproject\\.venv\\lib\\site-packages (from earthengine-api>=1.0.0->geemap) (3.1.0)\n",
      "Requirement already satisfied: google-api-python-client>=1.12.1 in c:\\users\\vedansh rai\\onedrive\\desktop\\pythonproject\\.venv\\lib\\site-packages (from earthengine-api>=1.0.0->geemap) (2.167.0)\n",
      "Requirement already satisfied: google-auth>=1.4.1 in c:\\users\\vedansh rai\\onedrive\\desktop\\pythonproject\\.venv\\lib\\site-packages (from earthengine-api>=1.0.0->geemap) (2.39.0)\n",
      "Requirement already satisfied: google-auth-httplib2>=0.0.3 in c:\\users\\vedansh rai\\onedrive\\desktop\\pythonproject\\.venv\\lib\\site-packages (from earthengine-api>=1.0.0->geemap) (0.2.0)\n",
      "Requirement already satisfied: httplib2<1dev,>=0.9.2 in c:\\users\\vedansh rai\\onedrive\\desktop\\pythonproject\\.venv\\lib\\site-packages (from earthengine-api>=1.0.0->geemap) (0.22.0)\n",
      "Requirement already satisfied: requests in c:\\users\\vedansh rai\\onedrive\\desktop\\pythonproject\\.venv\\lib\\site-packages (from earthengine-api>=1.0.0->geemap) (2.32.3)\n",
      "Requirement already satisfied: branca>=0.6.0 in c:\\users\\vedansh rai\\onedrive\\desktop\\pythonproject\\.venv\\lib\\site-packages (from folium>=0.17.0->geemap) (0.8.1)\n",
      "Requirement already satisfied: jinja2>=2.9 in c:\\users\\vedansh rai\\onedrive\\desktop\\pythonproject\\.venv\\lib\\site-packages (from folium>=0.17.0->geemap) (3.1.6)\n",
      "Requirement already satisfied: xyzservices in c:\\users\\vedansh rai\\onedrive\\desktop\\pythonproject\\.venv\\lib\\site-packages (from folium>=0.17.0->geemap) (2025.1.0)\n",
      "Requirement already satisfied: ipywidgets in c:\\users\\vedansh rai\\onedrive\\desktop\\pythonproject\\.venv\\lib\\site-packages (from ipyfilechooser>=0.6.0->geemap) (8.1.6)\n",
      "Requirement already satisfied: jupyter-leaflet<0.20,>=0.19 in c:\\users\\vedansh rai\\onedrive\\desktop\\pythonproject\\.venv\\lib\\site-packages (from ipyleaflet>=0.19.2->geemap) (0.19.2)\n",
      "Requirement already satisfied: traittypes<3,>=0.2.1 in c:\\users\\vedansh rai\\onedrive\\desktop\\pythonproject\\.venv\\lib\\site-packages (from ipyleaflet>=0.19.2->geemap) (0.2.1)\n",
      "Requirement already satisfied: traitlets>=4.3.0 in c:\\users\\vedansh rai\\onedrive\\desktop\\pythonproject\\.venv\\lib\\site-packages (from bqplot->geemap) (5.14.3)\n",
      "Requirement already satisfied: python-dateutil>=2.8.2 in c:\\users\\vedansh rai\\onedrive\\desktop\\pythonproject\\.venv\\lib\\site-packages (from pandas->geemap) (2.9.0.post0)\n",
      "Requirement already satisfied: pytz>=2020.1 in c:\\users\\vedansh rai\\onedrive\\desktop\\pythonproject\\.venv\\lib\\site-packages (from pandas->geemap) (2025.2)\n",
      "Requirement already satisfied: tzdata>=2022.7 in c:\\users\\vedansh rai\\onedrive\\desktop\\pythonproject\\.venv\\lib\\site-packages (from pandas->geemap) (2025.2)\n",
      "Requirement already satisfied: click in c:\\users\\vedansh rai\\onedrive\\desktop\\pythonproject\\.venv\\lib\\site-packages (from geocoder->geemap) (8.1.8)\n",
      "Requirement already satisfied: future in c:\\users\\vedansh rai\\onedrive\\desktop\\pythonproject\\.venv\\lib\\site-packages (from geocoder->geemap) (1.0.0)\n",
      "Requirement already satisfied: ratelim in c:\\users\\vedansh rai\\onedrive\\desktop\\pythonproject\\.venv\\lib\\site-packages (from geocoder->geemap) (0.1.6)\n",
      "Requirement already satisfied: six in c:\\users\\vedansh rai\\onedrive\\desktop\\pythonproject\\.venv\\lib\\site-packages (from geocoder->geemap) (1.17.0)\n",
      "Requirement already satisfied: contourpy>=1.0.1 in c:\\users\\vedansh rai\\onedrive\\desktop\\pythonproject\\.venv\\lib\\site-packages (from matplotlib->geemap) (1.3.2)\n",
      "Requirement already satisfied: cycler>=0.10 in c:\\users\\vedansh rai\\onedrive\\desktop\\pythonproject\\.venv\\lib\\site-packages (from matplotlib->geemap) (0.12.1)\n",
      "Requirement already satisfied: fonttools>=4.22.0 in c:\\users\\vedansh rai\\onedrive\\desktop\\pythonproject\\.venv\\lib\\site-packages (from matplotlib->geemap) (4.57.0)\n",
      "Requirement already satisfied: kiwisolver>=1.3.1 in c:\\users\\vedansh rai\\onedrive\\desktop\\pythonproject\\.venv\\lib\\site-packages (from matplotlib->geemap) (1.4.8)\n",
      "Requirement already satisfied: packaging>=20.0 in c:\\users\\vedansh rai\\onedrive\\desktop\\pythonproject\\.venv\\lib\\site-packages (from matplotlib->geemap) (25.0)\n",
      "Requirement already satisfied: pillow>=8 in c:\\users\\vedansh rai\\onedrive\\desktop\\pythonproject\\.venv\\lib\\site-packages (from matplotlib->geemap) (11.2.1)\n",
      "Requirement already satisfied: pyparsing>=2.3.1 in c:\\users\\vedansh rai\\onedrive\\desktop\\pythonproject\\.venv\\lib\\site-packages (from matplotlib->geemap) (3.2.3)\n",
      "Requirement already satisfied: narwhals>=1.15.1 in c:\\users\\vedansh rai\\onedrive\\desktop\\pythonproject\\.venv\\lib\\site-packages (from plotly->geemap) (1.35.0)\n",
      "Requirement already satisfied: google-api-core!=2.0.*,!=2.1.*,!=2.2.*,!=2.3.0,<3.0.0,>=1.31.5 in c:\\users\\vedansh rai\\onedrive\\desktop\\pythonproject\\.venv\\lib\\site-packages (from google-api-python-client>=1.12.1->earthengine-api>=1.0.0->geemap) (2.24.2)\n",
      "Requirement already satisfied: uritemplate<5,>=3.0.1 in c:\\users\\vedansh rai\\onedrive\\desktop\\pythonproject\\.venv\\lib\\site-packages (from google-api-python-client>=1.12.1->earthengine-api>=1.0.0->geemap) (4.1.1)\n",
      "Requirement already satisfied: cachetools<6.0,>=2.0.0 in c:\\users\\vedansh rai\\onedrive\\desktop\\pythonproject\\.venv\\lib\\site-packages (from google-auth>=1.4.1->earthengine-api>=1.0.0->geemap) (5.5.2)\n",
      "Requirement already satisfied: pyasn1-modules>=0.2.1 in c:\\users\\vedansh rai\\onedrive\\desktop\\pythonproject\\.venv\\lib\\site-packages (from google-auth>=1.4.1->earthengine-api>=1.0.0->geemap) (0.4.2)\n",
      "Requirement already satisfied: rsa<5,>=3.1.4 in c:\\users\\vedansh rai\\onedrive\\desktop\\pythonproject\\.venv\\lib\\site-packages (from google-auth>=1.4.1->earthengine-api>=1.0.0->geemap) (4.9.1)\n",
      "Requirement already satisfied: comm>=0.1.3 in c:\\users\\vedansh rai\\onedrive\\desktop\\pythonproject\\.venv\\lib\\site-packages (from ipywidgets->ipyfilechooser>=0.6.0->geemap) (0.2.2)\n",
      "Requirement already satisfied: ipython>=6.1.0 in c:\\users\\vedansh rai\\onedrive\\desktop\\pythonproject\\.venv\\lib\\site-packages (from ipywidgets->ipyfilechooser>=0.6.0->geemap) (9.1.0)\n",
      "Requirement already satisfied: widgetsnbextension~=4.0.14 in c:\\users\\vedansh rai\\onedrive\\desktop\\pythonproject\\.venv\\lib\\site-packages (from ipywidgets->ipyfilechooser>=0.6.0->geemap) (4.0.14)\n",
      "Requirement already satisfied: jupyterlab_widgets~=3.0.14 in c:\\users\\vedansh rai\\onedrive\\desktop\\pythonproject\\.venv\\lib\\site-packages (from ipywidgets->ipyfilechooser>=0.6.0->geemap) (3.0.14)\n",
      "Requirement already satisfied: MarkupSafe>=2.0 in c:\\users\\vedansh rai\\onedrive\\desktop\\pythonproject\\.venv\\lib\\site-packages (from jinja2>=2.9->folium>=0.17.0->geemap) (3.0.2)\n",
      "Requirement already satisfied: colorama in c:\\users\\vedansh rai\\onedrive\\desktop\\pythonproject\\.venv\\lib\\site-packages (from click->geocoder->geemap) (0.4.6)\n",
      "Requirement already satisfied: google-cloud-core<3.0dev,>=2.4.2 in c:\\users\\vedansh rai\\onedrive\\desktop\\pythonproject\\.venv\\lib\\site-packages (from google-cloud-storage->earthengine-api>=1.0.0->geemap) (2.4.3)\n",
      "Requirement already satisfied: google-resumable-media>=2.7.2 in c:\\users\\vedansh rai\\onedrive\\desktop\\pythonproject\\.venv\\lib\\site-packages (from google-cloud-storage->earthengine-api>=1.0.0->geemap) (2.7.2)\n",
      "Requirement already satisfied: google-crc32c<2.0dev,>=1.0 in c:\\users\\vedansh rai\\onedrive\\desktop\\pythonproject\\.venv\\lib\\site-packages (from google-cloud-storage->earthengine-api>=1.0.0->geemap) (1.7.1)\n",
      "Requirement already satisfied: charset-normalizer<4,>=2 in c:\\users\\vedansh rai\\onedrive\\desktop\\pythonproject\\.venv\\lib\\site-packages (from requests->earthengine-api>=1.0.0->geemap) (3.4.1)\n",
      "Requirement already satisfied: idna<4,>=2.5 in c:\\users\\vedansh rai\\onedrive\\desktop\\pythonproject\\.venv\\lib\\site-packages (from requests->earthengine-api>=1.0.0->geemap) (3.10)\n",
      "Requirement already satisfied: urllib3<3,>=1.21.1 in c:\\users\\vedansh rai\\onedrive\\desktop\\pythonproject\\.venv\\lib\\site-packages (from requests->earthengine-api>=1.0.0->geemap) (2.4.0)\n",
      "Requirement already satisfied: certifi>=2017.4.17 in c:\\users\\vedansh rai\\onedrive\\desktop\\pythonproject\\.venv\\lib\\site-packages (from requests->earthengine-api>=1.0.0->geemap) (2025.1.31)\n",
      "Requirement already satisfied: decorator in c:\\users\\vedansh rai\\onedrive\\desktop\\pythonproject\\.venv\\lib\\site-packages (from ratelim->geocoder->geemap) (5.2.1)\n",
      "Requirement already satisfied: googleapis-common-protos<2.0.0,>=1.56.2 in c:\\users\\vedansh rai\\onedrive\\desktop\\pythonproject\\.venv\\lib\\site-packages (from google-api-core!=2.0.*,!=2.1.*,!=2.2.*,!=2.3.0,<3.0.0,>=1.31.5->google-api-python-client>=1.12.1->earthengine-api>=1.0.0->geemap) (1.70.0)\n",
      "Requirement already satisfied: protobuf!=3.20.0,!=3.20.1,!=4.21.0,!=4.21.1,!=4.21.2,!=4.21.3,!=4.21.4,!=4.21.5,<7.0.0,>=3.19.5 in c:\\users\\vedansh rai\\onedrive\\desktop\\pythonproject\\.venv\\lib\\site-packages (from google-api-core!=2.0.*,!=2.1.*,!=2.2.*,!=2.3.0,<3.0.0,>=1.31.5->google-api-python-client>=1.12.1->earthengine-api>=1.0.0->geemap) (6.30.2)\n",
      "Requirement already satisfied: proto-plus<2.0.0,>=1.22.3 in c:\\users\\vedansh rai\\onedrive\\desktop\\pythonproject\\.venv\\lib\\site-packages (from google-api-core!=2.0.*,!=2.1.*,!=2.2.*,!=2.3.0,<3.0.0,>=1.31.5->google-api-python-client>=1.12.1->earthengine-api>=1.0.0->geemap) (1.26.1)\n",
      "Requirement already satisfied: ipython-pygments-lexers in c:\\users\\vedansh rai\\onedrive\\desktop\\pythonproject\\.venv\\lib\\site-packages (from ipython>=6.1.0->ipywidgets->ipyfilechooser>=0.6.0->geemap) (1.1.1)\n",
      "Requirement already satisfied: jedi>=0.16 in c:\\users\\vedansh rai\\onedrive\\desktop\\pythonproject\\.venv\\lib\\site-packages (from ipython>=6.1.0->ipywidgets->ipyfilechooser>=0.6.0->geemap) (0.19.2)\n",
      "Requirement already satisfied: matplotlib-inline in c:\\users\\vedansh rai\\onedrive\\desktop\\pythonproject\\.venv\\lib\\site-packages (from ipython>=6.1.0->ipywidgets->ipyfilechooser>=0.6.0->geemap) (0.1.7)\n",
      "Requirement already satisfied: prompt_toolkit<3.1.0,>=3.0.41 in c:\\users\\vedansh rai\\onedrive\\desktop\\pythonproject\\.venv\\lib\\site-packages (from ipython>=6.1.0->ipywidgets->ipyfilechooser>=0.6.0->geemap) (3.0.51)\n",
      "Requirement already satisfied: pygments>=2.4.0 in c:\\users\\vedansh rai\\onedrive\\desktop\\pythonproject\\.venv\\lib\\site-packages (from ipython>=6.1.0->ipywidgets->ipyfilechooser>=0.6.0->geemap) (2.19.1)\n",
      "Requirement already satisfied: stack_data in c:\\users\\vedansh rai\\onedrive\\desktop\\pythonproject\\.venv\\lib\\site-packages (from ipython>=6.1.0->ipywidgets->ipyfilechooser>=0.6.0->geemap) (0.6.3)\n",
      "Requirement already satisfied: pyasn1<0.7.0,>=0.6.1 in c:\\users\\vedansh rai\\onedrive\\desktop\\pythonproject\\.venv\\lib\\site-packages (from pyasn1-modules>=0.2.1->google-auth>=1.4.1->earthengine-api>=1.0.0->geemap) (0.6.1)\n",
      "Requirement already satisfied: parso<0.9.0,>=0.8.4 in c:\\users\\vedansh rai\\onedrive\\desktop\\pythonproject\\.venv\\lib\\site-packages (from jedi>=0.16->ipython>=6.1.0->ipywidgets->ipyfilechooser>=0.6.0->geemap) (0.8.4)\n",
      "Requirement already satisfied: wcwidth in c:\\users\\vedansh rai\\onedrive\\desktop\\pythonproject\\.venv\\lib\\site-packages (from prompt_toolkit<3.1.0,>=3.0.41->ipython>=6.1.0->ipywidgets->ipyfilechooser>=0.6.0->geemap) (0.2.13)\n",
      "Requirement already satisfied: executing>=1.2.0 in c:\\users\\vedansh rai\\onedrive\\desktop\\pythonproject\\.venv\\lib\\site-packages (from stack_data->ipython>=6.1.0->ipywidgets->ipyfilechooser>=0.6.0->geemap) (2.2.0)\n",
      "Requirement already satisfied: asttokens>=2.1.0 in c:\\users\\vedansh rai\\onedrive\\desktop\\pythonproject\\.venv\\lib\\site-packages (from stack_data->ipython>=6.1.0->ipywidgets->ipyfilechooser>=0.6.0->geemap) (3.0.0)\n",
      "Requirement already satisfied: pure-eval in c:\\users\\vedansh rai\\onedrive\\desktop\\pythonproject\\.venv\\lib\\site-packages (from stack_data->ipython>=6.1.0->ipywidgets->ipyfilechooser>=0.6.0->geemap) (0.2.3)\n",
      "Note: you may need to restart the kernel to use updated packages.\n"
     ]
    },
    {
     "name": "stderr",
     "output_type": "stream",
     "text": [
      "\n",
      "[notice] A new release of pip is available: 23.2.1 -> 25.1\n",
      "[notice] To update, run: python.exe -m pip install --upgrade pip\n"
     ]
    }
   ],
   "source": [
    "pip install geemap"
   ]
  },
  {
   "cell_type": "code",
   "execution_count": 7,
   "id": "22a7dda0",
   "metadata": {},
   "outputs": [
    {
     "name": "stdout",
     "output_type": "stream",
     "text": [
      "Requirement already satisfied: pandas in c:\\users\\vedansh rai\\onedrive\\desktop\\pythonproject\\.venv\\lib\\site-packages (2.2.3)\n",
      "Requirement already satisfied: numpy>=1.26.0 in c:\\users\\vedansh rai\\onedrive\\desktop\\pythonproject\\.venv\\lib\\site-packages (from pandas) (2.2.4)\n",
      "Requirement already satisfied: python-dateutil>=2.8.2 in c:\\users\\vedansh rai\\onedrive\\desktop\\pythonproject\\.venv\\lib\\site-packages (from pandas) (2.9.0.post0)\n",
      "Requirement already satisfied: pytz>=2020.1 in c:\\users\\vedansh rai\\onedrive\\desktop\\pythonproject\\.venv\\lib\\site-packages (from pandas) (2025.2)\n",
      "Requirement already satisfied: tzdata>=2022.7 in c:\\users\\vedansh rai\\onedrive\\desktop\\pythonproject\\.venv\\lib\\site-packages (from pandas) (2025.2)\n",
      "Requirement already satisfied: six>=1.5 in c:\\users\\vedansh rai\\onedrive\\desktop\\pythonproject\\.venv\\lib\\site-packages (from python-dateutil>=2.8.2->pandas) (1.17.0)\n",
      "Note: you may need to restart the kernel to use updated packages.\n"
     ]
    },
    {
     "name": "stderr",
     "output_type": "stream",
     "text": [
      "\n",
      "[notice] A new release of pip is available: 23.2.1 -> 25.1\n",
      "[notice] To update, run: python.exe -m pip install --upgrade pip\n"
     ]
    }
   ],
   "source": [
    "pip install pandas"
   ]
  },
  {
   "cell_type": "code",
   "execution_count": 8,
   "id": "df917d4a",
   "metadata": {},
   "outputs": [
    {
     "name": "stdout",
     "output_type": "stream",
     "text": [
      "Requirement already satisfied: numpy in c:\\users\\vedansh rai\\onedrive\\desktop\\pythonproject\\.venv\\lib\\site-packages (2.2.4)\n",
      "Note: you may need to restart the kernel to use updated packages.\n"
     ]
    },
    {
     "name": "stderr",
     "output_type": "stream",
     "text": [
      "\n",
      "[notice] A new release of pip is available: 23.2.1 -> 25.1\n",
      "[notice] To update, run: python.exe -m pip install --upgrade pip\n"
     ]
    }
   ],
   "source": [
    "pip install numpy\n"
   ]
  },
  {
   "cell_type": "code",
   "execution_count": 9,
   "id": "ad4d0ea7",
   "metadata": {},
   "outputs": [
    {
     "name": "stdout",
     "output_type": "stream",
     "text": [
      "Requirement already satisfied: matplotlib in c:\\users\\vedansh rai\\onedrive\\desktop\\pythonproject\\.venv\\lib\\site-packages (3.10.1)\n",
      "Requirement already satisfied: contourpy>=1.0.1 in c:\\users\\vedansh rai\\onedrive\\desktop\\pythonproject\\.venv\\lib\\site-packages (from matplotlib) (1.3.2)\n",
      "Requirement already satisfied: cycler>=0.10 in c:\\users\\vedansh rai\\onedrive\\desktop\\pythonproject\\.venv\\lib\\site-packages (from matplotlib) (0.12.1)\n",
      "Requirement already satisfied: fonttools>=4.22.0 in c:\\users\\vedansh rai\\onedrive\\desktop\\pythonproject\\.venv\\lib\\site-packages (from matplotlib) (4.57.0)\n",
      "Requirement already satisfied: kiwisolver>=1.3.1 in c:\\users\\vedansh rai\\onedrive\\desktop\\pythonproject\\.venv\\lib\\site-packages (from matplotlib) (1.4.8)\n",
      "Requirement already satisfied: numpy>=1.23 in c:\\users\\vedansh rai\\onedrive\\desktop\\pythonproject\\.venv\\lib\\site-packages (from matplotlib) (2.2.4)\n",
      "Requirement already satisfied: packaging>=20.0 in c:\\users\\vedansh rai\\onedrive\\desktop\\pythonproject\\.venv\\lib\\site-packages (from matplotlib) (25.0)\n",
      "Requirement already satisfied: pillow>=8 in c:\\users\\vedansh rai\\onedrive\\desktop\\pythonproject\\.venv\\lib\\site-packages (from matplotlib) (11.2.1)\n",
      "Requirement already satisfied: pyparsing>=2.3.1 in c:\\users\\vedansh rai\\onedrive\\desktop\\pythonproject\\.venv\\lib\\site-packages (from matplotlib) (3.2.3)\n",
      "Requirement already satisfied: python-dateutil>=2.7 in c:\\users\\vedansh rai\\onedrive\\desktop\\pythonproject\\.venv\\lib\\site-packages (from matplotlib) (2.9.0.post0)\n",
      "Requirement already satisfied: six>=1.5 in c:\\users\\vedansh rai\\onedrive\\desktop\\pythonproject\\.venv\\lib\\site-packages (from python-dateutil>=2.7->matplotlib) (1.17.0)\n",
      "Note: you may need to restart the kernel to use updated packages.\n"
     ]
    },
    {
     "name": "stderr",
     "output_type": "stream",
     "text": [
      "\n",
      "[notice] A new release of pip is available: 23.2.1 -> 25.1\n",
      "[notice] To update, run: python.exe -m pip install --upgrade pip\n"
     ]
    }
   ],
   "source": [
    "pip install matplotlib"
   ]
  },
  {
   "cell_type": "code",
   "execution_count": 10,
   "id": "c62a2ada",
   "metadata": {},
   "outputs": [
    {
     "name": "stdout",
     "output_type": "stream",
     "text": [
      "Requirement already satisfied: scipy in c:\\users\\vedansh rai\\onedrive\\desktop\\pythonproject\\.venv\\lib\\site-packages (1.15.2)\n",
      "Requirement already satisfied: numpy<2.5,>=1.23.5 in c:\\users\\vedansh rai\\onedrive\\desktop\\pythonproject\\.venv\\lib\\site-packages (from scipy) (2.2.4)\n",
      "Note: you may need to restart the kernel to use updated packages.\n"
     ]
    },
    {
     "name": "stderr",
     "output_type": "stream",
     "text": [
      "\n",
      "[notice] A new release of pip is available: 23.2.1 -> 25.1\n",
      "[notice] To update, run: python.exe -m pip install --upgrade pip\n"
     ]
    }
   ],
   "source": [
    "pip install scipy"
   ]
  },
  {
   "cell_type": "code",
   "execution_count": 34,
   "id": "1651e29b",
   "metadata": {},
   "outputs": [
    {
     "data": {
      "text/html": [
       "\n",
       "            <style>\n",
       "                .geemap-dark {\n",
       "                    --jp-widgets-color: white;\n",
       "                    --jp-widgets-label-color: white;\n",
       "                    --jp-ui-font-color1: white;\n",
       "                    --jp-layout-color2: #454545;\n",
       "                    background-color: #383838;\n",
       "                }\n",
       "\n",
       "                .geemap-dark .jupyter-button {\n",
       "                    --jp-layout-color3: #383838;\n",
       "                }\n",
       "\n",
       "                .geemap-colab {\n",
       "                    background-color: var(--colab-primary-surface-color, white);\n",
       "                }\n",
       "\n",
       "                .geemap-colab .jupyter-button {\n",
       "                    --jp-layout-color3: var(--colab-primary-surface-color, white);\n",
       "                }\n",
       "            </style>\n",
       "            "
      ],
      "text/plain": [
       "<IPython.core.display.HTML object>"
      ]
     },
     "metadata": {},
     "output_type": "display_data"
    },
    {
     "name": "stdout",
     "output_type": "stream",
     "text": [
      "Collecting seaborn\n",
      "  Obtaining dependency information for seaborn from https://files.pythonhosted.org/packages/83/11/00d3c3dfc25ad54e731d91449895a79e4bf2384dc3ac01809010ba88f6d5/seaborn-0.13.2-py3-none-any.whl.metadata\n",
      "  Downloading seaborn-0.13.2-py3-none-any.whl.metadata (5.4 kB)\n",
      "Requirement already satisfied: numpy!=1.24.0,>=1.20 in c:\\users\\vedansh rai\\onedrive\\desktop\\pythonproject\\.venv\\lib\\site-packages (from seaborn) (2.2.4)\n",
      "Requirement already satisfied: pandas>=1.2 in c:\\users\\vedansh rai\\onedrive\\desktop\\pythonproject\\.venv\\lib\\site-packages (from seaborn) (2.2.3)\n",
      "Requirement already satisfied: matplotlib!=3.6.1,>=3.4 in c:\\users\\vedansh rai\\onedrive\\desktop\\pythonproject\\.venv\\lib\\site-packages (from seaborn) (3.10.1)\n",
      "Requirement already satisfied: contourpy>=1.0.1 in c:\\users\\vedansh rai\\onedrive\\desktop\\pythonproject\\.venv\\lib\\site-packages (from matplotlib!=3.6.1,>=3.4->seaborn) (1.3.2)\n",
      "Requirement already satisfied: cycler>=0.10 in c:\\users\\vedansh rai\\onedrive\\desktop\\pythonproject\\.venv\\lib\\site-packages (from matplotlib!=3.6.1,>=3.4->seaborn) (0.12.1)\n",
      "Requirement already satisfied: fonttools>=4.22.0 in c:\\users\\vedansh rai\\onedrive\\desktop\\pythonproject\\.venv\\lib\\site-packages (from matplotlib!=3.6.1,>=3.4->seaborn) (4.57.0)\n",
      "Requirement already satisfied: kiwisolver>=1.3.1 in c:\\users\\vedansh rai\\onedrive\\desktop\\pythonproject\\.venv\\lib\\site-packages (from matplotlib!=3.6.1,>=3.4->seaborn) (1.4.8)\n",
      "Requirement already satisfied: packaging>=20.0 in c:\\users\\vedansh rai\\onedrive\\desktop\\pythonproject\\.venv\\lib\\site-packages (from matplotlib!=3.6.1,>=3.4->seaborn) (25.0)\n",
      "Requirement already satisfied: pillow>=8 in c:\\users\\vedansh rai\\onedrive\\desktop\\pythonproject\\.venv\\lib\\site-packages (from matplotlib!=3.6.1,>=3.4->seaborn) (11.2.1)\n",
      "Requirement already satisfied: pyparsing>=2.3.1 in c:\\users\\vedansh rai\\onedrive\\desktop\\pythonproject\\.venv\\lib\\site-packages (from matplotlib!=3.6.1,>=3.4->seaborn) (3.2.3)\n",
      "Requirement already satisfied: python-dateutil>=2.7 in c:\\users\\vedansh rai\\onedrive\\desktop\\pythonproject\\.venv\\lib\\site-packages (from matplotlib!=3.6.1,>=3.4->seaborn) (2.9.0.post0)\n",
      "Requirement already satisfied: pytz>=2020.1 in c:\\users\\vedansh rai\\onedrive\\desktop\\pythonproject\\.venv\\lib\\site-packages (from pandas>=1.2->seaborn) (2025.2)\n",
      "Requirement already satisfied: tzdata>=2022.7 in c:\\users\\vedansh rai\\onedrive\\desktop\\pythonproject\\.venv\\lib\\site-packages (from pandas>=1.2->seaborn) (2025.2)\n",
      "Requirement already satisfied: six>=1.5 in c:\\users\\vedansh rai\\onedrive\\desktop\\pythonproject\\.venv\\lib\\site-packages (from python-dateutil>=2.7->matplotlib!=3.6.1,>=3.4->seaborn) (1.17.0)\n",
      "Downloading seaborn-0.13.2-py3-none-any.whl (294 kB)\n",
      "   ---------------------------------------- 0.0/294.9 kB ? eta -:--:--\n",
      "   ---------------------------------------- 0.0/294.9 kB ? eta -:--:--\n",
      "   ----- ---------------------------------- 41.0/294.9 kB ? eta -:--:--\n",
      "   ----- ---------------------------------- 41.0/294.9 kB ? eta -:--:--\n",
      "   --------- ----------------------------- 71.7/294.9 kB 563.7 kB/s eta 0:00:01\n",
      "   -------------- ----------------------- 112.6/294.9 kB 656.4 kB/s eta 0:00:01\n",
      "   -------------- ----------------------- 112.6/294.9 kB 656.4 kB/s eta 0:00:01\n",
      "   ------------------ ------------------- 143.4/294.9 kB 568.9 kB/s eta 0:00:01\n",
      "   ------------------ ------------------- 143.4/294.9 kB 568.9 kB/s eta 0:00:01\n",
      "   ------------------ ------------------- 143.4/294.9 kB 568.9 kB/s eta 0:00:01\n",
      "   ------------------- ------------------ 153.6/294.9 kB 418.0 kB/s eta 0:00:01\n",
      "   ------------------------- ------------ 194.6/294.9 kB 421.8 kB/s eta 0:00:01\n",
      "   -------------------------- ----------- 204.8/294.9 kB 402.0 kB/s eta 0:00:01\n",
      "   ----------------------------- -------- 225.3/294.9 kB 430.1 kB/s eta 0:00:01\n",
      "   ------------------------------ ------- 235.5/294.9 kB 400.9 kB/s eta 0:00:01\n",
      "   -------------------------------- ----- 256.0/294.9 kB 414.4 kB/s eta 0:00:01\n",
      "   -------------------------------------- 294.9/294.9 kB 424.3 kB/s eta 0:00:00\n",
      "Installing collected packages: seaborn\n",
      "Successfully installed seaborn-0.13.2\n",
      "Note: you may need to restart the kernel to use updated packages.\n"
     ]
    },
    {
     "name": "stderr",
     "output_type": "stream",
     "text": [
      "  WARNING: Retrying (Retry(total=4, connect=None, read=None, redirect=None, status=None)) after connection broken by 'SSLError(SSLError(1, '[SSL: DECRYPTION_FAILED_OR_BAD_RECORD_MAC] decryption failed or bad record mac (_ssl.c:1000)'))': /packages/83/11/00d3c3dfc25ad54e731d91449895a79e4bf2384dc3ac01809010ba88f6d5/seaborn-0.13.2-py3-none-any.whl.metadata\n",
      "\n",
      "[notice] A new release of pip is available: 23.2.1 -> 25.1\n",
      "[notice] To update, run: python.exe -m pip install --upgrade pip\n"
     ]
    }
   ],
   "source": [
    "pip install seaborn"
   ]
  },
  {
   "cell_type": "code",
   "execution_count": 35,
   "id": "4b284dbe",
   "metadata": {},
   "outputs": [
    {
     "data": {
      "text/html": [
       "\n",
       "            <style>\n",
       "                .geemap-dark {\n",
       "                    --jp-widgets-color: white;\n",
       "                    --jp-widgets-label-color: white;\n",
       "                    --jp-ui-font-color1: white;\n",
       "                    --jp-layout-color2: #454545;\n",
       "                    background-color: #383838;\n",
       "                }\n",
       "\n",
       "                .geemap-dark .jupyter-button {\n",
       "                    --jp-layout-color3: #383838;\n",
       "                }\n",
       "\n",
       "                .geemap-colab {\n",
       "                    background-color: var(--colab-primary-surface-color, white);\n",
       "                }\n",
       "\n",
       "                .geemap-colab .jupyter-button {\n",
       "                    --jp-layout-color3: var(--colab-primary-surface-color, white);\n",
       "                }\n",
       "            </style>\n",
       "            "
      ],
      "text/plain": [
       "<IPython.core.display.HTML object>"
      ]
     },
     "metadata": {},
     "output_type": "display_data"
    }
   ],
   "source": [
    "import geemap\n",
    "import pandas as pd\n",
    "import numpy as np\n",
    "import matplotlib.pyplot as plt\n",
    "import scipy.stats as stats\n",
    "import seaborn as sns"
   ]
  },
  {
   "cell_type": "code",
   "execution_count": 12,
   "id": "a76e7f48",
   "metadata": {},
   "outputs": [
    {
     "data": {
      "text/html": [
       "\n",
       "            <style>\n",
       "                .geemap-dark {\n",
       "                    --jp-widgets-color: white;\n",
       "                    --jp-widgets-label-color: white;\n",
       "                    --jp-ui-font-color1: white;\n",
       "                    --jp-layout-color2: #454545;\n",
       "                    background-color: #383838;\n",
       "                }\n",
       "\n",
       "                .geemap-dark .jupyter-button {\n",
       "                    --jp-layout-color3: #383838;\n",
       "                }\n",
       "\n",
       "                .geemap-colab {\n",
       "                    background-color: var(--colab-primary-surface-color, white);\n",
       "                }\n",
       "\n",
       "                .geemap-colab .jupyter-button {\n",
       "                    --jp-layout-color3: var(--colab-primary-surface-color, white);\n",
       "                }\n",
       "            </style>\n",
       "            "
      ],
      "text/plain": [
       "<IPython.core.display.HTML object>"
      ]
     },
     "metadata": {},
     "output_type": "display_data"
    }
   ],
   "source": [
    "# Define the region (Full India)\n",
    "region = ee.Geometry.Polygon(\n",
    "    [[\n",
    "      \n",
    "    [76.7, 28.4],  # Southwest corner (Delhi)\n",
    "    [77.4, 28.4],  # Southeast corner\n",
    "    [77.4, 28.9],  # Northeast corner (Faridabad, Haryana)\n",
    "    [76.7, 28.9],  # Northwest corner (Gurugram, Haryana)\n",
    "    [76.7, 28.4]   # Close the polygon\n",
    "\n",
    "    ]]\n",
    ")\n",
    "\n"
   ]
  },
  {
   "cell_type": "code",
   "execution_count": 13,
   "id": "14d67c37",
   "metadata": {},
   "outputs": [
    {
     "data": {
      "text/html": [
       "\n",
       "            <style>\n",
       "                .geemap-dark {\n",
       "                    --jp-widgets-color: white;\n",
       "                    --jp-widgets-label-color: white;\n",
       "                    --jp-ui-font-color1: white;\n",
       "                    --jp-layout-color2: #454545;\n",
       "                    background-color: #383838;\n",
       "                }\n",
       "\n",
       "                .geemap-dark .jupyter-button {\n",
       "                    --jp-layout-color3: #383838;\n",
       "                }\n",
       "\n",
       "                .geemap-colab {\n",
       "                    background-color: var(--colab-primary-surface-color, white);\n",
       "                }\n",
       "\n",
       "                .geemap-colab .jupyter-button {\n",
       "                    --jp-layout-color3: var(--colab-primary-surface-color, white);\n",
       "                }\n",
       "            </style>\n",
       "            "
      ],
      "text/plain": [
       "<IPython.core.display.HTML object>"
      ]
     },
     "metadata": {},
     "output_type": "display_data"
    }
   ],
   "source": [
    "# Sentinel-2 cloud mask function\n",
    "def maskS2clouds(image):\n",
    "    qa = image.select('QA60')\n",
    "    cloudBitMask = 1 << 10\n",
    "    cirrusBitMask = 1 << 11\n",
    "    mask = qa.bitwiseAnd(cloudBitMask).eq(0).And(qa.bitwiseAnd(cirrusBitMask).eq(0))\n",
    "    return image.updateMask(mask).divide(10000)\n",
    "\n"
   ]
  },
  {
   "cell_type": "code",
   "execution_count": 14,
   "id": "42157f0c",
   "metadata": {},
   "outputs": [
    {
     "data": {
      "text/html": [
       "\n",
       "            <style>\n",
       "                .geemap-dark {\n",
       "                    --jp-widgets-color: white;\n",
       "                    --jp-widgets-label-color: white;\n",
       "                    --jp-ui-font-color1: white;\n",
       "                    --jp-layout-color2: #454545;\n",
       "                    background-color: #383838;\n",
       "                }\n",
       "\n",
       "                .geemap-dark .jupyter-button {\n",
       "                    --jp-layout-color3: #383838;\n",
       "                }\n",
       "\n",
       "                .geemap-colab {\n",
       "                    background-color: var(--colab-primary-surface-color, white);\n",
       "                }\n",
       "\n",
       "                .geemap-colab .jupyter-button {\n",
       "                    --jp-layout-color3: var(--colab-primary-surface-color, white);\n",
       "                }\n",
       "            </style>\n",
       "            "
      ],
      "text/plain": [
       "<IPython.core.display.HTML object>"
      ]
     },
     "metadata": {},
     "output_type": "display_data"
    }
   ],
   "source": [
    "# Load and filter Sentinel-2 data (2018-2023)\n",
    "sentinel = (ee.ImageCollection(\"COPERNICUS/S2_HARMONIZED\")\n",
    "            .filterBounds(region)\n",
    "            .filterDate('2018-01-01', '2023-12-31')\n",
    "            .filter(ee.Filter.lt('CLOUDY_PIXEL_PERCENTAGE', 20))\n",
    "            .map(maskS2clouds))\n",
    "\n"
   ]
  },
  {
   "cell_type": "code",
   "execution_count": 15,
   "id": "d5a158e0",
   "metadata": {},
   "outputs": [
    {
     "data": {
      "text/html": [
       "\n",
       "            <style>\n",
       "                .geemap-dark {\n",
       "                    --jp-widgets-color: white;\n",
       "                    --jp-widgets-label-color: white;\n",
       "                    --jp-ui-font-color1: white;\n",
       "                    --jp-layout-color2: #454545;\n",
       "                    background-color: #383838;\n",
       "                }\n",
       "\n",
       "                .geemap-dark .jupyter-button {\n",
       "                    --jp-layout-color3: #383838;\n",
       "                }\n",
       "\n",
       "                .geemap-colab {\n",
       "                    background-color: var(--colab-primary-surface-color, white);\n",
       "                }\n",
       "\n",
       "                .geemap-colab .jupyter-button {\n",
       "                    --jp-layout-color3: var(--colab-primary-surface-color, white);\n",
       "                }\n",
       "            </style>\n",
       "            "
      ],
      "text/plain": [
       "<IPython.core.display.HTML object>"
      ]
     },
     "metadata": {},
     "output_type": "display_data"
    }
   ],
   "source": [
    "# NDVI calculation function\n",
    "def addNDVI(image):\n",
    "    ndvi = image.normalizedDifference(['B8', 'B4']).rename('NDVI')\n",
    "    return image.addBands(ndvi)\n",
    "\n"
   ]
  },
  {
   "cell_type": "code",
   "execution_count": 16,
   "id": "a7879820",
   "metadata": {},
   "outputs": [
    {
     "data": {
      "text/html": [
       "\n",
       "            <style>\n",
       "                .geemap-dark {\n",
       "                    --jp-widgets-color: white;\n",
       "                    --jp-widgets-label-color: white;\n",
       "                    --jp-ui-font-color1: white;\n",
       "                    --jp-layout-color2: #454545;\n",
       "                    background-color: #383838;\n",
       "                }\n",
       "\n",
       "                .geemap-dark .jupyter-button {\n",
       "                    --jp-layout-color3: #383838;\n",
       "                }\n",
       "\n",
       "                .geemap-colab {\n",
       "                    background-color: var(--colab-primary-surface-color, white);\n",
       "                }\n",
       "\n",
       "                .geemap-colab .jupyter-button {\n",
       "                    --jp-layout-color3: var(--colab-primary-surface-color, white);\n",
       "                }\n",
       "            </style>\n",
       "            "
      ],
      "text/plain": [
       "<IPython.core.display.HTML object>"
      ]
     },
     "metadata": {},
     "output_type": "display_data"
    }
   ],
   "source": [
    "# Apply NDVI calculation\n",
    "sentinel = sentinel.map(addNDVI)\n",
    "\n"
   ]
  },
  {
   "cell_type": "code",
   "execution_count": 17,
   "id": "6c991b0c",
   "metadata": {},
   "outputs": [
    {
     "data": {
      "text/html": [
       "\n",
       "            <style>\n",
       "                .geemap-dark {\n",
       "                    --jp-widgets-color: white;\n",
       "                    --jp-widgets-label-color: white;\n",
       "                    --jp-ui-font-color1: white;\n",
       "                    --jp-layout-color2: #454545;\n",
       "                    background-color: #383838;\n",
       "                }\n",
       "\n",
       "                .geemap-dark .jupyter-button {\n",
       "                    --jp-layout-color3: #383838;\n",
       "                }\n",
       "\n",
       "                .geemap-colab {\n",
       "                    background-color: var(--colab-primary-surface-color, white);\n",
       "                }\n",
       "\n",
       "                .geemap-colab .jupyter-button {\n",
       "                    --jp-layout-color3: var(--colab-primary-surface-color, white);\n",
       "                }\n",
       "            </style>\n",
       "            "
      ],
      "text/plain": [
       "<IPython.core.display.HTML object>"
      ]
     },
     "metadata": {},
     "output_type": "display_data"
    }
   ],
   "source": [
    "# Calculate NDVI median composite\n",
    "ndvi_median = sentinel.select('NDVI').median().clip(region)\n",
    "\n"
   ]
  },
  {
   "cell_type": "code",
   "execution_count": 18,
   "id": "fcac6bee",
   "metadata": {},
   "outputs": [
    {
     "data": {
      "text/html": [
       "\n",
       "            <style>\n",
       "                .geemap-dark {\n",
       "                    --jp-widgets-color: white;\n",
       "                    --jp-widgets-label-color: white;\n",
       "                    --jp-ui-font-color1: white;\n",
       "                    --jp-layout-color2: #454545;\n",
       "                    background-color: #383838;\n",
       "                }\n",
       "\n",
       "                .geemap-dark .jupyter-button {\n",
       "                    --jp-layout-color3: #383838;\n",
       "                }\n",
       "\n",
       "                .geemap-colab {\n",
       "                    background-color: var(--colab-primary-surface-color, white);\n",
       "                }\n",
       "\n",
       "                .geemap-colab .jupyter-button {\n",
       "                    --jp-layout-color3: var(--colab-primary-surface-color, white);\n",
       "                }\n",
       "            </style>\n",
       "            "
      ],
      "text/plain": [
       "<IPython.core.display.HTML object>"
      ]
     },
     "metadata": {},
     "output_type": "display_data"
    }
   ],
   "source": [
    "# ERA5-Land Temperature (2m temp in Celsius) - 2018-2023\n",
    "era5_temp = (ee.ImageCollection(\"ECMWF/ERA5_LAND/DAILY_AGGR\")\n",
    "             .filterBounds(region)\n",
    "             .filterDate('2018-01-01', '2023-12-31')\n",
    "             .select('temperature_2m'))\n",
    "\n",
    "temp_c = era5_temp.mean().subtract(273.15).rename('Temperature_C').clip(region)\n",
    "\n"
   ]
  },
  {
   "cell_type": "code",
   "execution_count": 19,
   "id": "7255ff58",
   "metadata": {},
   "outputs": [
    {
     "data": {
      "text/html": [
       "\n",
       "            <style>\n",
       "                .geemap-dark {\n",
       "                    --jp-widgets-color: white;\n",
       "                    --jp-widgets-label-color: white;\n",
       "                    --jp-ui-font-color1: white;\n",
       "                    --jp-layout-color2: #454545;\n",
       "                    background-color: #383838;\n",
       "                }\n",
       "\n",
       "                .geemap-dark .jupyter-button {\n",
       "                    --jp-layout-color3: #383838;\n",
       "                }\n",
       "\n",
       "                .geemap-colab {\n",
       "                    background-color: var(--colab-primary-surface-color, white);\n",
       "                }\n",
       "\n",
       "                .geemap-colab .jupyter-button {\n",
       "                    --jp-layout-color3: var(--colab-primary-surface-color, white);\n",
       "                }\n",
       "            </style>\n",
       "            "
      ],
      "text/plain": [
       "<IPython.core.display.HTML object>"
      ]
     },
     "metadata": {},
     "output_type": "display_data"
    }
   ],
   "source": [
    "# ERA5 Wind Speed components - 2018-2023\n",
    "era5_wind = (ee.ImageCollection(\"ECMWF/ERA5_LAND/DAILY_AGGR\")\n",
    "             .filterBounds(region)\n",
    "             .filterDate('2018-01-01', '2023-12-31')\n",
    "             .select('u_component_of_wind_10m', 'v_component_of_wind_10m'))\n",
    "\n"
   ]
  },
  {
   "cell_type": "code",
   "execution_count": 20,
   "id": "c326b34f",
   "metadata": {},
   "outputs": [
    {
     "data": {
      "text/html": [
       "\n",
       "            <style>\n",
       "                .geemap-dark {\n",
       "                    --jp-widgets-color: white;\n",
       "                    --jp-widgets-label-color: white;\n",
       "                    --jp-ui-font-color1: white;\n",
       "                    --jp-layout-color2: #454545;\n",
       "                    background-color: #383838;\n",
       "                }\n",
       "\n",
       "                .geemap-dark .jupyter-button {\n",
       "                    --jp-layout-color3: #383838;\n",
       "                }\n",
       "\n",
       "                .geemap-colab {\n",
       "                    background-color: var(--colab-primary-surface-color, white);\n",
       "                }\n",
       "\n",
       "                .geemap-colab .jupyter-button {\n",
       "                    --jp-layout-color3: var(--colab-primary-surface-color, white);\n",
       "                }\n",
       "            </style>\n",
       "            "
      ],
      "text/plain": [
       "<IPython.core.display.HTML object>"
      ]
     },
     "metadata": {},
     "output_type": "display_data"
    }
   ],
   "source": [
    "# Calculate wind speed magnitude\n",
    "wind_speed = era5_wind.map(lambda image: \n",
    "    image.expression('sqrt(u**2 + v**2)', {\n",
    "        'u': image.select('u_component_of_wind_10m'),\n",
    "        'v': image.select('v_component_of_wind_10m')\n",
    "    })).mean().rename('Wind_Speed_ms').clip(region)\n",
    "\n"
   ]
  },
  {
   "cell_type": "code",
   "execution_count": 21,
   "id": "b6f14470",
   "metadata": {},
   "outputs": [
    {
     "data": {
      "text/html": [
       "\n",
       "            <style>\n",
       "                .geemap-dark {\n",
       "                    --jp-widgets-color: white;\n",
       "                    --jp-widgets-label-color: white;\n",
       "                    --jp-ui-font-color1: white;\n",
       "                    --jp-layout-color2: #454545;\n",
       "                    background-color: #383838;\n",
       "                }\n",
       "\n",
       "                .geemap-dark .jupyter-button {\n",
       "                    --jp-layout-color3: #383838;\n",
       "                }\n",
       "\n",
       "                .geemap-colab {\n",
       "                    background-color: var(--colab-primary-surface-color, white);\n",
       "                }\n",
       "\n",
       "                .geemap-colab .jupyter-button {\n",
       "                    --jp-layout-color3: var(--colab-primary-surface-color, white);\n",
       "                }\n",
       "            </style>\n",
       "            "
      ],
      "text/plain": [
       "<IPython.core.display.HTML object>"
      ]
     },
     "metadata": {},
     "output_type": "display_data"
    }
   ],
   "source": [
    "# CHIRPS Rainfall (total precipitation 2018-2023)\n",
    "chirps = (ee.ImageCollection(\"UCSB-CHG/CHIRPS/DAILY\")\n",
    "          .filterBounds(region)\n",
    "          .filterDate('2018-01-01', '2023-12-31')\n",
    "          .select('precipitation'))\n",
    "\n",
    "rain_total = chirps.sum().rename('Rainfall_mm').clip(region)\n"
   ]
  },
  {
   "cell_type": "code",
   "execution_count": 22,
   "id": "343b0497",
   "metadata": {},
   "outputs": [
    {
     "data": {
      "text/html": [
       "\n",
       "            <style>\n",
       "                .geemap-dark {\n",
       "                    --jp-widgets-color: white;\n",
       "                    --jp-widgets-label-color: white;\n",
       "                    --jp-ui-font-color1: white;\n",
       "                    --jp-layout-color2: #454545;\n",
       "                    background-color: #383838;\n",
       "                }\n",
       "\n",
       "                .geemap-dark .jupyter-button {\n",
       "                    --jp-layout-color3: #383838;\n",
       "                }\n",
       "\n",
       "                .geemap-colab {\n",
       "                    background-color: var(--colab-primary-surface-color, white);\n",
       "                }\n",
       "\n",
       "                .geemap-colab .jupyter-button {\n",
       "                    --jp-layout-color3: var(--colab-primary-surface-color, white);\n",
       "                }\n",
       "            </style>\n",
       "            "
      ],
      "text/plain": [
       "<IPython.core.display.HTML object>"
      ]
     },
     "metadata": {},
     "output_type": "display_data"
    }
   ],
   "source": [
    "# ERA5-Land Solar radiation (2018-2023 mean)\n",
    "solar = (ee.ImageCollection(\"ECMWF/ERA5_LAND/HOURLY\")\n",
    "         .filterBounds(region)\n",
    "         .filterDate('2018-01-01', '2023-12-31')\n",
    "         .select('surface_solar_radiation_downwards'))\n",
    "\n",
    "solar_mean = solar.mean().divide(1e6).rename('Solar_MJ').clip(region)\n"
   ]
  },
  {
   "cell_type": "code",
   "execution_count": 23,
   "id": "2a66ae2f",
   "metadata": {},
   "outputs": [
    {
     "data": {
      "text/html": [
       "\n",
       "            <style>\n",
       "                .geemap-dark {\n",
       "                    --jp-widgets-color: white;\n",
       "                    --jp-widgets-label-color: white;\n",
       "                    --jp-ui-font-color1: white;\n",
       "                    --jp-layout-color2: #454545;\n",
       "                    background-color: #383838;\n",
       "                }\n",
       "\n",
       "                .geemap-dark .jupyter-button {\n",
       "                    --jp-layout-color3: #383838;\n",
       "                }\n",
       "\n",
       "                .geemap-colab {\n",
       "                    background-color: var(--colab-primary-surface-color, white);\n",
       "                }\n",
       "\n",
       "                .geemap-colab .jupyter-button {\n",
       "                    --jp-layout-color3: var(--colab-primary-surface-color, white);\n",
       "                }\n",
       "            </style>\n",
       "            "
      ],
      "text/plain": [
       "<IPython.core.display.HTML object>"
      ]
     },
     "metadata": {},
     "output_type": "display_data"
    }
   ],
   "source": [
    "# Combine all layers into a single image\n",
    "combined = ee.Image.cat([\n",
    "    ndvi_median,\n",
    "    temp_c,\n",
    "    rain_total,\n",
    "    solar_mean,\n",
    "    wind_speed\n",
    "]).rename(['NDVI', 'Temperature_C', 'Rainfall_mm', 'Solar_MJ', 'Wind_Speed_ms'])\n"
   ]
  },
  {
   "cell_type": "code",
   "execution_count": 24,
   "id": "673995fd",
   "metadata": {},
   "outputs": [
    {
     "data": {
      "text/html": [
       "\n",
       "            <style>\n",
       "                .geemap-dark {\n",
       "                    --jp-widgets-color: white;\n",
       "                    --jp-widgets-label-color: white;\n",
       "                    --jp-ui-font-color1: white;\n",
       "                    --jp-layout-color2: #454545;\n",
       "                    background-color: #383838;\n",
       "                }\n",
       "\n",
       "                .geemap-dark .jupyter-button {\n",
       "                    --jp-layout-color3: #383838;\n",
       "                }\n",
       "\n",
       "                .geemap-colab {\n",
       "                    background-color: var(--colab-primary-surface-color, white);\n",
       "                }\n",
       "\n",
       "                .geemap-colab .jupyter-button {\n",
       "                    --jp-layout-color3: var(--colab-primary-surface-color, white);\n",
       "                }\n",
       "            </style>\n",
       "            "
      ],
      "text/plain": [
       "<IPython.core.display.HTML object>"
      ]
     },
     "metadata": {},
     "output_type": "display_data"
    }
   ],
   "source": [
    "# Sample points for analysis (reduced count for large area)\n",
    "sample_points = ee.FeatureCollection.randomPoints(\n",
    "    region,  # Region first\n",
    "    100,     # Number of points second\n",
    "    seed=42  # Optional seed\n",
    ")\n"
   ]
  },
  {
   "cell_type": "code",
   "execution_count": 25,
   "id": "9be09eee",
   "metadata": {},
   "outputs": [
    {
     "data": {
      "text/html": [
       "\n",
       "            <style>\n",
       "                .geemap-dark {\n",
       "                    --jp-widgets-color: white;\n",
       "                    --jp-widgets-label-color: white;\n",
       "                    --jp-ui-font-color1: white;\n",
       "                    --jp-layout-color2: #454545;\n",
       "                    background-color: #383838;\n",
       "                }\n",
       "\n",
       "                .geemap-dark .jupyter-button {\n",
       "                    --jp-layout-color3: #383838;\n",
       "                }\n",
       "\n",
       "                .geemap-colab {\n",
       "                    background-color: var(--colab-primary-surface-color, white);\n",
       "                }\n",
       "\n",
       "                .geemap-colab .jupyter-button {\n",
       "                    --jp-layout-color3: var(--colab-primary-surface-color, white);\n",
       "                }\n",
       "            </style>\n",
       "            "
      ],
      "text/plain": [
       "<IPython.core.display.HTML object>"
      ]
     },
     "metadata": {},
     "output_type": "display_data"
    }
   ],
   "source": [
    "# Sample the combined image (scale goes here)\n",
    "samples = combined.sampleRegions(\n",
    "    collection=sample_points,\n",
    "    scale=5000,  # Correct location for scale\n",
    "    geometries=True\n",
    ")\n",
    "\n"
   ]
  },
  {
   "cell_type": "code",
   "execution_count": 26,
   "id": "ee684a13",
   "metadata": {},
   "outputs": [
    {
     "data": {
      "text/html": [
       "\n",
       "            <style>\n",
       "                .geemap-dark {\n",
       "                    --jp-widgets-color: white;\n",
       "                    --jp-widgets-label-color: white;\n",
       "                    --jp-ui-font-color1: white;\n",
       "                    --jp-layout-color2: #454545;\n",
       "                    background-color: #383838;\n",
       "                }\n",
       "\n",
       "                .geemap-dark .jupyter-button {\n",
       "                    --jp-layout-color3: #383838;\n",
       "                }\n",
       "\n",
       "                .geemap-colab {\n",
       "                    background-color: var(--colab-primary-surface-color, white);\n",
       "                }\n",
       "\n",
       "                .geemap-colab .jupyter-button {\n",
       "                    --jp-layout-color3: var(--colab-primary-surface-color, white);\n",
       "                }\n",
       "            </style>\n",
       "            "
      ],
      "text/plain": [
       "<IPython.core.display.HTML object>"
      ]
     },
     "metadata": {},
     "output_type": "display_data"
    }
   ],
   "source": [
    "# Get the sample data\n",
    "sample_list = samples.getInfo()['features']"
   ]
  },
  {
   "cell_type": "code",
   "execution_count": 27,
   "id": "93674093",
   "metadata": {},
   "outputs": [
    {
     "data": {
      "text/html": [
       "\n",
       "            <style>\n",
       "                .geemap-dark {\n",
       "                    --jp-widgets-color: white;\n",
       "                    --jp-widgets-label-color: white;\n",
       "                    --jp-ui-font-color1: white;\n",
       "                    --jp-layout-color2: #454545;\n",
       "                    background-color: #383838;\n",
       "                }\n",
       "\n",
       "                .geemap-dark .jupyter-button {\n",
       "                    --jp-layout-color3: #383838;\n",
       "                }\n",
       "\n",
       "                .geemap-colab {\n",
       "                    background-color: var(--colab-primary-surface-color, white);\n",
       "                }\n",
       "\n",
       "                .geemap-colab .jupyter-button {\n",
       "                    --jp-layout-color3: var(--colab-primary-surface-color, white);\n",
       "                }\n",
       "            </style>\n",
       "            "
      ],
      "text/plain": [
       "<IPython.core.display.HTML object>"
      ]
     },
     "metadata": {},
     "output_type": "display_data"
    },
    {
     "data": {
      "text/html": [
       "<div>\n",
       "<style scoped>\n",
       "    .dataframe tbody tr th:only-of-type {\n",
       "        vertical-align: middle;\n",
       "    }\n",
       "\n",
       "    .dataframe tbody tr th {\n",
       "        vertical-align: top;\n",
       "    }\n",
       "\n",
       "    .dataframe thead th {\n",
       "        text-align: right;\n",
       "    }\n",
       "</style>\n",
       "<table border=\"1\" class=\"dataframe\">\n",
       "  <thead>\n",
       "    <tr style=\"text-align: right;\">\n",
       "      <th></th>\n",
       "      <th>NDVI</th>\n",
       "      <th>Temperature</th>\n",
       "      <th>Rainfall</th>\n",
       "      <th>Solar_Radiation</th>\n",
       "      <th>Wind_Speed</th>\n",
       "    </tr>\n",
       "  </thead>\n",
       "  <tbody>\n",
       "    <tr>\n",
       "      <th>0</th>\n",
       "      <td>0.187671</td>\n",
       "      <td>24.470470</td>\n",
       "      <td>4909.913465</td>\n",
       "      <td>13.751113</td>\n",
       "      <td>1.945148</td>\n",
       "    </tr>\n",
       "    <tr>\n",
       "      <th>1</th>\n",
       "      <td>0.214327</td>\n",
       "      <td>24.437675</td>\n",
       "      <td>4634.208761</td>\n",
       "      <td>13.766753</td>\n",
       "      <td>1.937411</td>\n",
       "    </tr>\n",
       "    <tr>\n",
       "      <th>2</th>\n",
       "      <td>0.268017</td>\n",
       "      <td>24.367409</td>\n",
       "      <td>5090.649848</td>\n",
       "      <td>13.723141</td>\n",
       "      <td>1.977536</td>\n",
       "    </tr>\n",
       "    <tr>\n",
       "      <th>3</th>\n",
       "      <td>0.161434</td>\n",
       "      <td>24.490525</td>\n",
       "      <td>4767.635635</td>\n",
       "      <td>13.754168</td>\n",
       "      <td>1.955593</td>\n",
       "    </tr>\n",
       "    <tr>\n",
       "      <th>4</th>\n",
       "      <td>0.311230</td>\n",
       "      <td>24.717309</td>\n",
       "      <td>4612.523756</td>\n",
       "      <td>13.791419</td>\n",
       "      <td>1.931006</td>\n",
       "    </tr>\n",
       "    <tr>\n",
       "      <th>...</th>\n",
       "      <td>...</td>\n",
       "      <td>...</td>\n",
       "      <td>...</td>\n",
       "      <td>...</td>\n",
       "      <td>...</td>\n",
       "    </tr>\n",
       "    <tr>\n",
       "      <th>95</th>\n",
       "      <td>0.027727</td>\n",
       "      <td>24.212754</td>\n",
       "      <td>5556.561731</td>\n",
       "      <td>13.705800</td>\n",
       "      <td>1.958983</td>\n",
       "    </tr>\n",
       "    <tr>\n",
       "      <th>96</th>\n",
       "      <td>0.189732</td>\n",
       "      <td>24.854562</td>\n",
       "      <td>4244.630192</td>\n",
       "      <td>13.872300</td>\n",
       "      <td>1.859600</td>\n",
       "    </tr>\n",
       "    <tr>\n",
       "      <th>97</th>\n",
       "      <td>0.227532</td>\n",
       "      <td>24.108268</td>\n",
       "      <td>4872.379375</td>\n",
       "      <td>13.729886</td>\n",
       "      <td>1.952946</td>\n",
       "    </tr>\n",
       "    <tr>\n",
       "      <th>98</th>\n",
       "      <td>0.209778</td>\n",
       "      <td>24.373232</td>\n",
       "      <td>5547.875211</td>\n",
       "      <td>13.716270</td>\n",
       "      <td>1.976481</td>\n",
       "    </tr>\n",
       "    <tr>\n",
       "      <th>99</th>\n",
       "      <td>0.096445</td>\n",
       "      <td>24.490525</td>\n",
       "      <td>4804.775976</td>\n",
       "      <td>13.754168</td>\n",
       "      <td>1.955593</td>\n",
       "    </tr>\n",
       "  </tbody>\n",
       "</table>\n",
       "<p>100 rows × 5 columns</p>\n",
       "</div>"
      ],
      "text/plain": [
       "        NDVI  Temperature     Rainfall  Solar_Radiation  Wind_Speed\n",
       "0   0.187671    24.470470  4909.913465        13.751113    1.945148\n",
       "1   0.214327    24.437675  4634.208761        13.766753    1.937411\n",
       "2   0.268017    24.367409  5090.649848        13.723141    1.977536\n",
       "3   0.161434    24.490525  4767.635635        13.754168    1.955593\n",
       "4   0.311230    24.717309  4612.523756        13.791419    1.931006\n",
       "..       ...          ...          ...              ...         ...\n",
       "95  0.027727    24.212754  5556.561731        13.705800    1.958983\n",
       "96  0.189732    24.854562  4244.630192        13.872300    1.859600\n",
       "97  0.227532    24.108268  4872.379375        13.729886    1.952946\n",
       "98  0.209778    24.373232  5547.875211        13.716270    1.976481\n",
       "99  0.096445    24.490525  4804.775976        13.754168    1.955593\n",
       "\n",
       "[100 rows x 5 columns]"
      ]
     },
     "execution_count": 27,
     "metadata": {},
     "output_type": "execute_result"
    }
   ],
   "source": [
    "# Create dataframe\n",
    "df = pd.DataFrame({\n",
    "    'NDVI': [f['properties']['NDVI'] for f in sample_list],\n",
    "    'Temperature': [f['properties']['Temperature_C'] for f in sample_list],\n",
    "    'Rainfall': [f['properties']['Rainfall_mm'] for f in sample_list],\n",
    "    'Solar_Radiation': [f['properties']['Solar_MJ'] for f in sample_list],\n",
    "    'Wind_Speed': [f['properties']['Wind_Speed_ms'] for f in sample_list]\n",
    "})\n",
    "\n",
    "df"
   ]
  },
  {
   "cell_type": "code",
   "execution_count": 28,
   "id": "d5c06cdd",
   "metadata": {},
   "outputs": [
    {
     "data": {
      "text/html": [
       "\n",
       "            <style>\n",
       "                .geemap-dark {\n",
       "                    --jp-widgets-color: white;\n",
       "                    --jp-widgets-label-color: white;\n",
       "                    --jp-ui-font-color1: white;\n",
       "                    --jp-layout-color2: #454545;\n",
       "                    background-color: #383838;\n",
       "                }\n",
       "\n",
       "                .geemap-dark .jupyter-button {\n",
       "                    --jp-layout-color3: #383838;\n",
       "                }\n",
       "\n",
       "                .geemap-colab {\n",
       "                    background-color: var(--colab-primary-surface-color, white);\n",
       "                }\n",
       "\n",
       "                .geemap-colab .jupyter-button {\n",
       "                    --jp-layout-color3: var(--colab-primary-surface-color, white);\n",
       "                }\n",
       "            </style>\n",
       "            "
      ],
      "text/plain": [
       "<IPython.core.display.HTML object>"
      ]
     },
     "metadata": {},
     "output_type": "display_data"
    }
   ],
   "source": [
    "# Remove any rows with missing values\n",
    "df = df.dropna()\n",
    "\n"
   ]
  },
  {
   "cell_type": "code",
   "execution_count": 29,
   "id": "3cf841b2",
   "metadata": {},
   "outputs": [
    {
     "data": {
      "text/html": [
       "\n",
       "            <style>\n",
       "                .geemap-dark {\n",
       "                    --jp-widgets-color: white;\n",
       "                    --jp-widgets-label-color: white;\n",
       "                    --jp-ui-font-color1: white;\n",
       "                    --jp-layout-color2: #454545;\n",
       "                    background-color: #383838;\n",
       "                }\n",
       "\n",
       "                .geemap-dark .jupyter-button {\n",
       "                    --jp-layout-color3: #383838;\n",
       "                }\n",
       "\n",
       "                .geemap-colab {\n",
       "                    background-color: var(--colab-primary-surface-color, white);\n",
       "                }\n",
       "\n",
       "                .geemap-colab .jupyter-button {\n",
       "                    --jp-layout-color3: var(--colab-primary-surface-color, white);\n",
       "                }\n",
       "            </style>\n",
       "            "
      ],
      "text/plain": [
       "<IPython.core.display.HTML object>"
      ]
     },
     "metadata": {},
     "output_type": "display_data"
    }
   ],
   "source": [
    "# Calculate correlation matrix (numeric columns only)\n",
    "corr_matrix = df.corr()\n",
    "\n"
   ]
  },
  {
   "cell_type": "code",
   "execution_count": 30,
   "id": "78ef7788",
   "metadata": {},
   "outputs": [
    {
     "data": {
      "text/html": [
       "\n",
       "            <style>\n",
       "                .geemap-dark {\n",
       "                    --jp-widgets-color: white;\n",
       "                    --jp-widgets-label-color: white;\n",
       "                    --jp-ui-font-color1: white;\n",
       "                    --jp-layout-color2: #454545;\n",
       "                    background-color: #383838;\n",
       "                }\n",
       "\n",
       "                .geemap-dark .jupyter-button {\n",
       "                    --jp-layout-color3: #383838;\n",
       "                }\n",
       "\n",
       "                .geemap-colab {\n",
       "                    background-color: var(--colab-primary-surface-color, white);\n",
       "                }\n",
       "\n",
       "                .geemap-colab .jupyter-button {\n",
       "                    --jp-layout-color3: var(--colab-primary-surface-color, white);\n",
       "                }\n",
       "            </style>\n",
       "            "
      ],
      "text/plain": [
       "<IPython.core.display.HTML object>"
      ]
     },
     "metadata": {},
     "output_type": "display_data"
    },
    {
     "name": "stdout",
     "output_type": "stream",
     "text": [
      "Summary Statistics:\n",
      "             NDVI  Temperature     Rainfall  Solar_Radiation  Wind_Speed\n",
      "count  100.000000   100.000000   100.000000       100.000000  100.000000\n",
      "mean     0.202720    24.388786  4815.667937        13.759360    1.940398\n",
      "std      0.061564     0.242038   475.170787         0.046217    0.028113\n",
      "min      0.027727    23.985944  4146.472812        13.693964    1.858306\n",
      "25%      0.172247    24.208628  4406.448062        13.720199    1.924544\n",
      "50%      0.209778    24.373232  4789.507221        13.754168    1.947645\n",
      "75%      0.242778    24.490525  5124.340527        13.782977    1.958983\n",
      "max      0.376364    24.915944  5914.994488        13.881196    1.977536\n"
     ]
    }
   ],
   "source": [
    "# Print results\n",
    "print(\"Summary Statistics:\")\n",
    "print(df.describe())\n",
    "\n"
   ]
  },
  {
   "cell_type": "code",
   "execution_count": 31,
   "id": "f8427c32",
   "metadata": {},
   "outputs": [
    {
     "data": {
      "text/html": [
       "\n",
       "            <style>\n",
       "                .geemap-dark {\n",
       "                    --jp-widgets-color: white;\n",
       "                    --jp-widgets-label-color: white;\n",
       "                    --jp-ui-font-color1: white;\n",
       "                    --jp-layout-color2: #454545;\n",
       "                    background-color: #383838;\n",
       "                }\n",
       "\n",
       "                .geemap-dark .jupyter-button {\n",
       "                    --jp-layout-color3: #383838;\n",
       "                }\n",
       "\n",
       "                .geemap-colab {\n",
       "                    background-color: var(--colab-primary-surface-color, white);\n",
       "                }\n",
       "\n",
       "                .geemap-colab .jupyter-button {\n",
       "                    --jp-layout-color3: var(--colab-primary-surface-color, white);\n",
       "                }\n",
       "            </style>\n",
       "            "
      ],
      "text/plain": [
       "<IPython.core.display.HTML object>"
      ]
     },
     "metadata": {},
     "output_type": "display_data"
    },
    {
     "name": "stdout",
     "output_type": "stream",
     "text": [
      "\n",
      "Correlation Matrix:\n",
      "                     NDVI  Temperature  Rainfall  Solar_Radiation  Wind_Speed\n",
      "NDVI             1.000000    -0.105293 -0.038536         0.030438   -0.063079\n",
      "Temperature     -0.105293     1.000000 -0.646370         0.822088   -0.666171\n",
      "Rainfall        -0.038536    -0.646370  1.000000        -0.901870    0.795202\n",
      "Solar_Radiation  0.030438     0.822088 -0.901870         1.000000   -0.930133\n",
      "Wind_Speed      -0.063079    -0.666171  0.795202        -0.930133    1.000000\n"
     ]
    }
   ],
   "source": [
    "print(\"\\nCorrelation Matrix:\")\n",
    "print(corr_matrix)\n",
    "\n",
    "\n"
   ]
  },
  {
   "cell_type": "code",
   "execution_count": 32,
   "id": "fba0cf72",
   "metadata": {},
   "outputs": [
    {
     "data": {
      "text/html": [
       "\n",
       "            <style>\n",
       "                .geemap-dark {\n",
       "                    --jp-widgets-color: white;\n",
       "                    --jp-widgets-label-color: white;\n",
       "                    --jp-ui-font-color1: white;\n",
       "                    --jp-layout-color2: #454545;\n",
       "                    background-color: #383838;\n",
       "                }\n",
       "\n",
       "                .geemap-dark .jupyter-button {\n",
       "                    --jp-layout-color3: #383838;\n",
       "                }\n",
       "\n",
       "                .geemap-colab {\n",
       "                    background-color: var(--colab-primary-surface-color, white);\n",
       "                }\n",
       "\n",
       "                .geemap-colab .jupyter-button {\n",
       "                    --jp-layout-color3: var(--colab-primary-surface-color, white);\n",
       "                }\n",
       "            </style>\n",
       "            "
      ],
      "text/plain": [
       "<IPython.core.display.HTML object>"
      ]
     },
     "metadata": {},
     "output_type": "display_data"
    },
    {
     "data": {
      "application/vnd.jupyter.widget-view+json": {
       "model_id": "ac3e38175f8448f7a87431c06451d54c",
       "version_major": 2,
       "version_minor": 0
      },
      "text/plain": [
       "Map(center=[20.5937, 78.9629], controls=(WidgetControl(options=['position', 'transparent_bg'], widget=SearchDa…"
      ]
     },
     "execution_count": 32,
     "metadata": {},
     "output_type": "execute_result"
    }
   ],
   "source": [
    "# Create map visualization\n",
    "Map = geemap.Map(center=[20.5937, 78.9629], zoom=5)\n",
    "Map.addLayer(ndvi_median, {'min': 0, 'max': 1, 'palette': ['brown', 'yellow', 'green']}, 'NDVI')\n",
    "Map.addLayer(temp_c, {'min': 10, 'max': 50, 'palette': ['blue', 'white', 'red']}, 'Temperature (°C)')\n",
    "Map.addLayer(rain_total, {'min': 0, 'max': 5000, 'palette': ['white', 'blue', 'darkblue']}, 'Total Rainfall (mm)')\n",
    "Map.addLayerControl()\n",
    "Map"
   ]
  },
  {
   "cell_type": "code",
   "execution_count": 39,
   "id": "ac05ebe5",
   "metadata": {},
   "outputs": [
    {
     "data": {
      "text/html": [
       "\n",
       "            <style>\n",
       "                .geemap-dark {\n",
       "                    --jp-widgets-color: white;\n",
       "                    --jp-widgets-label-color: white;\n",
       "                    --jp-ui-font-color1: white;\n",
       "                    --jp-layout-color2: #454545;\n",
       "                    background-color: #383838;\n",
       "                }\n",
       "\n",
       "                .geemap-dark .jupyter-button {\n",
       "                    --jp-layout-color3: #383838;\n",
       "                }\n",
       "\n",
       "                .geemap-colab {\n",
       "                    background-color: var(--colab-primary-surface-color, white);\n",
       "                }\n",
       "\n",
       "                .geemap-colab .jupyter-button {\n",
       "                    --jp-layout-color3: var(--colab-primary-surface-color, white);\n",
       "                }\n",
       "            </style>\n",
       "            "
      ],
      "text/plain": [
       "<IPython.core.display.HTML object>"
      ]
     },
     "metadata": {},
     "output_type": "display_data"
    },
    {
     "data": {
      "image/png": "[encoded data removed]",
      "text/plain": [
       "<Figure size 2000x1500 with 4 Axes>"
      ]
     },
     "metadata": {},
     "output_type": "display_data"
    },
    {
     "data": {
      "image/png": "[encoded data removed]",
      "text/plain": [
       "<Figure size 1500x600 with 2 Axes>"
      ]
     },
     "metadata": {},
     "output_type": "display_data"
    }
   ],
   "source": [
    "sns.set_theme(style=\"whitegrid\")\n",
    "\n",
    "# --- Correlations ---\n",
    "corr_temp = stats.pearsonr(df['NDVI'], df['Temperature'])[0]\n",
    "corr_rain = stats.pearsonr(df['NDVI'], df['Rainfall'])[0] if df['Rainfall'].std() > 0 else np.nan\n",
    "corr_solar = stats.pearsonr(df['NDVI'], df['Solar_Radiation'])[0]\n",
    "corr_wind = stats.pearsonr(df['NDVI'], df['Wind_Speed'])[0]\n",
    "\n",
    "# --- Scatterplots with regression line ---\n",
    "fig, axes = plt.subplots(2, 2, figsize=(20, 15))\n",
    "\n",
    "# 1. NDVI vs Temperature\n",
    "sns.regplot(x='Temperature', y='NDVI', data=df, scatter_kws={'alpha':0.5}, ax=axes[0,0], line_kws={'color':'red'})\n",
    "axes[0,0].set_title(f'NDVI vs Temperature (r = {corr_temp:.2f})', fontsize=14)\n",
    "axes[0,0].set_xlabel('Temperature (°C)', fontsize=12)\n",
    "axes[0,0].set_ylabel('NDVI', fontsize=12)\n",
    "\n",
    "# 2. NDVI vs Rainfall\n",
    "sns.regplot(x='Rainfall', y='NDVI', data=df, scatter_kws={'alpha':0.5}, ax=axes[0,1], line_kws={'color':'red'})\n",
    "if df['Rainfall'].std() > 0:\n",
    "    axes[0,1].set_title(f'NDVI vs Rainfall (r = {corr_rain:.2f})', fontsize=14)\n",
    "else:\n",
    "    axes[0,1].set_title('NDVI vs Rainfall (No Variation)', fontsize=14)\n",
    "axes[0,1].set_xlabel('Rainfall (mm)', fontsize=12)\n",
    "axes[0,1].set_ylabel('NDVI', fontsize=12)\n",
    "\n",
    "# 3. NDVI vs Solar Radiation\n",
    "sns.regplot(x='Solar_Radiation', y='NDVI', data=df, scatter_kws={'alpha':0.5}, ax=axes[1,0], line_kws={'color':'red'})\n",
    "axes[1,0].set_title(f'NDVI vs Solar Radiation (r = {corr_solar:.2f})', fontsize=14)\n",
    "axes[1,0].set_xlabel('Solar Radiation (MJ/m²)', fontsize=12)\n",
    "axes[1,0].set_ylabel('NDVI', fontsize=12)\n",
    "\n",
    "# 4. NDVI vs Wind Speed\n",
    "sns.regplot(x='Wind_Speed', y='NDVI', data=df, scatter_kws={'alpha':0.5}, ax=axes[1,1], line_kws={'color':'red'})\n",
    "axes[1,1].set_title(f'NDVI vs Wind Speed (r = {corr_wind:.2f})', fontsize=14)\n",
    "axes[1,1].set_xlabel('Wind Speed (m/s)', fontsize=12)\n",
    "axes[1,1].set_ylabel('NDVI', fontsize=12)\n",
    "\n",
    "plt.tight_layout()\n",
    "plt.savefig('ndvi_weather_relationships_seaborn.png', dpi=300, bbox_inches='tight')\n",
    "plt.show()\n",
    "\n",
    "# --- Boxplots ---\n",
    "\n",
    "plt.figure(figsize=(15, 6))\n",
    "\n",
    "# Create temperature category\n",
    "df['Temp_Category'] = pd.qcut(df['Temperature'], 4, labels=['Cool', 'Mild', 'Warm', 'Hot'])\n",
    "\n",
    "# 1. Boxplot for Temperature Category\n",
    "ax1 = plt.subplot(1, 2, 1)\n",
    "sns.boxplot(x='Temp_Category', y='NDVI', data=df, palette='coolwarm', ax=ax1)\n",
    "ax1.set_title('NDVI Distribution by Temperature', fontsize=14)\n",
    "ax1.set_xlabel('Temperature Category', fontsize=12)\n",
    "ax1.set_ylabel('NDVI', fontsize=12)\n",
    "\n",
    "# 2. Boxplot for Rainfall Category\n",
    "ax2 = plt.subplot(1, 2, 2)\n",
    "if df['Rainfall'].std() > 0:\n",
    "    try:\n",
    "        df['Rain_Category'] = pd.qcut(df['Rainfall'], 4, labels=['Dry', 'Low', 'Moderate', 'Wet'])\n",
    "        sns.boxplot(x='Rain_Category', y='NDVI', data=df, palette='Blues', ax=ax2)\n",
    "        ax2.set_title('NDVI Distribution by Rainfall', fontsize=14)\n",
    "        ax2.set_xlabel('Rainfall Category', fontsize=12)\n",
    "        ax2.set_ylabel('NDVI', fontsize=12)\n",
    "    except Exception as e:\n",
    "        ax2.text(0.5, 0.5, f'Error: {str(e)}', ha='center', va='center', fontsize=12)\n",
    "        ax2.set_xticks([])\n",
    "        ax2.set_yticks([])\n",
    "else:\n",
    "    ax2.text(0.5, 0.5, 'No Rainfall Variation Detected', ha='center', va='center', fontsize=12)\n",
    "    ax2.set_xticks([])\n",
    "    ax2.set_yticks([])\n",
    "\n",
    "plt.tight_layout()\n",
    "plt.savefig('ndvi_boxplots_seaborn.png', dpi=300, bbox_inches='tight')\n",
    "plt.show()\n",
    "\n",
    "# --- Cleanup ---\n",
    "df.drop(columns=['Temp_Category', 'Rain_Category'], errors='ignore', inplace=True)\n"
   ]
  }
 ],
 "metadata": {
  "kernelspec": {
   "display_name": ".venv",
   "language": "python",
   "name": "python3"
  },
  "language_info": {
   "codemirror_mode": {
    "name": "ipython",
    "version": 3
   },
   "file_extension": ".py",
   "mimetype": "text/x-python",
   "name": "python",
   "nbconvert_exporter": "python",
   "pygments_lexer": "ipython3",
   "version": "3.12.3"
  }
 },
 "nbformat": 4,
 "nbformat_minor": 5
}
